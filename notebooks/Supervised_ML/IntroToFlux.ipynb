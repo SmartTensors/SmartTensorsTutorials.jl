{
 "cells": [
  {
   "cell_type": "markdown",
   "metadata": {},
   "source": [
    "Notebook on Supervised Machine Learning\n",
    "---\n",
    "https://fluxml.ai/Flux.jl/stable/\n",
    "\n",
    "**Flux is a 100% pure Julia library** for deep learning, that is increasingly very capable. Most other popular libraries are in Python, though the numerically intensive parts are written in C,C++ or CUDA.\n",
    "\n",
    "Flux keeps it simple. The whole library is written in a language that is understandable and minimal confusion from  boilerplate code that acts as an \"interaction module\" between two different languages. This makes Flux and extremely powerful platform to innovate on."
   ]
  },
  {
   "cell_type": "code",
   "execution_count": 1,
   "metadata": {},
   "outputs": [],
   "source": [
    "import Flux"
   ]
  },
  {
   "cell_type": "markdown",
   "metadata": {},
   "source": [
    "Flux internally calls powerful automatic differentiation (AD) libraries such Zygote and ChainRules that enable differentiation of arbitrary functions.\n",
    "\n",
    "As an example, lets define a function"
   ]
  },
  {
   "cell_type": "code",
   "execution_count": 2,
   "metadata": {},
   "outputs": [
    {
     "data": {
      "text/plain": [
       "f (generic function with 1 method)"
      ]
     },
     "execution_count": 2,
     "metadata": {},
     "output_type": "execute_result"
    }
   ],
   "source": [
    "f(x) = 3x^2 + 2x + 1"
   ]
  },
  {
   "cell_type": "code",
   "execution_count": 3,
   "metadata": {},
   "outputs": [
    {
     "data": {
      "text/plain": [
       "6"
      ]
     },
     "execution_count": 3,
     "metadata": {},
     "output_type": "execute_result"
    }
   ],
   "source": [
    "f(1)"
   ]
  },
  {
   "cell_type": "markdown",
   "metadata": {},
   "source": [
    "We can now compute a derivative of the function using Flux.gradient function"
   ]
  },
  {
   "cell_type": "code",
   "execution_count": 4,
   "metadata": {},
   "outputs": [
    {
     "data": {
      "text/plain": [
       "df (generic function with 1 method)"
      ]
     },
     "execution_count": 4,
     "metadata": {},
     "output_type": "execute_result"
    }
   ],
   "source": [
    "df(x) = Flux.gradient(f,x)[1]"
   ]
  },
  {
   "cell_type": "code",
   "execution_count": 5,
   "metadata": {},
   "outputs": [
    {
     "data": {
      "text/plain": [
       "8.0"
      ]
     },
     "execution_count": 5,
     "metadata": {},
     "output_type": "execute_result"
    }
   ],
   "source": [
    "df(1)"
   ]
  },
  {
   "cell_type": "markdown",
   "metadata": {},
   "source": [
    "We can also compute a 2nd derivative of the same function:"
   ]
  },
  {
   "cell_type": "code",
   "execution_count": 6,
   "metadata": {},
   "outputs": [
    {
     "data": {
      "text/plain": [
       "d2f (generic function with 1 method)"
      ]
     },
     "execution_count": 6,
     "metadata": {},
     "output_type": "execute_result"
    }
   ],
   "source": [
    "d2f(x) = Flux.gradient(df,x)[1]"
   ]
  },
  {
   "cell_type": "code",
   "execution_count": 7,
   "metadata": {},
   "outputs": [
    {
     "data": {
      "text/plain": [
       "6.0"
      ]
     },
     "execution_count": 7,
     "metadata": {},
     "output_type": "execute_result"
    }
   ],
   "source": [
    "d2f(1)"
   ]
  },
  {
   "cell_type": "markdown",
   "metadata": {},
   "source": [
    "**Note**: Flux internally imports the *gradient* function from Zygote. So if we want more customized gradient behavior, we can write it directly in Zygote and use it in Flux code. It will play well seamlessly."
   ]
  },
  {
   "cell_type": "code",
   "execution_count": 8,
   "metadata": {},
   "outputs": [],
   "source": [
    "loss(x,W,b) = sum(W*x + b)\n",
    "\n",
    "x = rand(5);\n",
    "W = randn(3,5);\n",
    "b = rand(3);"
   ]
  },
  {
   "cell_type": "code",
   "execution_count": 9,
   "metadata": {},
   "outputs": [
    {
     "data": {
      "text/plain": [
       "0.7787114970970999"
      ]
     },
     "execution_count": 9,
     "metadata": {},
     "output_type": "execute_result"
    }
   ],
   "source": [
    "loss(x,W,b)"
   ]
  },
  {
   "cell_type": "markdown",
   "metadata": {},
   "source": [
    "Here we have defined a loss function, and some \"dummy\" input x, with parameters W and b.\n",
    "We can compute the gradients of the parameters with respect to loss!"
   ]
  },
  {
   "cell_type": "code",
   "execution_count": 10,
   "metadata": {},
   "outputs": [
    {
     "data": {
      "text/plain": [
       "3-element Vector{Float64}:\n",
       "  0.6019391103022558\n",
       " -0.6210176395722369\n",
       "  0.797790026367081"
      ]
     },
     "execution_count": 10,
     "metadata": {},
     "output_type": "execute_result"
    }
   ],
   "source": [
    "W*x + b"
   ]
  },
  {
   "cell_type": "code",
   "execution_count": 11,
   "metadata": {},
   "outputs": [
    {
     "data": {
      "text/plain": [
       "([-0.7508029092587667, 1.5712926425104774, -2.1883718522309934, -0.07934216680197315, 1.8424321979533858], [0.9635529035428061 0.4723334059313018 … 0.2709275027856839 0.4229057430533192; 0.9635529035428061 0.4723334059313018 … 0.2709275027856839 0.4229057430533192; 0.9635529035428061 0.4723334059313018 … 0.2709275027856839 0.4229057430533192], 3-element Fill{Float64}: entries equal to 1.0)"
      ]
     },
     "execution_count": 11,
     "metadata": {},
     "output_type": "execute_result"
    }
   ],
   "source": [
    "out = Flux.gradient(loss, x, W, b)"
   ]
  },
  {
   "cell_type": "code",
   "execution_count": 12,
   "metadata": {},
   "outputs": [
    {
     "data": {
      "text/plain": [
       "Tuple{Vector{Float64}, Matrix{Float64}, FillArrays.Fill{Float64, 1, Tuple{Base.OneTo{Int64}}}}"
      ]
     },
     "execution_count": 12,
     "metadata": {},
     "output_type": "execute_result"
    }
   ],
   "source": [
    "typeof(out)"
   ]
  },
  {
   "cell_type": "code",
   "execution_count": 13,
   "metadata": {},
   "outputs": [
    {
     "data": {
      "text/plain": [
       "5-element Vector{Float64}:\n",
       " -0.7508029092587667\n",
       "  1.5712926425104774\n",
       " -2.1883718522309934\n",
       " -0.07934216680197315\n",
       "  1.8424321979533858"
      ]
     },
     "execution_count": 13,
     "metadata": {},
     "output_type": "execute_result"
    }
   ],
   "source": [
    "out[1]"
   ]
  },
  {
   "cell_type": "code",
   "execution_count": 14,
   "metadata": {},
   "outputs": [
    {
     "data": {
      "text/plain": [
       "3×5 Matrix{Float64}:\n",
       " 0.963553  0.472333  0.600576  0.270928  0.422906\n",
       " 0.963553  0.472333  0.600576  0.270928  0.422906\n",
       " 0.963553  0.472333  0.600576  0.270928  0.422906"
      ]
     },
     "execution_count": 14,
     "metadata": {},
     "output_type": "execute_result"
    }
   ],
   "source": [
    "out[2]"
   ]
  },
  {
   "cell_type": "code",
   "execution_count": 15,
   "metadata": {},
   "outputs": [
    {
     "data": {
      "text/plain": [
       "3-element Fill{Float64}: entries equal to 1.0"
      ]
     },
     "execution_count": 15,
     "metadata": {},
     "output_type": "execute_result"
    }
   ],
   "source": [
    "out[3]"
   ]
  },
  {
   "cell_type": "markdown",
   "metadata": {},
   "source": [
    "Therefore, the gradient computation gives a Tuple of size 3, with the derivative of the loss with respect to each \n",
    "variable.\n",
    "\n",
    "Since this is explicit passing of arguments, this can be cumbersome for neural networks that have a large number of parameters. Flux allows us to abstract this away with the *params* function.\n",
    "\n",
    "Here, the *params* automatically extracts the parameters in a model and implicitly passes it to the *gradient* function call"
   ]
  },
  {
   "cell_type": "code",
   "execution_count": 16,
   "metadata": {},
   "outputs": [
    {
     "data": {
      "text/plain": [
       "Grads(...)"
      ]
     },
     "execution_count": 16,
     "metadata": {},
     "output_type": "execute_result"
    }
   ],
   "source": [
    "model(x) = sum(W*x .+ b)\n",
    "grads = Flux.gradient(()->model(x), Flux.params([W, b]))"
   ]
  },
  {
   "cell_type": "code",
   "execution_count": 17,
   "metadata": {},
   "outputs": [
    {
     "data": {
      "text/plain": [
       "3×5 Matrix{Float64}:\n",
       " 0.963553  0.472333  0.600576  0.270928  0.422906\n",
       " 0.963553  0.472333  0.600576  0.270928  0.422906\n",
       " 0.963553  0.472333  0.600576  0.270928  0.422906"
      ]
     },
     "execution_count": 17,
     "metadata": {},
     "output_type": "execute_result"
    }
   ],
   "source": [
    "grads[W]"
   ]
  },
  {
   "cell_type": "code",
   "execution_count": 18,
   "metadata": {},
   "outputs": [
    {
     "data": {
      "text/plain": [
       "3-element Fill{Float64}: entries equal to 1.0"
      ]
     },
     "execution_count": 18,
     "metadata": {},
     "output_type": "execute_result"
    }
   ],
   "source": [
    "grads[b]"
   ]
  },
  {
   "cell_type": "markdown",
   "metadata": {},
   "source": [
    "Lets explore the rest of the training workflow. We generate some \"dummy\" data for ground truth $\\hat{y}$ ."
   ]
  },
  {
   "cell_type": "code",
   "execution_count": 19,
   "metadata": {},
   "outputs": [
    {
     "data": {
      "text/plain": [
       "3-element Vector{Float64}:\n",
       " 0.88167292372511\n",
       " 0.708295264149122\n",
       " 0.6385495471693718"
      ]
     },
     "execution_count": 19,
     "metadata": {},
     "output_type": "execute_result"
    }
   ],
   "source": [
    "ŷ = rand(3)"
   ]
  },
  {
   "cell_type": "markdown",
   "metadata": {},
   "source": [
    "We first define an optimizer: Flux has several in-built optimizers. Here, we use the classic Gradient Descent algorithm, with a learning rate $\\alpha = 0.1$ passed as an argument.\n",
    "\n",
    "More optimizers, such as ADAM and AdaDelta are available. More details: https://fluxml.ai/Flux.jl/stable/training/optimisers/#Optimiser-Reference"
   ]
  },
  {
   "cell_type": "code",
   "execution_count": 32,
   "metadata": {},
   "outputs": [
    {
     "data": {
      "text/plain": [
       "Flux.Optimise.Descent(0.1)"
      ]
     },
     "execution_count": 32,
     "metadata": {},
     "output_type": "execute_result"
    }
   ],
   "source": [
    "opt = Flux.Descent(0.1)"
   ]
  },
  {
   "cell_type": "markdown",
   "metadata": {},
   "source": [
    "We now define a loss function manually to demonstrate the flexibility (since scientific ML often uses custom loss functions). However, Flux has its own predefined set of commonly used losses, such as MSE. More details here: https://fluxml.ai/Flux.jl/stable/models/losses/"
   ]
  },
  {
   "cell_type": "code",
   "execution_count": 33,
   "metadata": {},
   "outputs": [
    {
     "data": {
      "text/plain": [
       "loss (generic function with 2 methods)"
      ]
     },
     "execution_count": 33,
     "metadata": {},
     "output_type": "execute_result"
    }
   ],
   "source": [
    "function loss(x, ŷ)\n",
    "  y = model(x)\n",
    "  sum((y .- ŷ).^2)\n",
    "end"
   ]
  },
  {
   "cell_type": "markdown",
   "metadata": {},
   "source": [
    "Finally, we create the supervised learning training dataset pair with $x$ and $\\hat{y}$ and train with the *Flux.train* function. Each call of this function performs gradient descent and optimization for just 1 epoch.\n",
    "\n",
    "We can put this function in a for loop or use the *@epochs* macro - which we will see in a complete example in the MNIST notebook"
   ]
  },
  {
   "cell_type": "code",
   "execution_count": 39,
   "metadata": {},
   "outputs": [],
   "source": [
    "data = zip(x,ŷ)\n",
    "\n",
    "Flux.train!(loss, Flux.params(model), data, opt)"
   ]
  },
  {
   "cell_type": "code",
   "execution_count": 37,
   "metadata": {},
   "outputs": [],
   "source": [
    "training_outputs"
   ]
  },
  {
   "cell_type": "markdown",
   "metadata": {},
   "source": [
    "## Flux Layers\n",
    "\n",
    "Apart from AD, an integral part of a good ML framework is predefined layers. We look at some of them now, with other notebooks to demonstrate it in action."
   ]
  },
  {
   "cell_type": "markdown",
   "metadata": {},
   "source": [
    "#### Dense layers\n",
    "\n",
    "The classic, fully-connected neural network layer. Flux also provides ready access to various activation functions.\n",
    "\n",
    "**Note**: Lot of the \"primitive\" operations are provided by Julia NNlib.jl library, which is part of FluxML family and is also 100% pure Julia. It has activation functions, primitive convolution and other helper functions. Flux uses these to build higher level operations, such as layers"
   ]
  },
  {
   "cell_type": "code",
   "execution_count": 24,
   "metadata": {},
   "outputs": [
    {
     "data": {
      "text/plain": [
       "Dense(5, 5, tanh)   \u001b[90m# 30 parameters\u001b[39m"
      ]
     },
     "execution_count": 24,
     "metadata": {},
     "output_type": "execute_result"
    }
   ],
   "source": [
    "layer1 = Flux.Dense(5, 5, tanh)"
   ]
  },
  {
   "cell_type": "markdown",
   "metadata": {},
   "source": [
    "25 Weight params + 5 bias params = 30 total trainable parameters\n",
    "\n",
    "We can also define a vector of layers, with each element containing a Dense layer and/or activation function"
   ]
  },
  {
   "cell_type": "code",
   "execution_count": 25,
   "metadata": {},
   "outputs": [
    {
     "data": {
      "text/plain": [
       "3-element Vector{Any}:\n",
       " Dense(5, 10, σ)     \u001b[90m# 60 parameters\u001b[39m\n",
       " Dense(10, 2)        \u001b[90m# 22 parameters\u001b[39m\n",
       " softmax (generic function with 2 methods)"
      ]
     },
     "execution_count": 25,
     "metadata": {},
     "output_type": "execute_result"
    }
   ],
   "source": [
    "layers = [Flux.Dense(5, 10, Flux.sigmoid), Flux.Dense(10, 2), Flux.softmax]"
   ]
  },
  {
   "cell_type": "markdown",
   "metadata": {},
   "source": [
    "We can pass arguments through each element to compute the layer output.."
   ]
  },
  {
   "cell_type": "code",
   "execution_count": 31,
   "metadata": {},
   "outputs": [
    {
     "data": {
      "text/plain": [
       "5-element Vector{Float64}:\n",
       " 0.9635529035428061\n",
       " 0.4723334059313018\n",
       " 0.6005761070834574\n",
       " 0.2709275027856839\n",
       " 0.4229057430533192"
      ]
     },
     "execution_count": 31,
     "metadata": {},
     "output_type": "execute_result"
    }
   ],
   "source": [
    "x"
   ]
  },
  {
   "cell_type": "code",
   "execution_count": 26,
   "metadata": {},
   "outputs": [
    {
     "data": {
      "text/plain": [
       "5-element Vector{Float64}:\n",
       "  0.27753073347154505\n",
       "  0.7792758399252536\n",
       " -0.26706347104574846\n",
       "  0.6301648124914196\n",
       " -0.15858799843246946"
      ]
     },
     "execution_count": 26,
     "metadata": {},
     "output_type": "execute_result"
    }
   ],
   "source": [
    "layer1(x)"
   ]
  },
  {
   "cell_type": "code",
   "execution_count": 27,
   "metadata": {},
   "outputs": [
    {
     "data": {
      "text/plain": [
       "10-element Vector{Float64}:\n",
       " 0.5163512907362315\n",
       " 0.35190944212016106\n",
       " 0.3671830367892445\n",
       " 0.4487145595513561\n",
       " 0.3977774532545742\n",
       " 0.7153587368407578\n",
       " 0.50402188470735\n",
       " 0.6417132227112197\n",
       " 0.5717857808149603\n",
       " 0.691745862998335"
      ]
     },
     "execution_count": 27,
     "metadata": {},
     "output_type": "execute_result"
    }
   ],
   "source": [
    "out1 = layers[1](x)"
   ]
  },
  {
   "cell_type": "code",
   "execution_count": 28,
   "metadata": {},
   "outputs": [
    {
     "data": {
      "text/plain": [
       "2-element Vector{Float64}:\n",
       " -0.5806927900448918\n",
       " -1.1576732660403926"
      ]
     },
     "execution_count": 28,
     "metadata": {},
     "output_type": "execute_result"
    }
   ],
   "source": [
    "out2 = layers[2](out1)"
   ]
  },
  {
   "cell_type": "code",
   "execution_count": 29,
   "metadata": {},
   "outputs": [
    {
     "data": {
      "text/plain": [
       "2-element Vector{Float64}:\n",
       " 0.6403723183519632\n",
       " 0.3596276816480369"
      ]
     },
     "execution_count": 29,
     "metadata": {},
     "output_type": "execute_result"
    }
   ],
   "source": [
    "out3 = layers[3](out2)"
   ]
  },
  {
   "cell_type": "markdown",
   "metadata": {},
   "source": [
    "Note that this is not the only way to do multiple layers. In practice, we use Flux built-in *Chain* utility that packages these layers such that the outputs of each feed into the next layers as inputs."
   ]
  },
  {
   "cell_type": "code",
   "execution_count": 30,
   "metadata": {},
   "outputs": [
    {
     "data": {
      "text/plain": [
       "Chain(\n",
       "  Dense(5, 10, σ),                      \u001b[90m# 60 parameters\u001b[39m\n",
       "  Dense(10, 2),                         \u001b[90m# 22 parameters\u001b[39m\n",
       "  NNlib.softmax,\n",
       ")\u001b[90m                   # Total: 4 arrays, \u001b[39m82 parameters, 584 bytes."
      ]
     },
     "execution_count": 30,
     "metadata": {},
     "output_type": "execute_result"
    }
   ],
   "source": [
    "m = Flux.Chain(Flux.Dense(5, 10, Flux.sigmoid), Flux.Dense(10, 2), Flux.softmax)"
   ]
  },
  {
   "cell_type": "code",
   "execution_count": 105,
   "metadata": {},
   "outputs": [
    {
     "data": {
      "text/plain": [
       "2-element Vector{Float64}:\n",
       " 0.08627275302705718\n",
       " 0.9137272469729427"
      ]
     },
     "execution_count": 105,
     "metadata": {},
     "output_type": "execute_result"
    }
   ],
   "source": [
    "out_chain = m(x)"
   ]
  },
  {
   "cell_type": "markdown",
   "metadata": {},
   "source": [
    "#### Convolutional Layers"
   ]
  },
  {
   "cell_type": "markdown",
   "metadata": {},
   "source": [
    "Flux provides Convolutional Layers where we can set a) Kernel size b) Channels c) Padding d) Activation function"
   ]
  },
  {
   "cell_type": "code",
   "execution_count": 108,
   "metadata": {},
   "outputs": [],
   "source": [
    "convlayer = Flux.Conv((3,3), 1 => 1, pad=1, Flux.relu);"
   ]
  },
  {
   "cell_type": "markdown",
   "metadata": {},
   "source": [
    "Kernel size = 3 x 3\n",
    "\n",
    "Input channels = 1\n",
    "\n",
    "output channels = 1\n",
    "\n",
    "padding for domain = 1\n",
    "\n",
    "Activation function = ReLU"
   ]
  },
  {
   "cell_type": "code",
   "execution_count": 106,
   "metadata": {},
   "outputs": [
    {
     "data": {
      "text/plain": [
       "10×10×1×1 Array{Float32, 4}:\n",
       "[:, :, 1, 1] =\n",
       " -0.947454     1.16128     0.344419   …  -0.844508  -1.70192    0.22581\n",
       "  0.00169597   1.42804    -2.00583        1.26896   -1.06014    2.82868\n",
       " -1.44         1.65566     0.716816      -1.58284    0.617037   0.0237813\n",
       "  0.993203    -0.0195919  -1.71427       -0.406362   2.06349    0.195197\n",
       " -0.929576    -1.15719    -0.116402      -0.459073   0.961306  -0.673349\n",
       "  0.201978     0.524269   -0.842834   …  -0.536494   0.697359   0.313987\n",
       "  0.646302    -1.63392    -0.0548294     -0.162385  -0.287026  -1.63558\n",
       "  0.433773     0.804713    0.814234      -0.241869  -2.66339    0.836067\n",
       "  0.447325     0.126156   -0.140827       0.47284   -1.68723    0.604225\n",
       " -0.269321     2.09095     0.528654      -0.777938  -0.173061  -0.229951"
      ]
     },
     "execution_count": 106,
     "metadata": {},
     "output_type": "execute_result"
    }
   ],
   "source": [
    "xmatrix = Float32.(randn(10,10,1,1))"
   ]
  },
  {
   "cell_type": "code",
   "execution_count": 107,
   "metadata": {},
   "outputs": [
    {
     "data": {
      "text/plain": [
       "10×10×1×1 Array{Float32, 4}:\n",
       "[:, :, 1, 1] =\n",
       " 0.0       0.554095  0.0        0.714402   …  0.303955   0.0       0.134419\n",
       " 0.482107  0.0       0.0        1.69384       0.0        0.509701  0.0\n",
       " 1.06477   0.0       0.979015   0.0           0.0        1.99877   0.0\n",
       " 1.5495    0.165541  1.84549    0.0           0.0        0.0       0.0\n",
       " 0.0       0.319931  0.289391   0.0           0.0942586  0.0       0.36402\n",
       " 0.0       0.0       0.0220556  1.18722    …  1.54803    0.47      0.879977\n",
       " 0.0       0.0       0.0        0.0           3.16579    0.557138  2.14885\n",
       " 0.0       0.0       0.0        0.0           1.72129    0.0       1.30886\n",
       " 0.0       0.0       0.2324     0.0           0.0        1.31942   0.0\n",
       " 0.397504  0.0       0.0        0.0361162     0.0        0.860682  0.0"
      ]
     },
     "execution_count": 107,
     "metadata": {},
     "output_type": "execute_result"
    }
   ],
   "source": [
    "out_conv = convlayer(xmatrix)"
   ]
  },
  {
   "cell_type": "markdown",
   "metadata": {},
   "source": [
    "Common issue: matrices are default Float64, while Flux layers use default Float32. This can cause inefficiences in training (and Flux will caution you). Make sure to explicitly cast type"
   ]
  }
 ],
 "metadata": {
  "kernelspec": {
   "display_name": "Julia 1.6.2",
   "language": "julia",
   "name": "julia-1.6"
  },
  "language_info": {
   "file_extension": ".jl",
   "mimetype": "application/julia",
   "name": "julia",
   "version": "1.6.2"
  }
 },
 "nbformat": 4,
 "nbformat_minor": 4
}
