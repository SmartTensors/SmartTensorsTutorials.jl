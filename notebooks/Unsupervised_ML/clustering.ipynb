{
 "cells": [
  {
   "cell_type": "markdown",
   "source": [
    "# Clustering\n",
    "\n",
    "## $k$-means clustering\n",
    "\n",
    "*$k$-means* is a classic method for clustering.\n",
    "\n",
    "$k$ is an integer number that produces a fixed number of cluster, which are associated with a center and each data point is assigned to a cluster.\n",
    "\n",
    "*$k$-means* solves the following optimization problem:\n",
    "$$\n",
    "\\mathrm{minimize} \\sum^{n}_{i=1} \\Vert( \\mathbf{x}_i - \\mathbf{\\mu}_{z_i} \\Vert^2)  \\quad \\mathrm{w.r.t} \\quad \\left(\\mathbf{\\mu}, z\\right)\n",
    "$$\n",
    "where $\\mu_k$ is the center of the $k^\\mathrm{th}$ cluster, $z_i$ is an index of the cluster for point $\\mathbf{x}_i$"
   ],
   "metadata": {}
  },
  {
   "cell_type": "markdown",
   "source": [
    "# Import required modules"
   ],
   "metadata": {}
  },
  {
   "cell_type": "code",
   "execution_count": 16,
   "source": [
    "import RDatasets, Clustering, Plots\n",
    "import Statistics, Distances\n",
    "Plots.plotly();"
   ],
   "outputs": [],
   "metadata": {}
  },
  {
   "cell_type": "markdown",
   "source": [
    "### Load `iris` dataset from R datasets"
   ],
   "metadata": {}
  },
  {
   "cell_type": "code",
   "execution_count": 17,
   "source": [
    "iris = RDatasets.dataset(\"datasets\", \"iris\");"
   ],
   "outputs": [],
   "metadata": {}
  },
  {
   "cell_type": "markdown",
   "source": [
    "### Select dataset for clustering"
   ],
   "metadata": {}
  },
  {
   "cell_type": "code",
   "execution_count": 18,
   "source": [
    "features = Matrix(iris[:, 1:4])'; # features to use for clustering"
   ],
   "outputs": [],
   "metadata": {}
  },
  {
   "cell_type": "markdown",
   "source": [
    "### Run clustering algorithm"
   ],
   "metadata": {}
  },
  {
   "cell_type": "code",
   "execution_count": 19,
   "source": [
    "result = Clustering.kmeans(features, 3); # run K-means for the 3 clusters"
   ],
   "outputs": [],
   "metadata": {}
  },
  {
   "cell_type": "markdown",
   "source": [
    "### Check if the number of clusters is the same as specified"
   ],
   "metadata": {}
  },
  {
   "cell_type": "code",
   "execution_count": 20,
   "source": [
    "@assert Clustering.nclusters(result) == 3"
   ],
   "outputs": [],
   "metadata": {}
  },
  {
   "cell_type": "markdown",
   "source": [
    "### Examine some basic features for $k$-meanus clustering"
   ],
   "metadata": {}
  },
  {
   "cell_type": "markdown",
   "source": [
    "### Center coordinates of the clusters"
   ],
   "metadata": {}
  },
  {
   "cell_type": "code",
   "execution_count": 21,
   "source": [
    "M = result.centers"
   ],
   "outputs": [
    {
     "output_type": "execute_result",
     "data": {
      "text/plain": [
       "4×3 Matrix{Float64}:\n",
       " 5.006  6.85385  5.88361\n",
       " 3.428  3.07692  2.74098\n",
       " 1.462  5.71538  4.38852\n",
       " 0.246  2.05385  1.43443"
      ]
     },
     "metadata": {},
     "execution_count": 21
    }
   ],
   "metadata": {}
  },
  {
   "cell_type": "markdown",
   "source": [
    "#### Cluster sizes: the number of data points for each cluster"
   ],
   "metadata": {}
  },
  {
   "cell_type": "code",
   "execution_count": 22,
   "source": [
    "size = Clustering.counts(result)"
   ],
   "outputs": [
    {
     "output_type": "execute_result",
     "data": {
      "text/plain": [
       "3-element Vector{Int64}:\n",
       " 50\n",
       " 39\n",
       " 61"
      ]
     },
     "metadata": {},
     "execution_count": 22
    }
   ],
   "metadata": {}
  },
  {
   "cell_type": "markdown",
   "source": [
    "#### Get the assignments of points to clusters"
   ],
   "metadata": {}
  },
  {
   "cell_type": "code",
   "execution_count": 23,
   "source": [
    "a = Clustering.assignments(result)"
   ],
   "outputs": [
    {
     "output_type": "execute_result",
     "data": {
      "text/plain": [
       "150-element Vector{Int64}:\n",
       " 1\n",
       " 1\n",
       " 1\n",
       " 1\n",
       " 1\n",
       " 1\n",
       " 1\n",
       " 1\n",
       " 1\n",
       " 1\n",
       " 1\n",
       " 1\n",
       " 1\n",
       " ⋮\n",
       " 3\n",
       " 2\n",
       " 2\n",
       " 2\n",
       " 3\n",
       " 2\n",
       " 2\n",
       " 2\n",
       " 3\n",
       " 2\n",
       " 2\n",
       " 3"
      ]
     },
     "metadata": {},
     "execution_count": 23
    }
   ],
   "metadata": {}
  },
  {
   "cell_type": "markdown",
   "source": [
    "### Plot with the point color mapped to the assigned cluster index"
   ],
   "metadata": {}
  },
  {
   "cell_type": "code",
   "execution_count": 24,
   "source": [
    "Plots.scatter(iris.PetalLength, iris.PetalWidth, marker_z=result.assignments,\n",
    "        color=:lightrainbow, legend=false)"
   ],
   "outputs": [
    {
     "output_type": "execute_result",
     "data": {
      "application/vnd.plotly.v1+json": {
       "layout": {
        "showlegend": false,
        "xaxis": {
         "showticklabels": true,
         "gridwidth": 0.5,
         "tickvals": [
          1,
          2,
          3,
          4,
          5,
          6,
          7
         ],
         "range": [
          0.823,
          7.077
         ],
         "domain": [
          0.05100612423447069,
          0.9934383202099737
         ],
         "mirror": false,
         "tickangle": 0,
         "showline": true,
         "ticktext": [
          "1",
          "2",
          "3",
          "4",
          "5",
          "6",
          "7"
         ],
         "zeroline": false,
         "tickfont": {
          "color": "rgba(0, 0, 0, 1.000)",
          "family": "sans-serif",
          "size": 11
         },
         "zerolinecolor": "rgba(0, 0, 0, 1.000)",
         "anchor": "y",
         "visible": true,
         "ticks": "inside",
         "tickmode": "array",
         "linecolor": "rgba(0, 0, 0, 1.000)",
         "showgrid": true,
         "title": "",
         "gridcolor": "rgba(0, 0, 0, 0.100)",
         "titlefont": {
          "color": "rgba(0, 0, 0, 1.000)",
          "family": "sans-serif",
          "size": 15
         },
         "tickcolor": "rgb(0, 0, 0)",
         "type": "-"
        },
        "paper_bgcolor": "rgba(255, 255, 255, 1.000)",
        "annotations": [],
        "height": 400,
        "margin": {
         "l": 0,
         "b": 20,
         "r": 0,
         "t": 20
        },
        "plot_bgcolor": "rgba(255, 255, 255, 1.000)",
        "yaxis": {
         "showticklabels": true,
         "gridwidth": 0.5,
         "tickvals": [
          0.5,
          1,
          1.5,
          2,
          2.5
         ],
         "range": [
          0.02800000000000001,
          2.572
         ],
         "domain": [
          0.03762029746281716,
          0.9901574803149606
         ],
         "mirror": false,
         "tickangle": 0,
         "showline": true,
         "ticktext": [
          "0.5",
          "1.0",
          "1.5",
          "2.0",
          "2.5"
         ],
         "zeroline": false,
         "tickfont": {
          "color": "rgba(0, 0, 0, 1.000)",
          "family": "sans-serif",
          "size": 11
         },
         "zerolinecolor": "rgba(0, 0, 0, 1.000)",
         "anchor": "x",
         "visible": true,
         "ticks": "inside",
         "tickmode": "array",
         "linecolor": "rgba(0, 0, 0, 1.000)",
         "showgrid": true,
         "title": "",
         "gridcolor": "rgba(0, 0, 0, 0.100)",
         "titlefont": {
          "color": "rgba(0, 0, 0, 1.000)",
          "family": "sans-serif",
          "size": 15
         },
         "tickcolor": "rgb(0, 0, 0)",
         "type": "-"
        },
        "width": 600
       },
       "data": [
        {
         "xaxis": "x",
         "colorbar": {
          "title": ""
         },
         "yaxis": "y",
         "x": [
          1.4
         ],
         "showlegend": true,
         "mode": "markers",
         "name": "y1",
         "zmin": 1,
         "legendgroup": "y1",
         "marker": {
          "symbol": "circle",
          "color": "rgba(204, 76, 204, 1.000)",
          "line": {
           "color": "rgba(0, 0, 0, 1.000)",
           "width": 1
          },
          "size": 8
         },
         "zmax": 3,
         "y": [
          0.2
         ],
         "type": "scatter"
        },
        {
         "xaxis": "x",
         "colorbar": {
          "title": ""
         },
         "yaxis": "y",
         "x": [
          1.4
         ],
         "showlegend": false,
         "mode": "markers",
         "name": "y1",
         "zmin": 1,
         "legendgroup": "y1",
         "marker": {
          "symbol": "circle",
          "color": "rgba(204, 76, 204, 1.000)",
          "line": {
           "color": "rgba(0, 0, 0, 1.000)",
           "width": 1
          },
          "size": 8
         },
         "zmax": 3,
         "y": [
          0.2
         ],
         "type": "scatter"
        },
        {
         "xaxis": "x",
         "colorbar": {
          "title": ""
         },
         "yaxis": "y",
         "x": [
          1.3
         ],
         "showlegend": false,
         "mode": "markers",
         "name": "y1",
         "zmin": 1,
         "legendgroup": "y1",
         "marker": {
          "symbol": "circle",
          "color": "rgba(204, 76, 204, 1.000)",
          "line": {
           "color": "rgba(0, 0, 0, 1.000)",
           "width": 1
          },
          "size": 8
         },
         "zmax": 3,
         "y": [
          0.2
         ],
         "type": "scatter"
        },
        {
         "xaxis": "x",
         "colorbar": {
          "title": ""
         },
         "yaxis": "y",
         "x": [
          1.5
         ],
         "showlegend": false,
         "mode": "markers",
         "name": "y1",
         "zmin": 1,
         "legendgroup": "y1",
         "marker": {
          "symbol": "circle",
          "color": "rgba(204, 76, 204, 1.000)",
          "line": {
           "color": "rgba(0, 0, 0, 1.000)",
           "width": 1
          },
          "size": 8
         },
         "zmax": 3,
         "y": [
          0.2
         ],
         "type": "scatter"
        },
        {
         "xaxis": "x",
         "colorbar": {
          "title": ""
         },
         "yaxis": "y",
         "x": [
          1.4
         ],
         "showlegend": false,
         "mode": "markers",
         "name": "y1",
         "zmin": 1,
         "legendgroup": "y1",
         "marker": {
          "symbol": "circle",
          "color": "rgba(204, 76, 204, 1.000)",
          "line": {
           "color": "rgba(0, 0, 0, 1.000)",
           "width": 1
          },
          "size": 8
         },
         "zmax": 3,
         "y": [
          0.2
         ],
         "type": "scatter"
        },
        {
         "xaxis": "x",
         "colorbar": {
          "title": ""
         },
         "yaxis": "y",
         "x": [
          1.7
         ],
         "showlegend": false,
         "mode": "markers",
         "name": "y1",
         "zmin": 1,
         "legendgroup": "y1",
         "marker": {
          "symbol": "circle",
          "color": "rgba(204, 76, 204, 1.000)",
          "line": {
           "color": "rgba(0, 0, 0, 1.000)",
           "width": 1
          },
          "size": 8
         },
         "zmax": 3,
         "y": [
          0.4
         ],
         "type": "scatter"
        },
        {
         "xaxis": "x",
         "colorbar": {
          "title": ""
         },
         "yaxis": "y",
         "x": [
          1.4
         ],
         "showlegend": false,
         "mode": "markers",
         "name": "y1",
         "zmin": 1,
         "legendgroup": "y1",
         "marker": {
          "symbol": "circle",
          "color": "rgba(204, 76, 204, 1.000)",
          "line": {
           "color": "rgba(0, 0, 0, 1.000)",
           "width": 1
          },
          "size": 8
         },
         "zmax": 3,
         "y": [
          0.3
         ],
         "type": "scatter"
        },
        {
         "xaxis": "x",
         "colorbar": {
          "title": ""
         },
         "yaxis": "y",
         "x": [
          1.5
         ],
         "showlegend": false,
         "mode": "markers",
         "name": "y1",
         "zmin": 1,
         "legendgroup": "y1",
         "marker": {
          "symbol": "circle",
          "color": "rgba(204, 76, 204, 1.000)",
          "line": {
           "color": "rgba(0, 0, 0, 1.000)",
           "width": 1
          },
          "size": 8
         },
         "zmax": 3,
         "y": [
          0.2
         ],
         "type": "scatter"
        },
        {
         "xaxis": "x",
         "colorbar": {
          "title": ""
         },
         "yaxis": "y",
         "x": [
          1.4
         ],
         "showlegend": false,
         "mode": "markers",
         "name": "y1",
         "zmin": 1,
         "legendgroup": "y1",
         "marker": {
          "symbol": "circle",
          "color": "rgba(204, 76, 204, 1.000)",
          "line": {
           "color": "rgba(0, 0, 0, 1.000)",
           "width": 1
          },
          "size": 8
         },
         "zmax": 3,
         "y": [
          0.2
         ],
         "type": "scatter"
        },
        {
         "xaxis": "x",
         "colorbar": {
          "title": ""
         },
         "yaxis": "y",
         "x": [
          1.5
         ],
         "showlegend": false,
         "mode": "markers",
         "name": "y1",
         "zmin": 1,
         "legendgroup": "y1",
         "marker": {
          "symbol": "circle",
          "color": "rgba(204, 76, 204, 1.000)",
          "line": {
           "color": "rgba(0, 0, 0, 1.000)",
           "width": 1
          },
          "size": 8
         },
         "zmax": 3,
         "y": [
          0.1
         ],
         "type": "scatter"
        },
        {
         "xaxis": "x",
         "colorbar": {
          "title": ""
         },
         "yaxis": "y",
         "x": [
          1.5
         ],
         "showlegend": false,
         "mode": "markers",
         "name": "y1",
         "zmin": 1,
         "legendgroup": "y1",
         "marker": {
          "symbol": "circle",
          "color": "rgba(204, 76, 204, 1.000)",
          "line": {
           "color": "rgba(0, 0, 0, 1.000)",
           "width": 1
          },
          "size": 8
         },
         "zmax": 3,
         "y": [
          0.2
         ],
         "type": "scatter"
        },
        {
         "xaxis": "x",
         "colorbar": {
          "title": ""
         },
         "yaxis": "y",
         "x": [
          1.6
         ],
         "showlegend": false,
         "mode": "markers",
         "name": "y1",
         "zmin": 1,
         "legendgroup": "y1",
         "marker": {
          "symbol": "circle",
          "color": "rgba(204, 76, 204, 1.000)",
          "line": {
           "color": "rgba(0, 0, 0, 1.000)",
           "width": 1
          },
          "size": 8
         },
         "zmax": 3,
         "y": [
          0.2
         ],
         "type": "scatter"
        },
        {
         "xaxis": "x",
         "colorbar": {
          "title": ""
         },
         "yaxis": "y",
         "x": [
          1.4
         ],
         "showlegend": false,
         "mode": "markers",
         "name": "y1",
         "zmin": 1,
         "legendgroup": "y1",
         "marker": {
          "symbol": "circle",
          "color": "rgba(204, 76, 204, 1.000)",
          "line": {
           "color": "rgba(0, 0, 0, 1.000)",
           "width": 1
          },
          "size": 8
         },
         "zmax": 3,
         "y": [
          0.1
         ],
         "type": "scatter"
        },
        {
         "xaxis": "x",
         "colorbar": {
          "title": ""
         },
         "yaxis": "y",
         "x": [
          1.1
         ],
         "showlegend": false,
         "mode": "markers",
         "name": "y1",
         "zmin": 1,
         "legendgroup": "y1",
         "marker": {
          "symbol": "circle",
          "color": "rgba(204, 76, 204, 1.000)",
          "line": {
           "color": "rgba(0, 0, 0, 1.000)",
           "width": 1
          },
          "size": 8
         },
         "zmax": 3,
         "y": [
          0.1
         ],
         "type": "scatter"
        },
        {
         "xaxis": "x",
         "colorbar": {
          "title": ""
         },
         "yaxis": "y",
         "x": [
          1.2
         ],
         "showlegend": false,
         "mode": "markers",
         "name": "y1",
         "zmin": 1,
         "legendgroup": "y1",
         "marker": {
          "symbol": "circle",
          "color": "rgba(204, 76, 204, 1.000)",
          "line": {
           "color": "rgba(0, 0, 0, 1.000)",
           "width": 1
          },
          "size": 8
         },
         "zmax": 3,
         "y": [
          0.2
         ],
         "type": "scatter"
        },
        {
         "xaxis": "x",
         "colorbar": {
          "title": ""
         },
         "yaxis": "y",
         "x": [
          1.5
         ],
         "showlegend": false,
         "mode": "markers",
         "name": "y1",
         "zmin": 1,
         "legendgroup": "y1",
         "marker": {
          "symbol": "circle",
          "color": "rgba(204, 76, 204, 1.000)",
          "line": {
           "color": "rgba(0, 0, 0, 1.000)",
           "width": 1
          },
          "size": 8
         },
         "zmax": 3,
         "y": [
          0.4
         ],
         "type": "scatter"
        },
        {
         "xaxis": "x",
         "colorbar": {
          "title": ""
         },
         "yaxis": "y",
         "x": [
          1.3
         ],
         "showlegend": false,
         "mode": "markers",
         "name": "y1",
         "zmin": 1,
         "legendgroup": "y1",
         "marker": {
          "symbol": "circle",
          "color": "rgba(204, 76, 204, 1.000)",
          "line": {
           "color": "rgba(0, 0, 0, 1.000)",
           "width": 1
          },
          "size": 8
         },
         "zmax": 3,
         "y": [
          0.4
         ],
         "type": "scatter"
        },
        {
         "xaxis": "x",
         "colorbar": {
          "title": ""
         },
         "yaxis": "y",
         "x": [
          1.4
         ],
         "showlegend": false,
         "mode": "markers",
         "name": "y1",
         "zmin": 1,
         "legendgroup": "y1",
         "marker": {
          "symbol": "circle",
          "color": "rgba(204, 76, 204, 1.000)",
          "line": {
           "color": "rgba(0, 0, 0, 1.000)",
           "width": 1
          },
          "size": 8
         },
         "zmax": 3,
         "y": [
          0.3
         ],
         "type": "scatter"
        },
        {
         "xaxis": "x",
         "colorbar": {
          "title": ""
         },
         "yaxis": "y",
         "x": [
          1.7
         ],
         "showlegend": false,
         "mode": "markers",
         "name": "y1",
         "zmin": 1,
         "legendgroup": "y1",
         "marker": {
          "symbol": "circle",
          "color": "rgba(204, 76, 204, 1.000)",
          "line": {
           "color": "rgba(0, 0, 0, 1.000)",
           "width": 1
          },
          "size": 8
         },
         "zmax": 3,
         "y": [
          0.3
         ],
         "type": "scatter"
        },
        {
         "xaxis": "x",
         "colorbar": {
          "title": ""
         },
         "yaxis": "y",
         "x": [
          1.5
         ],
         "showlegend": false,
         "mode": "markers",
         "name": "y1",
         "zmin": 1,
         "legendgroup": "y1",
         "marker": {
          "symbol": "circle",
          "color": "rgba(204, 76, 204, 1.000)",
          "line": {
           "color": "rgba(0, 0, 0, 1.000)",
           "width": 1
          },
          "size": 8
         },
         "zmax": 3,
         "y": [
          0.3
         ],
         "type": "scatter"
        },
        {
         "xaxis": "x",
         "colorbar": {
          "title": ""
         },
         "yaxis": "y",
         "x": [
          1.7
         ],
         "showlegend": false,
         "mode": "markers",
         "name": "y1",
         "zmin": 1,
         "legendgroup": "y1",
         "marker": {
          "symbol": "circle",
          "color": "rgba(204, 76, 204, 1.000)",
          "line": {
           "color": "rgba(0, 0, 0, 1.000)",
           "width": 1
          },
          "size": 8
         },
         "zmax": 3,
         "y": [
          0.2
         ],
         "type": "scatter"
        },
        {
         "xaxis": "x",
         "colorbar": {
          "title": ""
         },
         "yaxis": "y",
         "x": [
          1.5
         ],
         "showlegend": false,
         "mode": "markers",
         "name": "y1",
         "zmin": 1,
         "legendgroup": "y1",
         "marker": {
          "symbol": "circle",
          "color": "rgba(204, 76, 204, 1.000)",
          "line": {
           "color": "rgba(0, 0, 0, 1.000)",
           "width": 1
          },
          "size": 8
         },
         "zmax": 3,
         "y": [
          0.4
         ],
         "type": "scatter"
        },
        {
         "xaxis": "x",
         "colorbar": {
          "title": ""
         },
         "yaxis": "y",
         "x": [
          1
         ],
         "showlegend": false,
         "mode": "markers",
         "name": "y1",
         "zmin": 1,
         "legendgroup": "y1",
         "marker": {
          "symbol": "circle",
          "color": "rgba(204, 76, 204, 1.000)",
          "line": {
           "color": "rgba(0, 0, 0, 1.000)",
           "width": 1
          },
          "size": 8
         },
         "zmax": 3,
         "y": [
          0.2
         ],
         "type": "scatter"
        },
        {
         "xaxis": "x",
         "colorbar": {
          "title": ""
         },
         "yaxis": "y",
         "x": [
          1.7
         ],
         "showlegend": false,
         "mode": "markers",
         "name": "y1",
         "zmin": 1,
         "legendgroup": "y1",
         "marker": {
          "symbol": "circle",
          "color": "rgba(204, 76, 204, 1.000)",
          "line": {
           "color": "rgba(0, 0, 0, 1.000)",
           "width": 1
          },
          "size": 8
         },
         "zmax": 3,
         "y": [
          0.5
         ],
         "type": "scatter"
        },
        {
         "xaxis": "x",
         "colorbar": {
          "title": ""
         },
         "yaxis": "y",
         "x": [
          1.9
         ],
         "showlegend": false,
         "mode": "markers",
         "name": "y1",
         "zmin": 1,
         "legendgroup": "y1",
         "marker": {
          "symbol": "circle",
          "color": "rgba(204, 76, 204, 1.000)",
          "line": {
           "color": "rgba(0, 0, 0, 1.000)",
           "width": 1
          },
          "size": 8
         },
         "zmax": 3,
         "y": [
          0.2
         ],
         "type": "scatter"
        },
        {
         "xaxis": "x",
         "colorbar": {
          "title": ""
         },
         "yaxis": "y",
         "x": [
          1.6
         ],
         "showlegend": false,
         "mode": "markers",
         "name": "y1",
         "zmin": 1,
         "legendgroup": "y1",
         "marker": {
          "symbol": "circle",
          "color": "rgba(204, 76, 204, 1.000)",
          "line": {
           "color": "rgba(0, 0, 0, 1.000)",
           "width": 1
          },
          "size": 8
         },
         "zmax": 3,
         "y": [
          0.2
         ],
         "type": "scatter"
        },
        {
         "xaxis": "x",
         "colorbar": {
          "title": ""
         },
         "yaxis": "y",
         "x": [
          1.6
         ],
         "showlegend": false,
         "mode": "markers",
         "name": "y1",
         "zmin": 1,
         "legendgroup": "y1",
         "marker": {
          "symbol": "circle",
          "color": "rgba(204, 76, 204, 1.000)",
          "line": {
           "color": "rgba(0, 0, 0, 1.000)",
           "width": 1
          },
          "size": 8
         },
         "zmax": 3,
         "y": [
          0.4
         ],
         "type": "scatter"
        },
        {
         "xaxis": "x",
         "colorbar": {
          "title": ""
         },
         "yaxis": "y",
         "x": [
          1.5
         ],
         "showlegend": false,
         "mode": "markers",
         "name": "y1",
         "zmin": 1,
         "legendgroup": "y1",
         "marker": {
          "symbol": "circle",
          "color": "rgba(204, 76, 204, 1.000)",
          "line": {
           "color": "rgba(0, 0, 0, 1.000)",
           "width": 1
          },
          "size": 8
         },
         "zmax": 3,
         "y": [
          0.2
         ],
         "type": "scatter"
        },
        {
         "xaxis": "x",
         "colorbar": {
          "title": ""
         },
         "yaxis": "y",
         "x": [
          1.4
         ],
         "showlegend": false,
         "mode": "markers",
         "name": "y1",
         "zmin": 1,
         "legendgroup": "y1",
         "marker": {
          "symbol": "circle",
          "color": "rgba(204, 76, 204, 1.000)",
          "line": {
           "color": "rgba(0, 0, 0, 1.000)",
           "width": 1
          },
          "size": 8
         },
         "zmax": 3,
         "y": [
          0.2
         ],
         "type": "scatter"
        },
        {
         "xaxis": "x",
         "colorbar": {
          "title": ""
         },
         "yaxis": "y",
         "x": [
          1.6
         ],
         "showlegend": false,
         "mode": "markers",
         "name": "y1",
         "zmin": 1,
         "legendgroup": "y1",
         "marker": {
          "symbol": "circle",
          "color": "rgba(204, 76, 204, 1.000)",
          "line": {
           "color": "rgba(0, 0, 0, 1.000)",
           "width": 1
          },
          "size": 8
         },
         "zmax": 3,
         "y": [
          0.2
         ],
         "type": "scatter"
        },
        {
         "xaxis": "x",
         "colorbar": {
          "title": ""
         },
         "yaxis": "y",
         "x": [
          1.6
         ],
         "showlegend": false,
         "mode": "markers",
         "name": "y1",
         "zmin": 1,
         "legendgroup": "y1",
         "marker": {
          "symbol": "circle",
          "color": "rgba(204, 76, 204, 1.000)",
          "line": {
           "color": "rgba(0, 0, 0, 1.000)",
           "width": 1
          },
          "size": 8
         },
         "zmax": 3,
         "y": [
          0.2
         ],
         "type": "scatter"
        },
        {
         "xaxis": "x",
         "colorbar": {
          "title": ""
         },
         "yaxis": "y",
         "x": [
          1.5
         ],
         "showlegend": false,
         "mode": "markers",
         "name": "y1",
         "zmin": 1,
         "legendgroup": "y1",
         "marker": {
          "symbol": "circle",
          "color": "rgba(204, 76, 204, 1.000)",
          "line": {
           "color": "rgba(0, 0, 0, 1.000)",
           "width": 1
          },
          "size": 8
         },
         "zmax": 3,
         "y": [
          0.4
         ],
         "type": "scatter"
        },
        {
         "xaxis": "x",
         "colorbar": {
          "title": ""
         },
         "yaxis": "y",
         "x": [
          1.5
         ],
         "showlegend": false,
         "mode": "markers",
         "name": "y1",
         "zmin": 1,
         "legendgroup": "y1",
         "marker": {
          "symbol": "circle",
          "color": "rgba(204, 76, 204, 1.000)",
          "line": {
           "color": "rgba(0, 0, 0, 1.000)",
           "width": 1
          },
          "size": 8
         },
         "zmax": 3,
         "y": [
          0.1
         ],
         "type": "scatter"
        },
        {
         "xaxis": "x",
         "colorbar": {
          "title": ""
         },
         "yaxis": "y",
         "x": [
          1.4
         ],
         "showlegend": false,
         "mode": "markers",
         "name": "y1",
         "zmin": 1,
         "legendgroup": "y1",
         "marker": {
          "symbol": "circle",
          "color": "rgba(204, 76, 204, 1.000)",
          "line": {
           "color": "rgba(0, 0, 0, 1.000)",
           "width": 1
          },
          "size": 8
         },
         "zmax": 3,
         "y": [
          0.2
         ],
         "type": "scatter"
        },
        {
         "xaxis": "x",
         "colorbar": {
          "title": ""
         },
         "yaxis": "y",
         "x": [
          1.5
         ],
         "showlegend": false,
         "mode": "markers",
         "name": "y1",
         "zmin": 1,
         "legendgroup": "y1",
         "marker": {
          "symbol": "circle",
          "color": "rgba(204, 76, 204, 1.000)",
          "line": {
           "color": "rgba(0, 0, 0, 1.000)",
           "width": 1
          },
          "size": 8
         },
         "zmax": 3,
         "y": [
          0.2
         ],
         "type": "scatter"
        },
        {
         "xaxis": "x",
         "colorbar": {
          "title": ""
         },
         "yaxis": "y",
         "x": [
          1.2
         ],
         "showlegend": false,
         "mode": "markers",
         "name": "y1",
         "zmin": 1,
         "legendgroup": "y1",
         "marker": {
          "symbol": "circle",
          "color": "rgba(204, 76, 204, 1.000)",
          "line": {
           "color": "rgba(0, 0, 0, 1.000)",
           "width": 1
          },
          "size": 8
         },
         "zmax": 3,
         "y": [
          0.2
         ],
         "type": "scatter"
        },
        {
         "xaxis": "x",
         "colorbar": {
          "title": ""
         },
         "yaxis": "y",
         "x": [
          1.3
         ],
         "showlegend": false,
         "mode": "markers",
         "name": "y1",
         "zmin": 1,
         "legendgroup": "y1",
         "marker": {
          "symbol": "circle",
          "color": "rgba(204, 76, 204, 1.000)",
          "line": {
           "color": "rgba(0, 0, 0, 1.000)",
           "width": 1
          },
          "size": 8
         },
         "zmax": 3,
         "y": [
          0.2
         ],
         "type": "scatter"
        },
        {
         "xaxis": "x",
         "colorbar": {
          "title": ""
         },
         "yaxis": "y",
         "x": [
          1.4
         ],
         "showlegend": false,
         "mode": "markers",
         "name": "y1",
         "zmin": 1,
         "legendgroup": "y1",
         "marker": {
          "symbol": "circle",
          "color": "rgba(204, 76, 204, 1.000)",
          "line": {
           "color": "rgba(0, 0, 0, 1.000)",
           "width": 1
          },
          "size": 8
         },
         "zmax": 3,
         "y": [
          0.1
         ],
         "type": "scatter"
        },
        {
         "xaxis": "x",
         "colorbar": {
          "title": ""
         },
         "yaxis": "y",
         "x": [
          1.3
         ],
         "showlegend": false,
         "mode": "markers",
         "name": "y1",
         "zmin": 1,
         "legendgroup": "y1",
         "marker": {
          "symbol": "circle",
          "color": "rgba(204, 76, 204, 1.000)",
          "line": {
           "color": "rgba(0, 0, 0, 1.000)",
           "width": 1
          },
          "size": 8
         },
         "zmax": 3,
         "y": [
          0.2
         ],
         "type": "scatter"
        },
        {
         "xaxis": "x",
         "colorbar": {
          "title": ""
         },
         "yaxis": "y",
         "x": [
          1.5
         ],
         "showlegend": false,
         "mode": "markers",
         "name": "y1",
         "zmin": 1,
         "legendgroup": "y1",
         "marker": {
          "symbol": "circle",
          "color": "rgba(204, 76, 204, 1.000)",
          "line": {
           "color": "rgba(0, 0, 0, 1.000)",
           "width": 1
          },
          "size": 8
         },
         "zmax": 3,
         "y": [
          0.2
         ],
         "type": "scatter"
        },
        {
         "xaxis": "x",
         "colorbar": {
          "title": ""
         },
         "yaxis": "y",
         "x": [
          1.3
         ],
         "showlegend": false,
         "mode": "markers",
         "name": "y1",
         "zmin": 1,
         "legendgroup": "y1",
         "marker": {
          "symbol": "circle",
          "color": "rgba(204, 76, 204, 1.000)",
          "line": {
           "color": "rgba(0, 0, 0, 1.000)",
           "width": 1
          },
          "size": 8
         },
         "zmax": 3,
         "y": [
          0.3
         ],
         "type": "scatter"
        },
        {
         "xaxis": "x",
         "colorbar": {
          "title": ""
         },
         "yaxis": "y",
         "x": [
          1.3
         ],
         "showlegend": false,
         "mode": "markers",
         "name": "y1",
         "zmin": 1,
         "legendgroup": "y1",
         "marker": {
          "symbol": "circle",
          "color": "rgba(204, 76, 204, 1.000)",
          "line": {
           "color": "rgba(0, 0, 0, 1.000)",
           "width": 1
          },
          "size": 8
         },
         "zmax": 3,
         "y": [
          0.3
         ],
         "type": "scatter"
        },
        {
         "xaxis": "x",
         "colorbar": {
          "title": ""
         },
         "yaxis": "y",
         "x": [
          1.3
         ],
         "showlegend": false,
         "mode": "markers",
         "name": "y1",
         "zmin": 1,
         "legendgroup": "y1",
         "marker": {
          "symbol": "circle",
          "color": "rgba(204, 76, 204, 1.000)",
          "line": {
           "color": "rgba(0, 0, 0, 1.000)",
           "width": 1
          },
          "size": 8
         },
         "zmax": 3,
         "y": [
          0.2
         ],
         "type": "scatter"
        },
        {
         "xaxis": "x",
         "colorbar": {
          "title": ""
         },
         "yaxis": "y",
         "x": [
          1.6
         ],
         "showlegend": false,
         "mode": "markers",
         "name": "y1",
         "zmin": 1,
         "legendgroup": "y1",
         "marker": {
          "symbol": "circle",
          "color": "rgba(204, 76, 204, 1.000)",
          "line": {
           "color": "rgba(0, 0, 0, 1.000)",
           "width": 1
          },
          "size": 8
         },
         "zmax": 3,
         "y": [
          0.6
         ],
         "type": "scatter"
        },
        {
         "xaxis": "x",
         "colorbar": {
          "title": ""
         },
         "yaxis": "y",
         "x": [
          1.9
         ],
         "showlegend": false,
         "mode": "markers",
         "name": "y1",
         "zmin": 1,
         "legendgroup": "y1",
         "marker": {
          "symbol": "circle",
          "color": "rgba(204, 76, 204, 1.000)",
          "line": {
           "color": "rgba(0, 0, 0, 1.000)",
           "width": 1
          },
          "size": 8
         },
         "zmax": 3,
         "y": [
          0.4
         ],
         "type": "scatter"
        },
        {
         "xaxis": "x",
         "colorbar": {
          "title": ""
         },
         "yaxis": "y",
         "x": [
          1.4
         ],
         "showlegend": false,
         "mode": "markers",
         "name": "y1",
         "zmin": 1,
         "legendgroup": "y1",
         "marker": {
          "symbol": "circle",
          "color": "rgba(204, 76, 204, 1.000)",
          "line": {
           "color": "rgba(0, 0, 0, 1.000)",
           "width": 1
          },
          "size": 8
         },
         "zmax": 3,
         "y": [
          0.3
         ],
         "type": "scatter"
        },
        {
         "xaxis": "x",
         "colorbar": {
          "title": ""
         },
         "yaxis": "y",
         "x": [
          1.6
         ],
         "showlegend": false,
         "mode": "markers",
         "name": "y1",
         "zmin": 1,
         "legendgroup": "y1",
         "marker": {
          "symbol": "circle",
          "color": "rgba(204, 76, 204, 1.000)",
          "line": {
           "color": "rgba(0, 0, 0, 1.000)",
           "width": 1
          },
          "size": 8
         },
         "zmax": 3,
         "y": [
          0.2
         ],
         "type": "scatter"
        },
        {
         "xaxis": "x",
         "colorbar": {
          "title": ""
         },
         "yaxis": "y",
         "x": [
          1.4
         ],
         "showlegend": false,
         "mode": "markers",
         "name": "y1",
         "zmin": 1,
         "legendgroup": "y1",
         "marker": {
          "symbol": "circle",
          "color": "rgba(204, 76, 204, 1.000)",
          "line": {
           "color": "rgba(0, 0, 0, 1.000)",
           "width": 1
          },
          "size": 8
         },
         "zmax": 3,
         "y": [
          0.2
         ],
         "type": "scatter"
        },
        {
         "xaxis": "x",
         "colorbar": {
          "title": ""
         },
         "yaxis": "y",
         "x": [
          1.5
         ],
         "showlegend": false,
         "mode": "markers",
         "name": "y1",
         "zmin": 1,
         "legendgroup": "y1",
         "marker": {
          "symbol": "circle",
          "color": "rgba(204, 76, 204, 1.000)",
          "line": {
           "color": "rgba(0, 0, 0, 1.000)",
           "width": 1
          },
          "size": 8
         },
         "zmax": 3,
         "y": [
          0.2
         ],
         "type": "scatter"
        },
        {
         "xaxis": "x",
         "colorbar": {
          "title": ""
         },
         "yaxis": "y",
         "x": [
          1.4
         ],
         "showlegend": false,
         "mode": "markers",
         "name": "y1",
         "zmin": 1,
         "legendgroup": "y1",
         "marker": {
          "symbol": "circle",
          "color": "rgba(204, 76, 204, 1.000)",
          "line": {
           "color": "rgba(0, 0, 0, 1.000)",
           "width": 1
          },
          "size": 8
         },
         "zmax": 3,
         "y": [
          0.2
         ],
         "type": "scatter"
        },
        {
         "xaxis": "x",
         "colorbar": {
          "title": ""
         },
         "yaxis": "y",
         "x": [
          4.7
         ],
         "showlegend": false,
         "mode": "markers",
         "name": "y1",
         "zmin": 1,
         "legendgroup": "y1",
         "marker": {
          "symbol": "circle",
          "color": "rgba(76, 204, 76, 1.000)",
          "line": {
           "color": "rgba(0, 0, 0, 1.000)",
           "width": 1
          },
          "size": 8
         },
         "zmax": 3,
         "y": [
          1.4
         ],
         "type": "scatter"
        },
        {
         "xaxis": "x",
         "colorbar": {
          "title": ""
         },
         "yaxis": "y",
         "x": [
          4.5
         ],
         "showlegend": false,
         "mode": "markers",
         "name": "y1",
         "zmin": 1,
         "legendgroup": "y1",
         "marker": {
          "symbol": "circle",
          "color": "rgba(255, 76, 76, 1.000)",
          "line": {
           "color": "rgba(0, 0, 0, 1.000)",
           "width": 1
          },
          "size": 8
         },
         "zmax": 3,
         "y": [
          1.5
         ],
         "type": "scatter"
        },
        {
         "xaxis": "x",
         "colorbar": {
          "title": ""
         },
         "yaxis": "y",
         "x": [
          4.9
         ],
         "showlegend": false,
         "mode": "markers",
         "name": "y1",
         "zmin": 1,
         "legendgroup": "y1",
         "marker": {
          "symbol": "circle",
          "color": "rgba(76, 204, 76, 1.000)",
          "line": {
           "color": "rgba(0, 0, 0, 1.000)",
           "width": 1
          },
          "size": 8
         },
         "zmax": 3,
         "y": [
          1.5
         ],
         "type": "scatter"
        },
        {
         "xaxis": "x",
         "colorbar": {
          "title": ""
         },
         "yaxis": "y",
         "x": [
          4
         ],
         "showlegend": false,
         "mode": "markers",
         "name": "y1",
         "zmin": 1,
         "legendgroup": "y1",
         "marker": {
          "symbol": "circle",
          "color": "rgba(255, 76, 76, 1.000)",
          "line": {
           "color": "rgba(0, 0, 0, 1.000)",
           "width": 1
          },
          "size": 8
         },
         "zmax": 3,
         "y": [
          1.3
         ],
         "type": "scatter"
        },
        {
         "xaxis": "x",
         "colorbar": {
          "title": ""
         },
         "yaxis": "y",
         "x": [
          4.6
         ],
         "showlegend": false,
         "mode": "markers",
         "name": "y1",
         "zmin": 1,
         "legendgroup": "y1",
         "marker": {
          "symbol": "circle",
          "color": "rgba(255, 76, 76, 1.000)",
          "line": {
           "color": "rgba(0, 0, 0, 1.000)",
           "width": 1
          },
          "size": 8
         },
         "zmax": 3,
         "y": [
          1.5
         ],
         "type": "scatter"
        },
        {
         "xaxis": "x",
         "colorbar": {
          "title": ""
         },
         "yaxis": "y",
         "x": [
          4.5
         ],
         "showlegend": false,
         "mode": "markers",
         "name": "y1",
         "zmin": 1,
         "legendgroup": "y1",
         "marker": {
          "symbol": "circle",
          "color": "rgba(255, 76, 76, 1.000)",
          "line": {
           "color": "rgba(0, 0, 0, 1.000)",
           "width": 1
          },
          "size": 8
         },
         "zmax": 3,
         "y": [
          1.3
         ],
         "type": "scatter"
        },
        {
         "xaxis": "x",
         "colorbar": {
          "title": ""
         },
         "yaxis": "y",
         "x": [
          4.7
         ],
         "showlegend": false,
         "mode": "markers",
         "name": "y1",
         "zmin": 1,
         "legendgroup": "y1",
         "marker": {
          "symbol": "circle",
          "color": "rgba(255, 76, 76, 1.000)",
          "line": {
           "color": "rgba(0, 0, 0, 1.000)",
           "width": 1
          },
          "size": 8
         },
         "zmax": 3,
         "y": [
          1.6
         ],
         "type": "scatter"
        },
        {
         "xaxis": "x",
         "colorbar": {
          "title": ""
         },
         "yaxis": "y",
         "x": [
          3.3
         ],
         "showlegend": false,
         "mode": "markers",
         "name": "y1",
         "zmin": 1,
         "legendgroup": "y1",
         "marker": {
          "symbol": "circle",
          "color": "rgba(255, 76, 76, 1.000)",
          "line": {
           "color": "rgba(0, 0, 0, 1.000)",
           "width": 1
          },
          "size": 8
         },
         "zmax": 3,
         "y": [
          1
         ],
         "type": "scatter"
        },
        {
         "xaxis": "x",
         "colorbar": {
          "title": ""
         },
         "yaxis": "y",
         "x": [
          4.6
         ],
         "showlegend": false,
         "mode": "markers",
         "name": "y1",
         "zmin": 1,
         "legendgroup": "y1",
         "marker": {
          "symbol": "circle",
          "color": "rgba(255, 76, 76, 1.000)",
          "line": {
           "color": "rgba(0, 0, 0, 1.000)",
           "width": 1
          },
          "size": 8
         },
         "zmax": 3,
         "y": [
          1.3
         ],
         "type": "scatter"
        },
        {
         "xaxis": "x",
         "colorbar": {
          "title": ""
         },
         "yaxis": "y",
         "x": [
          3.9
         ],
         "showlegend": false,
         "mode": "markers",
         "name": "y1",
         "zmin": 1,
         "legendgroup": "y1",
         "marker": {
          "symbol": "circle",
          "color": "rgba(255, 76, 76, 1.000)",
          "line": {
           "color": "rgba(0, 0, 0, 1.000)",
           "width": 1
          },
          "size": 8
         },
         "zmax": 3,
         "y": [
          1.4
         ],
         "type": "scatter"
        },
        {
         "xaxis": "x",
         "colorbar": {
          "title": ""
         },
         "yaxis": "y",
         "x": [
          3.5
         ],
         "showlegend": false,
         "mode": "markers",
         "name": "y1",
         "zmin": 1,
         "legendgroup": "y1",
         "marker": {
          "symbol": "circle",
          "color": "rgba(255, 76, 76, 1.000)",
          "line": {
           "color": "rgba(0, 0, 0, 1.000)",
           "width": 1
          },
          "size": 8
         },
         "zmax": 3,
         "y": [
          1
         ],
         "type": "scatter"
        },
        {
         "xaxis": "x",
         "colorbar": {
          "title": ""
         },
         "yaxis": "y",
         "x": [
          4.2
         ],
         "showlegend": false,
         "mode": "markers",
         "name": "y1",
         "zmin": 1,
         "legendgroup": "y1",
         "marker": {
          "symbol": "circle",
          "color": "rgba(255, 76, 76, 1.000)",
          "line": {
           "color": "rgba(0, 0, 0, 1.000)",
           "width": 1
          },
          "size": 8
         },
         "zmax": 3,
         "y": [
          1.5
         ],
         "type": "scatter"
        },
        {
         "xaxis": "x",
         "colorbar": {
          "title": ""
         },
         "yaxis": "y",
         "x": [
          4
         ],
         "showlegend": false,
         "mode": "markers",
         "name": "y1",
         "zmin": 1,
         "legendgroup": "y1",
         "marker": {
          "symbol": "circle",
          "color": "rgba(255, 76, 76, 1.000)",
          "line": {
           "color": "rgba(0, 0, 0, 1.000)",
           "width": 1
          },
          "size": 8
         },
         "zmax": 3,
         "y": [
          1
         ],
         "type": "scatter"
        },
        {
         "xaxis": "x",
         "colorbar": {
          "title": ""
         },
         "yaxis": "y",
         "x": [
          4.7
         ],
         "showlegend": false,
         "mode": "markers",
         "name": "y1",
         "zmin": 1,
         "legendgroup": "y1",
         "marker": {
          "symbol": "circle",
          "color": "rgba(255, 76, 76, 1.000)",
          "line": {
           "color": "rgba(0, 0, 0, 1.000)",
           "width": 1
          },
          "size": 8
         },
         "zmax": 3,
         "y": [
          1.4
         ],
         "type": "scatter"
        },
        {
         "xaxis": "x",
         "colorbar": {
          "title": ""
         },
         "yaxis": "y",
         "x": [
          3.6
         ],
         "showlegend": false,
         "mode": "markers",
         "name": "y1",
         "zmin": 1,
         "legendgroup": "y1",
         "marker": {
          "symbol": "circle",
          "color": "rgba(255, 76, 76, 1.000)",
          "line": {
           "color": "rgba(0, 0, 0, 1.000)",
           "width": 1
          },
          "size": 8
         },
         "zmax": 3,
         "y": [
          1.3
         ],
         "type": "scatter"
        },
        {
         "xaxis": "x",
         "colorbar": {
          "title": ""
         },
         "yaxis": "y",
         "x": [
          4.4
         ],
         "showlegend": false,
         "mode": "markers",
         "name": "y1",
         "zmin": 1,
         "legendgroup": "y1",
         "marker": {
          "symbol": "circle",
          "color": "rgba(255, 76, 76, 1.000)",
          "line": {
           "color": "rgba(0, 0, 0, 1.000)",
           "width": 1
          },
          "size": 8
         },
         "zmax": 3,
         "y": [
          1.4
         ],
         "type": "scatter"
        },
        {
         "xaxis": "x",
         "colorbar": {
          "title": ""
         },
         "yaxis": "y",
         "x": [
          4.5
         ],
         "showlegend": false,
         "mode": "markers",
         "name": "y1",
         "zmin": 1,
         "legendgroup": "y1",
         "marker": {
          "symbol": "circle",
          "color": "rgba(255, 76, 76, 1.000)",
          "line": {
           "color": "rgba(0, 0, 0, 1.000)",
           "width": 1
          },
          "size": 8
         },
         "zmax": 3,
         "y": [
          1.5
         ],
         "type": "scatter"
        },
        {
         "xaxis": "x",
         "colorbar": {
          "title": ""
         },
         "yaxis": "y",
         "x": [
          4.1
         ],
         "showlegend": false,
         "mode": "markers",
         "name": "y1",
         "zmin": 1,
         "legendgroup": "y1",
         "marker": {
          "symbol": "circle",
          "color": "rgba(255, 76, 76, 1.000)",
          "line": {
           "color": "rgba(0, 0, 0, 1.000)",
           "width": 1
          },
          "size": 8
         },
         "zmax": 3,
         "y": [
          1
         ],
         "type": "scatter"
        },
        {
         "xaxis": "x",
         "colorbar": {
          "title": ""
         },
         "yaxis": "y",
         "x": [
          4.5
         ],
         "showlegend": false,
         "mode": "markers",
         "name": "y1",
         "zmin": 1,
         "legendgroup": "y1",
         "marker": {
          "symbol": "circle",
          "color": "rgba(255, 76, 76, 1.000)",
          "line": {
           "color": "rgba(0, 0, 0, 1.000)",
           "width": 1
          },
          "size": 8
         },
         "zmax": 3,
         "y": [
          1.5
         ],
         "type": "scatter"
        },
        {
         "xaxis": "x",
         "colorbar": {
          "title": ""
         },
         "yaxis": "y",
         "x": [
          3.9
         ],
         "showlegend": false,
         "mode": "markers",
         "name": "y1",
         "zmin": 1,
         "legendgroup": "y1",
         "marker": {
          "symbol": "circle",
          "color": "rgba(255, 76, 76, 1.000)",
          "line": {
           "color": "rgba(0, 0, 0, 1.000)",
           "width": 1
          },
          "size": 8
         },
         "zmax": 3,
         "y": [
          1.1
         ],
         "type": "scatter"
        },
        {
         "xaxis": "x",
         "colorbar": {
          "title": ""
         },
         "yaxis": "y",
         "x": [
          4.8
         ],
         "showlegend": false,
         "mode": "markers",
         "name": "y1",
         "zmin": 1,
         "legendgroup": "y1",
         "marker": {
          "symbol": "circle",
          "color": "rgba(255, 76, 76, 1.000)",
          "line": {
           "color": "rgba(0, 0, 0, 1.000)",
           "width": 1
          },
          "size": 8
         },
         "zmax": 3,
         "y": [
          1.8
         ],
         "type": "scatter"
        },
        {
         "xaxis": "x",
         "colorbar": {
          "title": ""
         },
         "yaxis": "y",
         "x": [
          4
         ],
         "showlegend": false,
         "mode": "markers",
         "name": "y1",
         "zmin": 1,
         "legendgroup": "y1",
         "marker": {
          "symbol": "circle",
          "color": "rgba(255, 76, 76, 1.000)",
          "line": {
           "color": "rgba(0, 0, 0, 1.000)",
           "width": 1
          },
          "size": 8
         },
         "zmax": 3,
         "y": [
          1.3
         ],
         "type": "scatter"
        },
        {
         "xaxis": "x",
         "colorbar": {
          "title": ""
         },
         "yaxis": "y",
         "x": [
          4.9
         ],
         "showlegend": false,
         "mode": "markers",
         "name": "y1",
         "zmin": 1,
         "legendgroup": "y1",
         "marker": {
          "symbol": "circle",
          "color": "rgba(255, 76, 76, 1.000)",
          "line": {
           "color": "rgba(0, 0, 0, 1.000)",
           "width": 1
          },
          "size": 8
         },
         "zmax": 3,
         "y": [
          1.5
         ],
         "type": "scatter"
        },
        {
         "xaxis": "x",
         "colorbar": {
          "title": ""
         },
         "yaxis": "y",
         "x": [
          4.7
         ],
         "showlegend": false,
         "mode": "markers",
         "name": "y1",
         "zmin": 1,
         "legendgroup": "y1",
         "marker": {
          "symbol": "circle",
          "color": "rgba(255, 76, 76, 1.000)",
          "line": {
           "color": "rgba(0, 0, 0, 1.000)",
           "width": 1
          },
          "size": 8
         },
         "zmax": 3,
         "y": [
          1.2
         ],
         "type": "scatter"
        },
        {
         "xaxis": "x",
         "colorbar": {
          "title": ""
         },
         "yaxis": "y",
         "x": [
          4.3
         ],
         "showlegend": false,
         "mode": "markers",
         "name": "y1",
         "zmin": 1,
         "legendgroup": "y1",
         "marker": {
          "symbol": "circle",
          "color": "rgba(255, 76, 76, 1.000)",
          "line": {
           "color": "rgba(0, 0, 0, 1.000)",
           "width": 1
          },
          "size": 8
         },
         "zmax": 3,
         "y": [
          1.3
         ],
         "type": "scatter"
        },
        {
         "xaxis": "x",
         "colorbar": {
          "title": ""
         },
         "yaxis": "y",
         "x": [
          4.4
         ],
         "showlegend": false,
         "mode": "markers",
         "name": "y1",
         "zmin": 1,
         "legendgroup": "y1",
         "marker": {
          "symbol": "circle",
          "color": "rgba(255, 76, 76, 1.000)",
          "line": {
           "color": "rgba(0, 0, 0, 1.000)",
           "width": 1
          },
          "size": 8
         },
         "zmax": 3,
         "y": [
          1.4
         ],
         "type": "scatter"
        },
        {
         "xaxis": "x",
         "colorbar": {
          "title": ""
         },
         "yaxis": "y",
         "x": [
          4.8
         ],
         "showlegend": false,
         "mode": "markers",
         "name": "y1",
         "zmin": 1,
         "legendgroup": "y1",
         "marker": {
          "symbol": "circle",
          "color": "rgba(255, 76, 76, 1.000)",
          "line": {
           "color": "rgba(0, 0, 0, 1.000)",
           "width": 1
          },
          "size": 8
         },
         "zmax": 3,
         "y": [
          1.4
         ],
         "type": "scatter"
        },
        {
         "xaxis": "x",
         "colorbar": {
          "title": ""
         },
         "yaxis": "y",
         "x": [
          5
         ],
         "showlegend": false,
         "mode": "markers",
         "name": "y1",
         "zmin": 1,
         "legendgroup": "y1",
         "marker": {
          "symbol": "circle",
          "color": "rgba(76, 204, 76, 1.000)",
          "line": {
           "color": "rgba(0, 0, 0, 1.000)",
           "width": 1
          },
          "size": 8
         },
         "zmax": 3,
         "y": [
          1.7
         ],
         "type": "scatter"
        },
        {
         "xaxis": "x",
         "colorbar": {
          "title": ""
         },
         "yaxis": "y",
         "x": [
          4.5
         ],
         "showlegend": false,
         "mode": "markers",
         "name": "y1",
         "zmin": 1,
         "legendgroup": "y1",
         "marker": {
          "symbol": "circle",
          "color": "rgba(255, 76, 76, 1.000)",
          "line": {
           "color": "rgba(0, 0, 0, 1.000)",
           "width": 1
          },
          "size": 8
         },
         "zmax": 3,
         "y": [
          1.5
         ],
         "type": "scatter"
        },
        {
         "xaxis": "x",
         "colorbar": {
          "title": ""
         },
         "yaxis": "y",
         "x": [
          3.5
         ],
         "showlegend": false,
         "mode": "markers",
         "name": "y1",
         "zmin": 1,
         "legendgroup": "y1",
         "marker": {
          "symbol": "circle",
          "color": "rgba(255, 76, 76, 1.000)",
          "line": {
           "color": "rgba(0, 0, 0, 1.000)",
           "width": 1
          },
          "size": 8
         },
         "zmax": 3,
         "y": [
          1
         ],
         "type": "scatter"
        },
        {
         "xaxis": "x",
         "colorbar": {
          "title": ""
         },
         "yaxis": "y",
         "x": [
          3.8
         ],
         "showlegend": false,
         "mode": "markers",
         "name": "y1",
         "zmin": 1,
         "legendgroup": "y1",
         "marker": {
          "symbol": "circle",
          "color": "rgba(255, 76, 76, 1.000)",
          "line": {
           "color": "rgba(0, 0, 0, 1.000)",
           "width": 1
          },
          "size": 8
         },
         "zmax": 3,
         "y": [
          1.1
         ],
         "type": "scatter"
        },
        {
         "xaxis": "x",
         "colorbar": {
          "title": ""
         },
         "yaxis": "y",
         "x": [
          3.7
         ],
         "showlegend": false,
         "mode": "markers",
         "name": "y1",
         "zmin": 1,
         "legendgroup": "y1",
         "marker": {
          "symbol": "circle",
          "color": "rgba(255, 76, 76, 1.000)",
          "line": {
           "color": "rgba(0, 0, 0, 1.000)",
           "width": 1
          },
          "size": 8
         },
         "zmax": 3,
         "y": [
          1
         ],
         "type": "scatter"
        },
        {
         "xaxis": "x",
         "colorbar": {
          "title": ""
         },
         "yaxis": "y",
         "x": [
          3.9
         ],
         "showlegend": false,
         "mode": "markers",
         "name": "y1",
         "zmin": 1,
         "legendgroup": "y1",
         "marker": {
          "symbol": "circle",
          "color": "rgba(255, 76, 76, 1.000)",
          "line": {
           "color": "rgba(0, 0, 0, 1.000)",
           "width": 1
          },
          "size": 8
         },
         "zmax": 3,
         "y": [
          1.2
         ],
         "type": "scatter"
        },
        {
         "xaxis": "x",
         "colorbar": {
          "title": ""
         },
         "yaxis": "y",
         "x": [
          5.1
         ],
         "showlegend": false,
         "mode": "markers",
         "name": "y1",
         "zmin": 1,
         "legendgroup": "y1",
         "marker": {
          "symbol": "circle",
          "color": "rgba(255, 76, 76, 1.000)",
          "line": {
           "color": "rgba(0, 0, 0, 1.000)",
           "width": 1
          },
          "size": 8
         },
         "zmax": 3,
         "y": [
          1.6
         ],
         "type": "scatter"
        },
        {
         "xaxis": "x",
         "colorbar": {
          "title": ""
         },
         "yaxis": "y",
         "x": [
          4.5
         ],
         "showlegend": false,
         "mode": "markers",
         "name": "y1",
         "zmin": 1,
         "legendgroup": "y1",
         "marker": {
          "symbol": "circle",
          "color": "rgba(255, 76, 76, 1.000)",
          "line": {
           "color": "rgba(0, 0, 0, 1.000)",
           "width": 1
          },
          "size": 8
         },
         "zmax": 3,
         "y": [
          1.5
         ],
         "type": "scatter"
        },
        {
         "xaxis": "x",
         "colorbar": {
          "title": ""
         },
         "yaxis": "y",
         "x": [
          4.5
         ],
         "showlegend": false,
         "mode": "markers",
         "name": "y1",
         "zmin": 1,
         "legendgroup": "y1",
         "marker": {
          "symbol": "circle",
          "color": "rgba(255, 76, 76, 1.000)",
          "line": {
           "color": "rgba(0, 0, 0, 1.000)",
           "width": 1
          },
          "size": 8
         },
         "zmax": 3,
         "y": [
          1.6
         ],
         "type": "scatter"
        },
        {
         "xaxis": "x",
         "colorbar": {
          "title": ""
         },
         "yaxis": "y",
         "x": [
          4.7
         ],
         "showlegend": false,
         "mode": "markers",
         "name": "y1",
         "zmin": 1,
         "legendgroup": "y1",
         "marker": {
          "symbol": "circle",
          "color": "rgba(255, 76, 76, 1.000)",
          "line": {
           "color": "rgba(0, 0, 0, 1.000)",
           "width": 1
          },
          "size": 8
         },
         "zmax": 3,
         "y": [
          1.5
         ],
         "type": "scatter"
        },
        {
         "xaxis": "x",
         "colorbar": {
          "title": ""
         },
         "yaxis": "y",
         "x": [
          4.4
         ],
         "showlegend": false,
         "mode": "markers",
         "name": "y1",
         "zmin": 1,
         "legendgroup": "y1",
         "marker": {
          "symbol": "circle",
          "color": "rgba(255, 76, 76, 1.000)",
          "line": {
           "color": "rgba(0, 0, 0, 1.000)",
           "width": 1
          },
          "size": 8
         },
         "zmax": 3,
         "y": [
          1.3
         ],
         "type": "scatter"
        },
        {
         "xaxis": "x",
         "colorbar": {
          "title": ""
         },
         "yaxis": "y",
         "x": [
          4.1
         ],
         "showlegend": false,
         "mode": "markers",
         "name": "y1",
         "zmin": 1,
         "legendgroup": "y1",
         "marker": {
          "symbol": "circle",
          "color": "rgba(255, 76, 76, 1.000)",
          "line": {
           "color": "rgba(0, 0, 0, 1.000)",
           "width": 1
          },
          "size": 8
         },
         "zmax": 3,
         "y": [
          1.3
         ],
         "type": "scatter"
        },
        {
         "xaxis": "x",
         "colorbar": {
          "title": ""
         },
         "yaxis": "y",
         "x": [
          4
         ],
         "showlegend": false,
         "mode": "markers",
         "name": "y1",
         "zmin": 1,
         "legendgroup": "y1",
         "marker": {
          "symbol": "circle",
          "color": "rgba(255, 76, 76, 1.000)",
          "line": {
           "color": "rgba(0, 0, 0, 1.000)",
           "width": 1
          },
          "size": 8
         },
         "zmax": 3,
         "y": [
          1.3
         ],
         "type": "scatter"
        },
        {
         "xaxis": "x",
         "colorbar": {
          "title": ""
         },
         "yaxis": "y",
         "x": [
          4.4
         ],
         "showlegend": false,
         "mode": "markers",
         "name": "y1",
         "zmin": 1,
         "legendgroup": "y1",
         "marker": {
          "symbol": "circle",
          "color": "rgba(255, 76, 76, 1.000)",
          "line": {
           "color": "rgba(0, 0, 0, 1.000)",
           "width": 1
          },
          "size": 8
         },
         "zmax": 3,
         "y": [
          1.2
         ],
         "type": "scatter"
        },
        {
         "xaxis": "x",
         "colorbar": {
          "title": ""
         },
         "yaxis": "y",
         "x": [
          4.6
         ],
         "showlegend": false,
         "mode": "markers",
         "name": "y1",
         "zmin": 1,
         "legendgroup": "y1",
         "marker": {
          "symbol": "circle",
          "color": "rgba(255, 76, 76, 1.000)",
          "line": {
           "color": "rgba(0, 0, 0, 1.000)",
           "width": 1
          },
          "size": 8
         },
         "zmax": 3,
         "y": [
          1.4
         ],
         "type": "scatter"
        },
        {
         "xaxis": "x",
         "colorbar": {
          "title": ""
         },
         "yaxis": "y",
         "x": [
          4
         ],
         "showlegend": false,
         "mode": "markers",
         "name": "y1",
         "zmin": 1,
         "legendgroup": "y1",
         "marker": {
          "symbol": "circle",
          "color": "rgba(255, 76, 76, 1.000)",
          "line": {
           "color": "rgba(0, 0, 0, 1.000)",
           "width": 1
          },
          "size": 8
         },
         "zmax": 3,
         "y": [
          1.2
         ],
         "type": "scatter"
        },
        {
         "xaxis": "x",
         "colorbar": {
          "title": ""
         },
         "yaxis": "y",
         "x": [
          3.3
         ],
         "showlegend": false,
         "mode": "markers",
         "name": "y1",
         "zmin": 1,
         "legendgroup": "y1",
         "marker": {
          "symbol": "circle",
          "color": "rgba(255, 76, 76, 1.000)",
          "line": {
           "color": "rgba(0, 0, 0, 1.000)",
           "width": 1
          },
          "size": 8
         },
         "zmax": 3,
         "y": [
          1
         ],
         "type": "scatter"
        },
        {
         "xaxis": "x",
         "colorbar": {
          "title": ""
         },
         "yaxis": "y",
         "x": [
          4.2
         ],
         "showlegend": false,
         "mode": "markers",
         "name": "y1",
         "zmin": 1,
         "legendgroup": "y1",
         "marker": {
          "symbol": "circle",
          "color": "rgba(255, 76, 76, 1.000)",
          "line": {
           "color": "rgba(0, 0, 0, 1.000)",
           "width": 1
          },
          "size": 8
         },
         "zmax": 3,
         "y": [
          1.3
         ],
         "type": "scatter"
        },
        {
         "xaxis": "x",
         "colorbar": {
          "title": ""
         },
         "yaxis": "y",
         "x": [
          4.2
         ],
         "showlegend": false,
         "mode": "markers",
         "name": "y1",
         "zmin": 1,
         "legendgroup": "y1",
         "marker": {
          "symbol": "circle",
          "color": "rgba(255, 76, 76, 1.000)",
          "line": {
           "color": "rgba(0, 0, 0, 1.000)",
           "width": 1
          },
          "size": 8
         },
         "zmax": 3,
         "y": [
          1.2
         ],
         "type": "scatter"
        },
        {
         "xaxis": "x",
         "colorbar": {
          "title": ""
         },
         "yaxis": "y",
         "x": [
          4.2
         ],
         "showlegend": false,
         "mode": "markers",
         "name": "y1",
         "zmin": 1,
         "legendgroup": "y1",
         "marker": {
          "symbol": "circle",
          "color": "rgba(255, 76, 76, 1.000)",
          "line": {
           "color": "rgba(0, 0, 0, 1.000)",
           "width": 1
          },
          "size": 8
         },
         "zmax": 3,
         "y": [
          1.3
         ],
         "type": "scatter"
        },
        {
         "xaxis": "x",
         "colorbar": {
          "title": ""
         },
         "yaxis": "y",
         "x": [
          4.3
         ],
         "showlegend": false,
         "mode": "markers",
         "name": "y1",
         "zmin": 1,
         "legendgroup": "y1",
         "marker": {
          "symbol": "circle",
          "color": "rgba(255, 76, 76, 1.000)",
          "line": {
           "color": "rgba(0, 0, 0, 1.000)",
           "width": 1
          },
          "size": 8
         },
         "zmax": 3,
         "y": [
          1.3
         ],
         "type": "scatter"
        },
        {
         "xaxis": "x",
         "colorbar": {
          "title": ""
         },
         "yaxis": "y",
         "x": [
          3
         ],
         "showlegend": false,
         "mode": "markers",
         "name": "y1",
         "zmin": 1,
         "legendgroup": "y1",
         "marker": {
          "symbol": "circle",
          "color": "rgba(255, 76, 76, 1.000)",
          "line": {
           "color": "rgba(0, 0, 0, 1.000)",
           "width": 1
          },
          "size": 8
         },
         "zmax": 3,
         "y": [
          1.1
         ],
         "type": "scatter"
        },
        {
         "xaxis": "x",
         "colorbar": {
          "title": ""
         },
         "yaxis": "y",
         "x": [
          4.1
         ],
         "showlegend": false,
         "mode": "markers",
         "name": "y1",
         "zmin": 1,
         "legendgroup": "y1",
         "marker": {
          "symbol": "circle",
          "color": "rgba(255, 76, 76, 1.000)",
          "line": {
           "color": "rgba(0, 0, 0, 1.000)",
           "width": 1
          },
          "size": 8
         },
         "zmax": 3,
         "y": [
          1.3
         ],
         "type": "scatter"
        },
        {
         "xaxis": "x",
         "colorbar": {
          "title": ""
         },
         "yaxis": "y",
         "x": [
          6
         ],
         "showlegend": false,
         "mode": "markers",
         "name": "y1",
         "zmin": 1,
         "legendgroup": "y1",
         "marker": {
          "symbol": "circle",
          "color": "rgba(76, 204, 76, 1.000)",
          "line": {
           "color": "rgba(0, 0, 0, 1.000)",
           "width": 1
          },
          "size": 8
         },
         "zmax": 3,
         "y": [
          2.5
         ],
         "type": "scatter"
        },
        {
         "xaxis": "x",
         "colorbar": {
          "title": ""
         },
         "yaxis": "y",
         "x": [
          5.1
         ],
         "showlegend": false,
         "mode": "markers",
         "name": "y1",
         "zmin": 1,
         "legendgroup": "y1",
         "marker": {
          "symbol": "circle",
          "color": "rgba(255, 76, 76, 1.000)",
          "line": {
           "color": "rgba(0, 0, 0, 1.000)",
           "width": 1
          },
          "size": 8
         },
         "zmax": 3,
         "y": [
          1.9
         ],
         "type": "scatter"
        },
        {
         "xaxis": "x",
         "colorbar": {
          "title": ""
         },
         "yaxis": "y",
         "x": [
          5.9
         ],
         "showlegend": false,
         "mode": "markers",
         "name": "y1",
         "zmin": 1,
         "legendgroup": "y1",
         "marker": {
          "symbol": "circle",
          "color": "rgba(76, 204, 76, 1.000)",
          "line": {
           "color": "rgba(0, 0, 0, 1.000)",
           "width": 1
          },
          "size": 8
         },
         "zmax": 3,
         "y": [
          2.1
         ],
         "type": "scatter"
        },
        {
         "xaxis": "x",
         "colorbar": {
          "title": ""
         },
         "yaxis": "y",
         "x": [
          5.6
         ],
         "showlegend": false,
         "mode": "markers",
         "name": "y1",
         "zmin": 1,
         "legendgroup": "y1",
         "marker": {
          "symbol": "circle",
          "color": "rgba(76, 204, 76, 1.000)",
          "line": {
           "color": "rgba(0, 0, 0, 1.000)",
           "width": 1
          },
          "size": 8
         },
         "zmax": 3,
         "y": [
          1.8
         ],
         "type": "scatter"
        },
        {
         "xaxis": "x",
         "colorbar": {
          "title": ""
         },
         "yaxis": "y",
         "x": [
          5.8
         ],
         "showlegend": false,
         "mode": "markers",
         "name": "y1",
         "zmin": 1,
         "legendgroup": "y1",
         "marker": {
          "symbol": "circle",
          "color": "rgba(76, 204, 76, 1.000)",
          "line": {
           "color": "rgba(0, 0, 0, 1.000)",
           "width": 1
          },
          "size": 8
         },
         "zmax": 3,
         "y": [
          2.2
         ],
         "type": "scatter"
        },
        {
         "xaxis": "x",
         "colorbar": {
          "title": ""
         },
         "yaxis": "y",
         "x": [
          6.6
         ],
         "showlegend": false,
         "mode": "markers",
         "name": "y1",
         "zmin": 1,
         "legendgroup": "y1",
         "marker": {
          "symbol": "circle",
          "color": "rgba(76, 204, 76, 1.000)",
          "line": {
           "color": "rgba(0, 0, 0, 1.000)",
           "width": 1
          },
          "size": 8
         },
         "zmax": 3,
         "y": [
          2.1
         ],
         "type": "scatter"
        },
        {
         "xaxis": "x",
         "colorbar": {
          "title": ""
         },
         "yaxis": "y",
         "x": [
          4.5
         ],
         "showlegend": false,
         "mode": "markers",
         "name": "y1",
         "zmin": 1,
         "legendgroup": "y1",
         "marker": {
          "symbol": "circle",
          "color": "rgba(255, 76, 76, 1.000)",
          "line": {
           "color": "rgba(0, 0, 0, 1.000)",
           "width": 1
          },
          "size": 8
         },
         "zmax": 3,
         "y": [
          1.7
         ],
         "type": "scatter"
        },
        {
         "xaxis": "x",
         "colorbar": {
          "title": ""
         },
         "yaxis": "y",
         "x": [
          6.3
         ],
         "showlegend": false,
         "mode": "markers",
         "name": "y1",
         "zmin": 1,
         "legendgroup": "y1",
         "marker": {
          "symbol": "circle",
          "color": "rgba(76, 204, 76, 1.000)",
          "line": {
           "color": "rgba(0, 0, 0, 1.000)",
           "width": 1
          },
          "size": 8
         },
         "zmax": 3,
         "y": [
          1.8
         ],
         "type": "scatter"
        },
        {
         "xaxis": "x",
         "colorbar": {
          "title": ""
         },
         "yaxis": "y",
         "x": [
          5.8
         ],
         "showlegend": false,
         "mode": "markers",
         "name": "y1",
         "zmin": 1,
         "legendgroup": "y1",
         "marker": {
          "symbol": "circle",
          "color": "rgba(76, 204, 76, 1.000)",
          "line": {
           "color": "rgba(0, 0, 0, 1.000)",
           "width": 1
          },
          "size": 8
         },
         "zmax": 3,
         "y": [
          1.8
         ],
         "type": "scatter"
        },
        {
         "xaxis": "x",
         "colorbar": {
          "title": ""
         },
         "yaxis": "y",
         "x": [
          6.1
         ],
         "showlegend": false,
         "mode": "markers",
         "name": "y1",
         "zmin": 1,
         "legendgroup": "y1",
         "marker": {
          "symbol": "circle",
          "color": "rgba(76, 204, 76, 1.000)",
          "line": {
           "color": "rgba(0, 0, 0, 1.000)",
           "width": 1
          },
          "size": 8
         },
         "zmax": 3,
         "y": [
          2.5
         ],
         "type": "scatter"
        },
        {
         "xaxis": "x",
         "colorbar": {
          "title": ""
         },
         "yaxis": "y",
         "x": [
          5.1
         ],
         "showlegend": false,
         "mode": "markers",
         "name": "y1",
         "zmin": 1,
         "legendgroup": "y1",
         "marker": {
          "symbol": "circle",
          "color": "rgba(76, 204, 76, 1.000)",
          "line": {
           "color": "rgba(0, 0, 0, 1.000)",
           "width": 1
          },
          "size": 8
         },
         "zmax": 3,
         "y": [
          2
         ],
         "type": "scatter"
        },
        {
         "xaxis": "x",
         "colorbar": {
          "title": ""
         },
         "yaxis": "y",
         "x": [
          5.3
         ],
         "showlegend": false,
         "mode": "markers",
         "name": "y1",
         "zmin": 1,
         "legendgroup": "y1",
         "marker": {
          "symbol": "circle",
          "color": "rgba(76, 204, 76, 1.000)",
          "line": {
           "color": "rgba(0, 0, 0, 1.000)",
           "width": 1
          },
          "size": 8
         },
         "zmax": 3,
         "y": [
          1.9
         ],
         "type": "scatter"
        },
        {
         "xaxis": "x",
         "colorbar": {
          "title": ""
         },
         "yaxis": "y",
         "x": [
          5.5
         ],
         "showlegend": false,
         "mode": "markers",
         "name": "y1",
         "zmin": 1,
         "legendgroup": "y1",
         "marker": {
          "symbol": "circle",
          "color": "rgba(76, 204, 76, 1.000)",
          "line": {
           "color": "rgba(0, 0, 0, 1.000)",
           "width": 1
          },
          "size": 8
         },
         "zmax": 3,
         "y": [
          2.1
         ],
         "type": "scatter"
        },
        {
         "xaxis": "x",
         "colorbar": {
          "title": ""
         },
         "yaxis": "y",
         "x": [
          5
         ],
         "showlegend": false,
         "mode": "markers",
         "name": "y1",
         "zmin": 1,
         "legendgroup": "y1",
         "marker": {
          "symbol": "circle",
          "color": "rgba(255, 76, 76, 1.000)",
          "line": {
           "color": "rgba(0, 0, 0, 1.000)",
           "width": 1
          },
          "size": 8
         },
         "zmax": 3,
         "y": [
          2
         ],
         "type": "scatter"
        },
        {
         "xaxis": "x",
         "colorbar": {
          "title": ""
         },
         "yaxis": "y",
         "x": [
          5.1
         ],
         "showlegend": false,
         "mode": "markers",
         "name": "y1",
         "zmin": 1,
         "legendgroup": "y1",
         "marker": {
          "symbol": "circle",
          "color": "rgba(255, 76, 76, 1.000)",
          "line": {
           "color": "rgba(0, 0, 0, 1.000)",
           "width": 1
          },
          "size": 8
         },
         "zmax": 3,
         "y": [
          2.4
         ],
         "type": "scatter"
        },
        {
         "xaxis": "x",
         "colorbar": {
          "title": ""
         },
         "yaxis": "y",
         "x": [
          5.3
         ],
         "showlegend": false,
         "mode": "markers",
         "name": "y1",
         "zmin": 1,
         "legendgroup": "y1",
         "marker": {
          "symbol": "circle",
          "color": "rgba(76, 204, 76, 1.000)",
          "line": {
           "color": "rgba(0, 0, 0, 1.000)",
           "width": 1
          },
          "size": 8
         },
         "zmax": 3,
         "y": [
          2.3
         ],
         "type": "scatter"
        },
        {
         "xaxis": "x",
         "colorbar": {
          "title": ""
         },
         "yaxis": "y",
         "x": [
          5.5
         ],
         "showlegend": false,
         "mode": "markers",
         "name": "y1",
         "zmin": 1,
         "legendgroup": "y1",
         "marker": {
          "symbol": "circle",
          "color": "rgba(76, 204, 76, 1.000)",
          "line": {
           "color": "rgba(0, 0, 0, 1.000)",
           "width": 1
          },
          "size": 8
         },
         "zmax": 3,
         "y": [
          1.8
         ],
         "type": "scatter"
        },
        {
         "xaxis": "x",
         "colorbar": {
          "title": ""
         },
         "yaxis": "y",
         "x": [
          6.7
         ],
         "showlegend": false,
         "mode": "markers",
         "name": "y1",
         "zmin": 1,
         "legendgroup": "y1",
         "marker": {
          "symbol": "circle",
          "color": "rgba(76, 204, 76, 1.000)",
          "line": {
           "color": "rgba(0, 0, 0, 1.000)",
           "width": 1
          },
          "size": 8
         },
         "zmax": 3,
         "y": [
          2.2
         ],
         "type": "scatter"
        },
        {
         "xaxis": "x",
         "colorbar": {
          "title": ""
         },
         "yaxis": "y",
         "x": [
          6.9
         ],
         "showlegend": false,
         "mode": "markers",
         "name": "y1",
         "zmin": 1,
         "legendgroup": "y1",
         "marker": {
          "symbol": "circle",
          "color": "rgba(76, 204, 76, 1.000)",
          "line": {
           "color": "rgba(0, 0, 0, 1.000)",
           "width": 1
          },
          "size": 8
         },
         "zmax": 3,
         "y": [
          2.3
         ],
         "type": "scatter"
        },
        {
         "xaxis": "x",
         "colorbar": {
          "title": ""
         },
         "yaxis": "y",
         "x": [
          5
         ],
         "showlegend": false,
         "mode": "markers",
         "name": "y1",
         "zmin": 1,
         "legendgroup": "y1",
         "marker": {
          "symbol": "circle",
          "color": "rgba(255, 76, 76, 1.000)",
          "line": {
           "color": "rgba(0, 0, 0, 1.000)",
           "width": 1
          },
          "size": 8
         },
         "zmax": 3,
         "y": [
          1.5
         ],
         "type": "scatter"
        },
        {
         "xaxis": "x",
         "colorbar": {
          "title": ""
         },
         "yaxis": "y",
         "x": [
          5.7
         ],
         "showlegend": false,
         "mode": "markers",
         "name": "y1",
         "zmin": 1,
         "legendgroup": "y1",
         "marker": {
          "symbol": "circle",
          "color": "rgba(76, 204, 76, 1.000)",
          "line": {
           "color": "rgba(0, 0, 0, 1.000)",
           "width": 1
          },
          "size": 8
         },
         "zmax": 3,
         "y": [
          2.3
         ],
         "type": "scatter"
        },
        {
         "xaxis": "x",
         "colorbar": {
          "title": ""
         },
         "yaxis": "y",
         "x": [
          4.9
         ],
         "showlegend": false,
         "mode": "markers",
         "name": "y1",
         "zmin": 1,
         "legendgroup": "y1",
         "marker": {
          "symbol": "circle",
          "color": "rgba(255, 76, 76, 1.000)",
          "line": {
           "color": "rgba(0, 0, 0, 1.000)",
           "width": 1
          },
          "size": 8
         },
         "zmax": 3,
         "y": [
          2
         ],
         "type": "scatter"
        },
        {
         "xaxis": "x",
         "colorbar": {
          "title": ""
         },
         "yaxis": "y",
         "x": [
          6.7
         ],
         "showlegend": false,
         "mode": "markers",
         "name": "y1",
         "zmin": 1,
         "legendgroup": "y1",
         "marker": {
          "symbol": "circle",
          "color": "rgba(76, 204, 76, 1.000)",
          "line": {
           "color": "rgba(0, 0, 0, 1.000)",
           "width": 1
          },
          "size": 8
         },
         "zmax": 3,
         "y": [
          2
         ],
         "type": "scatter"
        },
        {
         "xaxis": "x",
         "colorbar": {
          "title": ""
         },
         "yaxis": "y",
         "x": [
          4.9
         ],
         "showlegend": false,
         "mode": "markers",
         "name": "y1",
         "zmin": 1,
         "legendgroup": "y1",
         "marker": {
          "symbol": "circle",
          "color": "rgba(255, 76, 76, 1.000)",
          "line": {
           "color": "rgba(0, 0, 0, 1.000)",
           "width": 1
          },
          "size": 8
         },
         "zmax": 3,
         "y": [
          1.8
         ],
         "type": "scatter"
        },
        {
         "xaxis": "x",
         "colorbar": {
          "title": ""
         },
         "yaxis": "y",
         "x": [
          5.7
         ],
         "showlegend": false,
         "mode": "markers",
         "name": "y1",
         "zmin": 1,
         "legendgroup": "y1",
         "marker": {
          "symbol": "circle",
          "color": "rgba(76, 204, 76, 1.000)",
          "line": {
           "color": "rgba(0, 0, 0, 1.000)",
           "width": 1
          },
          "size": 8
         },
         "zmax": 3,
         "y": [
          2.1
         ],
         "type": "scatter"
        },
        {
         "xaxis": "x",
         "colorbar": {
          "title": ""
         },
         "yaxis": "y",
         "x": [
          6
         ],
         "showlegend": false,
         "mode": "markers",
         "name": "y1",
         "zmin": 1,
         "legendgroup": "y1",
         "marker": {
          "symbol": "circle",
          "color": "rgba(76, 204, 76, 1.000)",
          "line": {
           "color": "rgba(0, 0, 0, 1.000)",
           "width": 1
          },
          "size": 8
         },
         "zmax": 3,
         "y": [
          1.8
         ],
         "type": "scatter"
        },
        {
         "xaxis": "x",
         "colorbar": {
          "title": ""
         },
         "yaxis": "y",
         "x": [
          4.8
         ],
         "showlegend": false,
         "mode": "markers",
         "name": "y1",
         "zmin": 1,
         "legendgroup": "y1",
         "marker": {
          "symbol": "circle",
          "color": "rgba(255, 76, 76, 1.000)",
          "line": {
           "color": "rgba(0, 0, 0, 1.000)",
           "width": 1
          },
          "size": 8
         },
         "zmax": 3,
         "y": [
          1.8
         ],
         "type": "scatter"
        },
        {
         "xaxis": "x",
         "colorbar": {
          "title": ""
         },
         "yaxis": "y",
         "x": [
          4.9
         ],
         "showlegend": false,
         "mode": "markers",
         "name": "y1",
         "zmin": 1,
         "legendgroup": "y1",
         "marker": {
          "symbol": "circle",
          "color": "rgba(255, 76, 76, 1.000)",
          "line": {
           "color": "rgba(0, 0, 0, 1.000)",
           "width": 1
          },
          "size": 8
         },
         "zmax": 3,
         "y": [
          1.8
         ],
         "type": "scatter"
        },
        {
         "xaxis": "x",
         "colorbar": {
          "title": ""
         },
         "yaxis": "y",
         "x": [
          5.6
         ],
         "showlegend": false,
         "mode": "markers",
         "name": "y1",
         "zmin": 1,
         "legendgroup": "y1",
         "marker": {
          "symbol": "circle",
          "color": "rgba(76, 204, 76, 1.000)",
          "line": {
           "color": "rgba(0, 0, 0, 1.000)",
           "width": 1
          },
          "size": 8
         },
         "zmax": 3,
         "y": [
          2.1
         ],
         "type": "scatter"
        },
        {
         "xaxis": "x",
         "colorbar": {
          "title": ""
         },
         "yaxis": "y",
         "x": [
          5.8
         ],
         "showlegend": false,
         "mode": "markers",
         "name": "y1",
         "zmin": 1,
         "legendgroup": "y1",
         "marker": {
          "symbol": "circle",
          "color": "rgba(76, 204, 76, 1.000)",
          "line": {
           "color": "rgba(0, 0, 0, 1.000)",
           "width": 1
          },
          "size": 8
         },
         "zmax": 3,
         "y": [
          1.6
         ],
         "type": "scatter"
        },
        {
         "xaxis": "x",
         "colorbar": {
          "title": ""
         },
         "yaxis": "y",
         "x": [
          6.1
         ],
         "showlegend": false,
         "mode": "markers",
         "name": "y1",
         "zmin": 1,
         "legendgroup": "y1",
         "marker": {
          "symbol": "circle",
          "color": "rgba(76, 204, 76, 1.000)",
          "line": {
           "color": "rgba(0, 0, 0, 1.000)",
           "width": 1
          },
          "size": 8
         },
         "zmax": 3,
         "y": [
          1.9
         ],
         "type": "scatter"
        },
        {
         "xaxis": "x",
         "colorbar": {
          "title": ""
         },
         "yaxis": "y",
         "x": [
          6.4
         ],
         "showlegend": false,
         "mode": "markers",
         "name": "y1",
         "zmin": 1,
         "legendgroup": "y1",
         "marker": {
          "symbol": "circle",
          "color": "rgba(76, 204, 76, 1.000)",
          "line": {
           "color": "rgba(0, 0, 0, 1.000)",
           "width": 1
          },
          "size": 8
         },
         "zmax": 3,
         "y": [
          2
         ],
         "type": "scatter"
        },
        {
         "xaxis": "x",
         "colorbar": {
          "title": ""
         },
         "yaxis": "y",
         "x": [
          5.6
         ],
         "showlegend": false,
         "mode": "markers",
         "name": "y1",
         "zmin": 1,
         "legendgroup": "y1",
         "marker": {
          "symbol": "circle",
          "color": "rgba(76, 204, 76, 1.000)",
          "line": {
           "color": "rgba(0, 0, 0, 1.000)",
           "width": 1
          },
          "size": 8
         },
         "zmax": 3,
         "y": [
          2.2
         ],
         "type": "scatter"
        },
        {
         "xaxis": "x",
         "colorbar": {
          "title": ""
         },
         "yaxis": "y",
         "x": [
          5.1
         ],
         "showlegend": false,
         "mode": "markers",
         "name": "y1",
         "zmin": 1,
         "legendgroup": "y1",
         "marker": {
          "symbol": "circle",
          "color": "rgba(255, 76, 76, 1.000)",
          "line": {
           "color": "rgba(0, 0, 0, 1.000)",
           "width": 1
          },
          "size": 8
         },
         "zmax": 3,
         "y": [
          1.5
         ],
         "type": "scatter"
        },
        {
         "xaxis": "x",
         "colorbar": {
          "title": ""
         },
         "yaxis": "y",
         "x": [
          5.6
         ],
         "showlegend": false,
         "mode": "markers",
         "name": "y1",
         "zmin": 1,
         "legendgroup": "y1",
         "marker": {
          "symbol": "circle",
          "color": "rgba(76, 204, 76, 1.000)",
          "line": {
           "color": "rgba(0, 0, 0, 1.000)",
           "width": 1
          },
          "size": 8
         },
         "zmax": 3,
         "y": [
          1.4
         ],
         "type": "scatter"
        },
        {
         "xaxis": "x",
         "colorbar": {
          "title": ""
         },
         "yaxis": "y",
         "x": [
          6.1
         ],
         "showlegend": false,
         "mode": "markers",
         "name": "y1",
         "zmin": 1,
         "legendgroup": "y1",
         "marker": {
          "symbol": "circle",
          "color": "rgba(76, 204, 76, 1.000)",
          "line": {
           "color": "rgba(0, 0, 0, 1.000)",
           "width": 1
          },
          "size": 8
         },
         "zmax": 3,
         "y": [
          2.3
         ],
         "type": "scatter"
        },
        {
         "xaxis": "x",
         "colorbar": {
          "title": ""
         },
         "yaxis": "y",
         "x": [
          5.6
         ],
         "showlegend": false,
         "mode": "markers",
         "name": "y1",
         "zmin": 1,
         "legendgroup": "y1",
         "marker": {
          "symbol": "circle",
          "color": "rgba(76, 204, 76, 1.000)",
          "line": {
           "color": "rgba(0, 0, 0, 1.000)",
           "width": 1
          },
          "size": 8
         },
         "zmax": 3,
         "y": [
          2.4
         ],
         "type": "scatter"
        },
        {
         "xaxis": "x",
         "colorbar": {
          "title": ""
         },
         "yaxis": "y",
         "x": [
          5.5
         ],
         "showlegend": false,
         "mode": "markers",
         "name": "y1",
         "zmin": 1,
         "legendgroup": "y1",
         "marker": {
          "symbol": "circle",
          "color": "rgba(76, 204, 76, 1.000)",
          "line": {
           "color": "rgba(0, 0, 0, 1.000)",
           "width": 1
          },
          "size": 8
         },
         "zmax": 3,
         "y": [
          1.8
         ],
         "type": "scatter"
        },
        {
         "xaxis": "x",
         "colorbar": {
          "title": ""
         },
         "yaxis": "y",
         "x": [
          4.8
         ],
         "showlegend": false,
         "mode": "markers",
         "name": "y1",
         "zmin": 1,
         "legendgroup": "y1",
         "marker": {
          "symbol": "circle",
          "color": "rgba(255, 76, 76, 1.000)",
          "line": {
           "color": "rgba(0, 0, 0, 1.000)",
           "width": 1
          },
          "size": 8
         },
         "zmax": 3,
         "y": [
          1.8
         ],
         "type": "scatter"
        },
        {
         "xaxis": "x",
         "colorbar": {
          "title": ""
         },
         "yaxis": "y",
         "x": [
          5.4
         ],
         "showlegend": false,
         "mode": "markers",
         "name": "y1",
         "zmin": 1,
         "legendgroup": "y1",
         "marker": {
          "symbol": "circle",
          "color": "rgba(76, 204, 76, 1.000)",
          "line": {
           "color": "rgba(0, 0, 0, 1.000)",
           "width": 1
          },
          "size": 8
         },
         "zmax": 3,
         "y": [
          2.1
         ],
         "type": "scatter"
        },
        {
         "xaxis": "x",
         "colorbar": {
          "title": ""
         },
         "yaxis": "y",
         "x": [
          5.6
         ],
         "showlegend": false,
         "mode": "markers",
         "name": "y1",
         "zmin": 1,
         "legendgroup": "y1",
         "marker": {
          "symbol": "circle",
          "color": "rgba(76, 204, 76, 1.000)",
          "line": {
           "color": "rgba(0, 0, 0, 1.000)",
           "width": 1
          },
          "size": 8
         },
         "zmax": 3,
         "y": [
          2.4
         ],
         "type": "scatter"
        },
        {
         "xaxis": "x",
         "colorbar": {
          "title": ""
         },
         "yaxis": "y",
         "x": [
          5.1
         ],
         "showlegend": false,
         "mode": "markers",
         "name": "y1",
         "zmin": 1,
         "legendgroup": "y1",
         "marker": {
          "symbol": "circle",
          "color": "rgba(76, 204, 76, 1.000)",
          "line": {
           "color": "rgba(0, 0, 0, 1.000)",
           "width": 1
          },
          "size": 8
         },
         "zmax": 3,
         "y": [
          2.3
         ],
         "type": "scatter"
        },
        {
         "xaxis": "x",
         "colorbar": {
          "title": ""
         },
         "yaxis": "y",
         "x": [
          5.1
         ],
         "showlegend": false,
         "mode": "markers",
         "name": "y1",
         "zmin": 1,
         "legendgroup": "y1",
         "marker": {
          "symbol": "circle",
          "color": "rgba(255, 76, 76, 1.000)",
          "line": {
           "color": "rgba(0, 0, 0, 1.000)",
           "width": 1
          },
          "size": 8
         },
         "zmax": 3,
         "y": [
          1.9
         ],
         "type": "scatter"
        },
        {
         "xaxis": "x",
         "colorbar": {
          "title": ""
         },
         "yaxis": "y",
         "x": [
          5.9
         ],
         "showlegend": false,
         "mode": "markers",
         "name": "y1",
         "zmin": 1,
         "legendgroup": "y1",
         "marker": {
          "symbol": "circle",
          "color": "rgba(76, 204, 76, 1.000)",
          "line": {
           "color": "rgba(0, 0, 0, 1.000)",
           "width": 1
          },
          "size": 8
         },
         "zmax": 3,
         "y": [
          2.3
         ],
         "type": "scatter"
        },
        {
         "xaxis": "x",
         "colorbar": {
          "title": ""
         },
         "yaxis": "y",
         "x": [
          5.7
         ],
         "showlegend": false,
         "mode": "markers",
         "name": "y1",
         "zmin": 1,
         "legendgroup": "y1",
         "marker": {
          "symbol": "circle",
          "color": "rgba(76, 204, 76, 1.000)",
          "line": {
           "color": "rgba(0, 0, 0, 1.000)",
           "width": 1
          },
          "size": 8
         },
         "zmax": 3,
         "y": [
          2.5
         ],
         "type": "scatter"
        },
        {
         "xaxis": "x",
         "colorbar": {
          "title": ""
         },
         "yaxis": "y",
         "x": [
          5.2
         ],
         "showlegend": false,
         "mode": "markers",
         "name": "y1",
         "zmin": 1,
         "legendgroup": "y1",
         "marker": {
          "symbol": "circle",
          "color": "rgba(76, 204, 76, 1.000)",
          "line": {
           "color": "rgba(0, 0, 0, 1.000)",
           "width": 1
          },
          "size": 8
         },
         "zmax": 3,
         "y": [
          2.3
         ],
         "type": "scatter"
        },
        {
         "xaxis": "x",
         "colorbar": {
          "title": ""
         },
         "yaxis": "y",
         "x": [
          5
         ],
         "showlegend": false,
         "mode": "markers",
         "name": "y1",
         "zmin": 1,
         "legendgroup": "y1",
         "marker": {
          "symbol": "circle",
          "color": "rgba(255, 76, 76, 1.000)",
          "line": {
           "color": "rgba(0, 0, 0, 1.000)",
           "width": 1
          },
          "size": 8
         },
         "zmax": 3,
         "y": [
          1.9
         ],
         "type": "scatter"
        },
        {
         "xaxis": "x",
         "colorbar": {
          "title": ""
         },
         "yaxis": "y",
         "x": [
          5.2
         ],
         "showlegend": false,
         "mode": "markers",
         "name": "y1",
         "zmin": 1,
         "legendgroup": "y1",
         "marker": {
          "symbol": "circle",
          "color": "rgba(76, 204, 76, 1.000)",
          "line": {
           "color": "rgba(0, 0, 0, 1.000)",
           "width": 1
          },
          "size": 8
         },
         "zmax": 3,
         "y": [
          2
         ],
         "type": "scatter"
        },
        {
         "xaxis": "x",
         "colorbar": {
          "title": ""
         },
         "yaxis": "y",
         "x": [
          5.4
         ],
         "showlegend": false,
         "mode": "markers",
         "name": "y1",
         "zmin": 1,
         "legendgroup": "y1",
         "marker": {
          "symbol": "circle",
          "color": "rgba(76, 204, 76, 1.000)",
          "line": {
           "color": "rgba(0, 0, 0, 1.000)",
           "width": 1
          },
          "size": 8
         },
         "zmax": 3,
         "y": [
          2.3
         ],
         "type": "scatter"
        },
        {
         "xaxis": "x",
         "colorbar": {
          "title": ""
         },
         "yaxis": "y",
         "x": [
          5.1
         ],
         "showlegend": false,
         "mode": "markers",
         "name": "y1",
         "zmin": 1,
         "legendgroup": "y1",
         "marker": {
          "symbol": "circle",
          "color": "rgba(255, 76, 76, 1.000)",
          "line": {
           "color": "rgba(0, 0, 0, 1.000)",
           "width": 1
          },
          "size": 8
         },
         "zmax": 3,
         "y": [
          1.8
         ],
         "type": "scatter"
        },
        {
         "xaxis": "x",
         "colorbar": {
          "title": ""
         },
         "yaxis": "y",
         "x": [
          1.4
         ],
         "showlegend": false,
         "mode": "markers",
         "name": "y1",
         "zmin": 1,
         "marker": {
          "color": [
           0.5
          ],
          "cmin": 1,
          "opacity": 1e-10,
          "size": 1e-10,
          "colorscale": [
           [
            0,
            "rgba(204, 76, 204, 1.000)"
           ],
           [
            0.25,
            "rgba(76, 76, 255, 1.000)"
           ],
           [
            0.5,
            "rgba(76, 204, 76, 1.000)"
           ],
           [
            0.75,
            "rgba(255, 242, 76, 1.000)"
           ],
           [
            1,
            "rgba(255, 76, 76, 1.000)"
           ]
          ],
          "cmax": 3,
          "showscale": false
         },
         "zmax": 3,
         "y": [
          0.2
         ],
         "type": "scatter",
         "hoverinfo": "none"
        }
       ]
      },
      "text/html": [
       "    <div id=\"d0e876fd-6271-4747-9e1a-7b2f499a4c81\" style=\"width:600px;height:400px;\"></div>\n",
       "    <script>\n",
       "        requirejs.config({\n",
       "        paths: {\n",
       "            Plotly: 'https://cdn.plot.ly/plotly-1.57.1.min'\n",
       "        }\n",
       "    });\n",
       "    require(['Plotly'], function (Plotly) {\n",
       "\n",
       "        var PLOT = document.getElementById('d0e876fd-6271-4747-9e1a-7b2f499a4c81');\n",
       "    Plotly.plot(PLOT, [\n",
       "    {\n",
       "        \"xaxis\": \"x\",\n",
       "        \"colorbar\": {\n",
       "            \"title\": \"\"\n",
       "        },\n",
       "        \"yaxis\": \"y\",\n",
       "        \"x\": [\n",
       "            1.4\n",
       "        ],\n",
       "        \"showlegend\": true,\n",
       "        \"mode\": \"markers\",\n",
       "        \"name\": \"y1\",\n",
       "        \"zmin\": 1.0,\n",
       "        \"legendgroup\": \"y1\",\n",
       "        \"marker\": {\n",
       "            \"symbol\": \"circle\",\n",
       "            \"color\": \"rgba(204, 76, 204, 1.000)\",\n",
       "            \"line\": {\n",
       "                \"color\": \"rgba(0, 0, 0, 1.000)\",\n",
       "                \"width\": 1\n",
       "            },\n",
       "            \"size\": 8\n",
       "        },\n",
       "        \"zmax\": 3.0,\n",
       "        \"y\": [\n",
       "            0.2\n",
       "        ],\n",
       "        \"type\": \"scatter\"\n",
       "    },\n",
       "    {\n",
       "        \"xaxis\": \"x\",\n",
       "        \"colorbar\": {\n",
       "            \"title\": \"\"\n",
       "        },\n",
       "        \"yaxis\": \"y\",\n",
       "        \"x\": [\n",
       "            1.4\n",
       "        ],\n",
       "        \"showlegend\": false,\n",
       "        \"mode\": \"markers\",\n",
       "        \"name\": \"y1\",\n",
       "        \"zmin\": 1.0,\n",
       "        \"legendgroup\": \"y1\",\n",
       "        \"marker\": {\n",
       "            \"symbol\": \"circle\",\n",
       "            \"color\": \"rgba(204, 76, 204, 1.000)\",\n",
       "            \"line\": {\n",
       "                \"color\": \"rgba(0, 0, 0, 1.000)\",\n",
       "                \"width\": 1\n",
       "            },\n",
       "            \"size\": 8\n",
       "        },\n",
       "        \"zmax\": 3.0,\n",
       "        \"y\": [\n",
       "            0.2\n",
       "        ],\n",
       "        \"type\": \"scatter\"\n",
       "    },\n",
       "    {\n",
       "        \"xaxis\": \"x\",\n",
       "        \"colorbar\": {\n",
       "            \"title\": \"\"\n",
       "        },\n",
       "        \"yaxis\": \"y\",\n",
       "        \"x\": [\n",
       "            1.3\n",
       "        ],\n",
       "        \"showlegend\": false,\n",
       "        \"mode\": \"markers\",\n",
       "        \"name\": \"y1\",\n",
       "        \"zmin\": 1.0,\n",
       "        \"legendgroup\": \"y1\",\n",
       "        \"marker\": {\n",
       "            \"symbol\": \"circle\",\n",
       "            \"color\": \"rgba(204, 76, 204, 1.000)\",\n",
       "            \"line\": {\n",
       "                \"color\": \"rgba(0, 0, 0, 1.000)\",\n",
       "                \"width\": 1\n",
       "            },\n",
       "            \"size\": 8\n",
       "        },\n",
       "        \"zmax\": 3.0,\n",
       "        \"y\": [\n",
       "            0.2\n",
       "        ],\n",
       "        \"type\": \"scatter\"\n",
       "    },\n",
       "    {\n",
       "        \"xaxis\": \"x\",\n",
       "        \"colorbar\": {\n",
       "            \"title\": \"\"\n",
       "        },\n",
       "        \"yaxis\": \"y\",\n",
       "        \"x\": [\n",
       "            1.5\n",
       "        ],\n",
       "        \"showlegend\": false,\n",
       "        \"mode\": \"markers\",\n",
       "        \"name\": \"y1\",\n",
       "        \"zmin\": 1.0,\n",
       "        \"legendgroup\": \"y1\",\n",
       "        \"marker\": {\n",
       "            \"symbol\": \"circle\",\n",
       "            \"color\": \"rgba(204, 76, 204, 1.000)\",\n",
       "            \"line\": {\n",
       "                \"color\": \"rgba(0, 0, 0, 1.000)\",\n",
       "                \"width\": 1\n",
       "            },\n",
       "            \"size\": 8\n",
       "        },\n",
       "        \"zmax\": 3.0,\n",
       "        \"y\": [\n",
       "            0.2\n",
       "        ],\n",
       "        \"type\": \"scatter\"\n",
       "    },\n",
       "    {\n",
       "        \"xaxis\": \"x\",\n",
       "        \"colorbar\": {\n",
       "            \"title\": \"\"\n",
       "        },\n",
       "        \"yaxis\": \"y\",\n",
       "        \"x\": [\n",
       "            1.4\n",
       "        ],\n",
       "        \"showlegend\": false,\n",
       "        \"mode\": \"markers\",\n",
       "        \"name\": \"y1\",\n",
       "        \"zmin\": 1.0,\n",
       "        \"legendgroup\": \"y1\",\n",
       "        \"marker\": {\n",
       "            \"symbol\": \"circle\",\n",
       "            \"color\": \"rgba(204, 76, 204, 1.000)\",\n",
       "            \"line\": {\n",
       "                \"color\": \"rgba(0, 0, 0, 1.000)\",\n",
       "                \"width\": 1\n",
       "            },\n",
       "            \"size\": 8\n",
       "        },\n",
       "        \"zmax\": 3.0,\n",
       "        \"y\": [\n",
       "            0.2\n",
       "        ],\n",
       "        \"type\": \"scatter\"\n",
       "    },\n",
       "    {\n",
       "        \"xaxis\": \"x\",\n",
       "        \"colorbar\": {\n",
       "            \"title\": \"\"\n",
       "        },\n",
       "        \"yaxis\": \"y\",\n",
       "        \"x\": [\n",
       "            1.7\n",
       "        ],\n",
       "        \"showlegend\": false,\n",
       "        \"mode\": \"markers\",\n",
       "        \"name\": \"y1\",\n",
       "        \"zmin\": 1.0,\n",
       "        \"legendgroup\": \"y1\",\n",
       "        \"marker\": {\n",
       "            \"symbol\": \"circle\",\n",
       "            \"color\": \"rgba(204, 76, 204, 1.000)\",\n",
       "            \"line\": {\n",
       "                \"color\": \"rgba(0, 0, 0, 1.000)\",\n",
       "                \"width\": 1\n",
       "            },\n",
       "            \"size\": 8\n",
       "        },\n",
       "        \"zmax\": 3.0,\n",
       "        \"y\": [\n",
       "            0.4\n",
       "        ],\n",
       "        \"type\": \"scatter\"\n",
       "    },\n",
       "    {\n",
       "        \"xaxis\": \"x\",\n",
       "        \"colorbar\": {\n",
       "            \"title\": \"\"\n",
       "        },\n",
       "        \"yaxis\": \"y\",\n",
       "        \"x\": [\n",
       "            1.4\n",
       "        ],\n",
       "        \"showlegend\": false,\n",
       "        \"mode\": \"markers\",\n",
       "        \"name\": \"y1\",\n",
       "        \"zmin\": 1.0,\n",
       "        \"legendgroup\": \"y1\",\n",
       "        \"marker\": {\n",
       "            \"symbol\": \"circle\",\n",
       "            \"color\": \"rgba(204, 76, 204, 1.000)\",\n",
       "            \"line\": {\n",
       "                \"color\": \"rgba(0, 0, 0, 1.000)\",\n",
       "                \"width\": 1\n",
       "            },\n",
       "            \"size\": 8\n",
       "        },\n",
       "        \"zmax\": 3.0,\n",
       "        \"y\": [\n",
       "            0.3\n",
       "        ],\n",
       "        \"type\": \"scatter\"\n",
       "    },\n",
       "    {\n",
       "        \"xaxis\": \"x\",\n",
       "        \"colorbar\": {\n",
       "            \"title\": \"\"\n",
       "        },\n",
       "        \"yaxis\": \"y\",\n",
       "        \"x\": [\n",
       "            1.5\n",
       "        ],\n",
       "        \"showlegend\": false,\n",
       "        \"mode\": \"markers\",\n",
       "        \"name\": \"y1\",\n",
       "        \"zmin\": 1.0,\n",
       "        \"legendgroup\": \"y1\",\n",
       "        \"marker\": {\n",
       "            \"symbol\": \"circle\",\n",
       "            \"color\": \"rgba(204, 76, 204, 1.000)\",\n",
       "            \"line\": {\n",
       "                \"color\": \"rgba(0, 0, 0, 1.000)\",\n",
       "                \"width\": 1\n",
       "            },\n",
       "            \"size\": 8\n",
       "        },\n",
       "        \"zmax\": 3.0,\n",
       "        \"y\": [\n",
       "            0.2\n",
       "        ],\n",
       "        \"type\": \"scatter\"\n",
       "    },\n",
       "    {\n",
       "        \"xaxis\": \"x\",\n",
       "        \"colorbar\": {\n",
       "            \"title\": \"\"\n",
       "        },\n",
       "        \"yaxis\": \"y\",\n",
       "        \"x\": [\n",
       "            1.4\n",
       "        ],\n",
       "        \"showlegend\": false,\n",
       "        \"mode\": \"markers\",\n",
       "        \"name\": \"y1\",\n",
       "        \"zmin\": 1.0,\n",
       "        \"legendgroup\": \"y1\",\n",
       "        \"marker\": {\n",
       "            \"symbol\": \"circle\",\n",
       "            \"color\": \"rgba(204, 76, 204, 1.000)\",\n",
       "            \"line\": {\n",
       "                \"color\": \"rgba(0, 0, 0, 1.000)\",\n",
       "                \"width\": 1\n",
       "            },\n",
       "            \"size\": 8\n",
       "        },\n",
       "        \"zmax\": 3.0,\n",
       "        \"y\": [\n",
       "            0.2\n",
       "        ],\n",
       "        \"type\": \"scatter\"\n",
       "    },\n",
       "    {\n",
       "        \"xaxis\": \"x\",\n",
       "        \"colorbar\": {\n",
       "            \"title\": \"\"\n",
       "        },\n",
       "        \"yaxis\": \"y\",\n",
       "        \"x\": [\n",
       "            1.5\n",
       "        ],\n",
       "        \"showlegend\": false,\n",
       "        \"mode\": \"markers\",\n",
       "        \"name\": \"y1\",\n",
       "        \"zmin\": 1.0,\n",
       "        \"legendgroup\": \"y1\",\n",
       "        \"marker\": {\n",
       "            \"symbol\": \"circle\",\n",
       "            \"color\": \"rgba(204, 76, 204, 1.000)\",\n",
       "            \"line\": {\n",
       "                \"color\": \"rgba(0, 0, 0, 1.000)\",\n",
       "                \"width\": 1\n",
       "            },\n",
       "            \"size\": 8\n",
       "        },\n",
       "        \"zmax\": 3.0,\n",
       "        \"y\": [\n",
       "            0.1\n",
       "        ],\n",
       "        \"type\": \"scatter\"\n",
       "    },\n",
       "    {\n",
       "        \"xaxis\": \"x\",\n",
       "        \"colorbar\": {\n",
       "            \"title\": \"\"\n",
       "        },\n",
       "        \"yaxis\": \"y\",\n",
       "        \"x\": [\n",
       "            1.5\n",
       "        ],\n",
       "        \"showlegend\": false,\n",
       "        \"mode\": \"markers\",\n",
       "        \"name\": \"y1\",\n",
       "        \"zmin\": 1.0,\n",
       "        \"legendgroup\": \"y1\",\n",
       "        \"marker\": {\n",
       "            \"symbol\": \"circle\",\n",
       "            \"color\": \"rgba(204, 76, 204, 1.000)\",\n",
       "            \"line\": {\n",
       "                \"color\": \"rgba(0, 0, 0, 1.000)\",\n",
       "                \"width\": 1\n",
       "            },\n",
       "            \"size\": 8\n",
       "        },\n",
       "        \"zmax\": 3.0,\n",
       "        \"y\": [\n",
       "            0.2\n",
       "        ],\n",
       "        \"type\": \"scatter\"\n",
       "    },\n",
       "    {\n",
       "        \"xaxis\": \"x\",\n",
       "        \"colorbar\": {\n",
       "            \"title\": \"\"\n",
       "        },\n",
       "        \"yaxis\": \"y\",\n",
       "        \"x\": [\n",
       "            1.6\n",
       "        ],\n",
       "        \"showlegend\": false,\n",
       "        \"mode\": \"markers\",\n",
       "        \"name\": \"y1\",\n",
       "        \"zmin\": 1.0,\n",
       "        \"legendgroup\": \"y1\",\n",
       "        \"marker\": {\n",
       "            \"symbol\": \"circle\",\n",
       "            \"color\": \"rgba(204, 76, 204, 1.000)\",\n",
       "            \"line\": {\n",
       "                \"color\": \"rgba(0, 0, 0, 1.000)\",\n",
       "                \"width\": 1\n",
       "            },\n",
       "            \"size\": 8\n",
       "        },\n",
       "        \"zmax\": 3.0,\n",
       "        \"y\": [\n",
       "            0.2\n",
       "        ],\n",
       "        \"type\": \"scatter\"\n",
       "    },\n",
       "    {\n",
       "        \"xaxis\": \"x\",\n",
       "        \"colorbar\": {\n",
       "            \"title\": \"\"\n",
       "        },\n",
       "        \"yaxis\": \"y\",\n",
       "        \"x\": [\n",
       "            1.4\n",
       "        ],\n",
       "        \"showlegend\": false,\n",
       "        \"mode\": \"markers\",\n",
       "        \"name\": \"y1\",\n",
       "        \"zmin\": 1.0,\n",
       "        \"legendgroup\": \"y1\",\n",
       "        \"marker\": {\n",
       "            \"symbol\": \"circle\",\n",
       "            \"color\": \"rgba(204, 76, 204, 1.000)\",\n",
       "            \"line\": {\n",
       "                \"color\": \"rgba(0, 0, 0, 1.000)\",\n",
       "                \"width\": 1\n",
       "            },\n",
       "            \"size\": 8\n",
       "        },\n",
       "        \"zmax\": 3.0,\n",
       "        \"y\": [\n",
       "            0.1\n",
       "        ],\n",
       "        \"type\": \"scatter\"\n",
       "    },\n",
       "    {\n",
       "        \"xaxis\": \"x\",\n",
       "        \"colorbar\": {\n",
       "            \"title\": \"\"\n",
       "        },\n",
       "        \"yaxis\": \"y\",\n",
       "        \"x\": [\n",
       "            1.1\n",
       "        ],\n",
       "        \"showlegend\": false,\n",
       "        \"mode\": \"markers\",\n",
       "        \"name\": \"y1\",\n",
       "        \"zmin\": 1.0,\n",
       "        \"legendgroup\": \"y1\",\n",
       "        \"marker\": {\n",
       "            \"symbol\": \"circle\",\n",
       "            \"color\": \"rgba(204, 76, 204, 1.000)\",\n",
       "            \"line\": {\n",
       "                \"color\": \"rgba(0, 0, 0, 1.000)\",\n",
       "                \"width\": 1\n",
       "            },\n",
       "            \"size\": 8\n",
       "        },\n",
       "        \"zmax\": 3.0,\n",
       "        \"y\": [\n",
       "            0.1\n",
       "        ],\n",
       "        \"type\": \"scatter\"\n",
       "    },\n",
       "    {\n",
       "        \"xaxis\": \"x\",\n",
       "        \"colorbar\": {\n",
       "            \"title\": \"\"\n",
       "        },\n",
       "        \"yaxis\": \"y\",\n",
       "        \"x\": [\n",
       "            1.2\n",
       "        ],\n",
       "        \"showlegend\": false,\n",
       "        \"mode\": \"markers\",\n",
       "        \"name\": \"y1\",\n",
       "        \"zmin\": 1.0,\n",
       "        \"legendgroup\": \"y1\",\n",
       "        \"marker\": {\n",
       "            \"symbol\": \"circle\",\n",
       "            \"color\": \"rgba(204, 76, 204, 1.000)\",\n",
       "            \"line\": {\n",
       "                \"color\": \"rgba(0, 0, 0, 1.000)\",\n",
       "                \"width\": 1\n",
       "            },\n",
       "            \"size\": 8\n",
       "        },\n",
       "        \"zmax\": 3.0,\n",
       "        \"y\": [\n",
       "            0.2\n",
       "        ],\n",
       "        \"type\": \"scatter\"\n",
       "    },\n",
       "    {\n",
       "        \"xaxis\": \"x\",\n",
       "        \"colorbar\": {\n",
       "            \"title\": \"\"\n",
       "        },\n",
       "        \"yaxis\": \"y\",\n",
       "        \"x\": [\n",
       "            1.5\n",
       "        ],\n",
       "        \"showlegend\": false,\n",
       "        \"mode\": \"markers\",\n",
       "        \"name\": \"y1\",\n",
       "        \"zmin\": 1.0,\n",
       "        \"legendgroup\": \"y1\",\n",
       "        \"marker\": {\n",
       "            \"symbol\": \"circle\",\n",
       "            \"color\": \"rgba(204, 76, 204, 1.000)\",\n",
       "            \"line\": {\n",
       "                \"color\": \"rgba(0, 0, 0, 1.000)\",\n",
       "                \"width\": 1\n",
       "            },\n",
       "            \"size\": 8\n",
       "        },\n",
       "        \"zmax\": 3.0,\n",
       "        \"y\": [\n",
       "            0.4\n",
       "        ],\n",
       "        \"type\": \"scatter\"\n",
       "    },\n",
       "    {\n",
       "        \"xaxis\": \"x\",\n",
       "        \"colorbar\": {\n",
       "            \"title\": \"\"\n",
       "        },\n",
       "        \"yaxis\": \"y\",\n",
       "        \"x\": [\n",
       "            1.3\n",
       "        ],\n",
       "        \"showlegend\": false,\n",
       "        \"mode\": \"markers\",\n",
       "        \"name\": \"y1\",\n",
       "        \"zmin\": 1.0,\n",
       "        \"legendgroup\": \"y1\",\n",
       "        \"marker\": {\n",
       "            \"symbol\": \"circle\",\n",
       "            \"color\": \"rgba(204, 76, 204, 1.000)\",\n",
       "            \"line\": {\n",
       "                \"color\": \"rgba(0, 0, 0, 1.000)\",\n",
       "                \"width\": 1\n",
       "            },\n",
       "            \"size\": 8\n",
       "        },\n",
       "        \"zmax\": 3.0,\n",
       "        \"y\": [\n",
       "            0.4\n",
       "        ],\n",
       "        \"type\": \"scatter\"\n",
       "    },\n",
       "    {\n",
       "        \"xaxis\": \"x\",\n",
       "        \"colorbar\": {\n",
       "            \"title\": \"\"\n",
       "        },\n",
       "        \"yaxis\": \"y\",\n",
       "        \"x\": [\n",
       "            1.4\n",
       "        ],\n",
       "        \"showlegend\": false,\n",
       "        \"mode\": \"markers\",\n",
       "        \"name\": \"y1\",\n",
       "        \"zmin\": 1.0,\n",
       "        \"legendgroup\": \"y1\",\n",
       "        \"marker\": {\n",
       "            \"symbol\": \"circle\",\n",
       "            \"color\": \"rgba(204, 76, 204, 1.000)\",\n",
       "            \"line\": {\n",
       "                \"color\": \"rgba(0, 0, 0, 1.000)\",\n",
       "                \"width\": 1\n",
       "            },\n",
       "            \"size\": 8\n",
       "        },\n",
       "        \"zmax\": 3.0,\n",
       "        \"y\": [\n",
       "            0.3\n",
       "        ],\n",
       "        \"type\": \"scatter\"\n",
       "    },\n",
       "    {\n",
       "        \"xaxis\": \"x\",\n",
       "        \"colorbar\": {\n",
       "            \"title\": \"\"\n",
       "        },\n",
       "        \"yaxis\": \"y\",\n",
       "        \"x\": [\n",
       "            1.7\n",
       "        ],\n",
       "        \"showlegend\": false,\n",
       "        \"mode\": \"markers\",\n",
       "        \"name\": \"y1\",\n",
       "        \"zmin\": 1.0,\n",
       "        \"legendgroup\": \"y1\",\n",
       "        \"marker\": {\n",
       "            \"symbol\": \"circle\",\n",
       "            \"color\": \"rgba(204, 76, 204, 1.000)\",\n",
       "            \"line\": {\n",
       "                \"color\": \"rgba(0, 0, 0, 1.000)\",\n",
       "                \"width\": 1\n",
       "            },\n",
       "            \"size\": 8\n",
       "        },\n",
       "        \"zmax\": 3.0,\n",
       "        \"y\": [\n",
       "            0.3\n",
       "        ],\n",
       "        \"type\": \"scatter\"\n",
       "    },\n",
       "    {\n",
       "        \"xaxis\": \"x\",\n",
       "        \"colorbar\": {\n",
       "            \"title\": \"\"\n",
       "        },\n",
       "        \"yaxis\": \"y\",\n",
       "        \"x\": [\n",
       "            1.5\n",
       "        ],\n",
       "        \"showlegend\": false,\n",
       "        \"mode\": \"markers\",\n",
       "        \"name\": \"y1\",\n",
       "        \"zmin\": 1.0,\n",
       "        \"legendgroup\": \"y1\",\n",
       "        \"marker\": {\n",
       "            \"symbol\": \"circle\",\n",
       "            \"color\": \"rgba(204, 76, 204, 1.000)\",\n",
       "            \"line\": {\n",
       "                \"color\": \"rgba(0, 0, 0, 1.000)\",\n",
       "                \"width\": 1\n",
       "            },\n",
       "            \"size\": 8\n",
       "        },\n",
       "        \"zmax\": 3.0,\n",
       "        \"y\": [\n",
       "            0.3\n",
       "        ],\n",
       "        \"type\": \"scatter\"\n",
       "    },\n",
       "    {\n",
       "        \"xaxis\": \"x\",\n",
       "        \"colorbar\": {\n",
       "            \"title\": \"\"\n",
       "        },\n",
       "        \"yaxis\": \"y\",\n",
       "        \"x\": [\n",
       "            1.7\n",
       "        ],\n",
       "        \"showlegend\": false,\n",
       "        \"mode\": \"markers\",\n",
       "        \"name\": \"y1\",\n",
       "        \"zmin\": 1.0,\n",
       "        \"legendgroup\": \"y1\",\n",
       "        \"marker\": {\n",
       "            \"symbol\": \"circle\",\n",
       "            \"color\": \"rgba(204, 76, 204, 1.000)\",\n",
       "            \"line\": {\n",
       "                \"color\": \"rgba(0, 0, 0, 1.000)\",\n",
       "                \"width\": 1\n",
       "            },\n",
       "            \"size\": 8\n",
       "        },\n",
       "        \"zmax\": 3.0,\n",
       "        \"y\": [\n",
       "            0.2\n",
       "        ],\n",
       "        \"type\": \"scatter\"\n",
       "    },\n",
       "    {\n",
       "        \"xaxis\": \"x\",\n",
       "        \"colorbar\": {\n",
       "            \"title\": \"\"\n",
       "        },\n",
       "        \"yaxis\": \"y\",\n",
       "        \"x\": [\n",
       "            1.5\n",
       "        ],\n",
       "        \"showlegend\": false,\n",
       "        \"mode\": \"markers\",\n",
       "        \"name\": \"y1\",\n",
       "        \"zmin\": 1.0,\n",
       "        \"legendgroup\": \"y1\",\n",
       "        \"marker\": {\n",
       "            \"symbol\": \"circle\",\n",
       "            \"color\": \"rgba(204, 76, 204, 1.000)\",\n",
       "            \"line\": {\n",
       "                \"color\": \"rgba(0, 0, 0, 1.000)\",\n",
       "                \"width\": 1\n",
       "            },\n",
       "            \"size\": 8\n",
       "        },\n",
       "        \"zmax\": 3.0,\n",
       "        \"y\": [\n",
       "            0.4\n",
       "        ],\n",
       "        \"type\": \"scatter\"\n",
       "    },\n",
       "    {\n",
       "        \"xaxis\": \"x\",\n",
       "        \"colorbar\": {\n",
       "            \"title\": \"\"\n",
       "        },\n",
       "        \"yaxis\": \"y\",\n",
       "        \"x\": [\n",
       "            1.0\n",
       "        ],\n",
       "        \"showlegend\": false,\n",
       "        \"mode\": \"markers\",\n",
       "        \"name\": \"y1\",\n",
       "        \"zmin\": 1.0,\n",
       "        \"legendgroup\": \"y1\",\n",
       "        \"marker\": {\n",
       "            \"symbol\": \"circle\",\n",
       "            \"color\": \"rgba(204, 76, 204, 1.000)\",\n",
       "            \"line\": {\n",
       "                \"color\": \"rgba(0, 0, 0, 1.000)\",\n",
       "                \"width\": 1\n",
       "            },\n",
       "            \"size\": 8\n",
       "        },\n",
       "        \"zmax\": 3.0,\n",
       "        \"y\": [\n",
       "            0.2\n",
       "        ],\n",
       "        \"type\": \"scatter\"\n",
       "    },\n",
       "    {\n",
       "        \"xaxis\": \"x\",\n",
       "        \"colorbar\": {\n",
       "            \"title\": \"\"\n",
       "        },\n",
       "        \"yaxis\": \"y\",\n",
       "        \"x\": [\n",
       "            1.7\n",
       "        ],\n",
       "        \"showlegend\": false,\n",
       "        \"mode\": \"markers\",\n",
       "        \"name\": \"y1\",\n",
       "        \"zmin\": 1.0,\n",
       "        \"legendgroup\": \"y1\",\n",
       "        \"marker\": {\n",
       "            \"symbol\": \"circle\",\n",
       "            \"color\": \"rgba(204, 76, 204, 1.000)\",\n",
       "            \"line\": {\n",
       "                \"color\": \"rgba(0, 0, 0, 1.000)\",\n",
       "                \"width\": 1\n",
       "            },\n",
       "            \"size\": 8\n",
       "        },\n",
       "        \"zmax\": 3.0,\n",
       "        \"y\": [\n",
       "            0.5\n",
       "        ],\n",
       "        \"type\": \"scatter\"\n",
       "    },\n",
       "    {\n",
       "        \"xaxis\": \"x\",\n",
       "        \"colorbar\": {\n",
       "            \"title\": \"\"\n",
       "        },\n",
       "        \"yaxis\": \"y\",\n",
       "        \"x\": [\n",
       "            1.9\n",
       "        ],\n",
       "        \"showlegend\": false,\n",
       "        \"mode\": \"markers\",\n",
       "        \"name\": \"y1\",\n",
       "        \"zmin\": 1.0,\n",
       "        \"legendgroup\": \"y1\",\n",
       "        \"marker\": {\n",
       "            \"symbol\": \"circle\",\n",
       "            \"color\": \"rgba(204, 76, 204, 1.000)\",\n",
       "            \"line\": {\n",
       "                \"color\": \"rgba(0, 0, 0, 1.000)\",\n",
       "                \"width\": 1\n",
       "            },\n",
       "            \"size\": 8\n",
       "        },\n",
       "        \"zmax\": 3.0,\n",
       "        \"y\": [\n",
       "            0.2\n",
       "        ],\n",
       "        \"type\": \"scatter\"\n",
       "    },\n",
       "    {\n",
       "        \"xaxis\": \"x\",\n",
       "        \"colorbar\": {\n",
       "            \"title\": \"\"\n",
       "        },\n",
       "        \"yaxis\": \"y\",\n",
       "        \"x\": [\n",
       "            1.6\n",
       "        ],\n",
       "        \"showlegend\": false,\n",
       "        \"mode\": \"markers\",\n",
       "        \"name\": \"y1\",\n",
       "        \"zmin\": 1.0,\n",
       "        \"legendgroup\": \"y1\",\n",
       "        \"marker\": {\n",
       "            \"symbol\": \"circle\",\n",
       "            \"color\": \"rgba(204, 76, 204, 1.000)\",\n",
       "            \"line\": {\n",
       "                \"color\": \"rgba(0, 0, 0, 1.000)\",\n",
       "                \"width\": 1\n",
       "            },\n",
       "            \"size\": 8\n",
       "        },\n",
       "        \"zmax\": 3.0,\n",
       "        \"y\": [\n",
       "            0.2\n",
       "        ],\n",
       "        \"type\": \"scatter\"\n",
       "    },\n",
       "    {\n",
       "        \"xaxis\": \"x\",\n",
       "        \"colorbar\": {\n",
       "            \"title\": \"\"\n",
       "        },\n",
       "        \"yaxis\": \"y\",\n",
       "        \"x\": [\n",
       "            1.6\n",
       "        ],\n",
       "        \"showlegend\": false,\n",
       "        \"mode\": \"markers\",\n",
       "        \"name\": \"y1\",\n",
       "        \"zmin\": 1.0,\n",
       "        \"legendgroup\": \"y1\",\n",
       "        \"marker\": {\n",
       "            \"symbol\": \"circle\",\n",
       "            \"color\": \"rgba(204, 76, 204, 1.000)\",\n",
       "            \"line\": {\n",
       "                \"color\": \"rgba(0, 0, 0, 1.000)\",\n",
       "                \"width\": 1\n",
       "            },\n",
       "            \"size\": 8\n",
       "        },\n",
       "        \"zmax\": 3.0,\n",
       "        \"y\": [\n",
       "            0.4\n",
       "        ],\n",
       "        \"type\": \"scatter\"\n",
       "    },\n",
       "    {\n",
       "        \"xaxis\": \"x\",\n",
       "        \"colorbar\": {\n",
       "            \"title\": \"\"\n",
       "        },\n",
       "        \"yaxis\": \"y\",\n",
       "        \"x\": [\n",
       "            1.5\n",
       "        ],\n",
       "        \"showlegend\": false,\n",
       "        \"mode\": \"markers\",\n",
       "        \"name\": \"y1\",\n",
       "        \"zmin\": 1.0,\n",
       "        \"legendgroup\": \"y1\",\n",
       "        \"marker\": {\n",
       "            \"symbol\": \"circle\",\n",
       "            \"color\": \"rgba(204, 76, 204, 1.000)\",\n",
       "            \"line\": {\n",
       "                \"color\": \"rgba(0, 0, 0, 1.000)\",\n",
       "                \"width\": 1\n",
       "            },\n",
       "            \"size\": 8\n",
       "        },\n",
       "        \"zmax\": 3.0,\n",
       "        \"y\": [\n",
       "            0.2\n",
       "        ],\n",
       "        \"type\": \"scatter\"\n",
       "    },\n",
       "    {\n",
       "        \"xaxis\": \"x\",\n",
       "        \"colorbar\": {\n",
       "            \"title\": \"\"\n",
       "        },\n",
       "        \"yaxis\": \"y\",\n",
       "        \"x\": [\n",
       "            1.4\n",
       "        ],\n",
       "        \"showlegend\": false,\n",
       "        \"mode\": \"markers\",\n",
       "        \"name\": \"y1\",\n",
       "        \"zmin\": 1.0,\n",
       "        \"legendgroup\": \"y1\",\n",
       "        \"marker\": {\n",
       "            \"symbol\": \"circle\",\n",
       "            \"color\": \"rgba(204, 76, 204, 1.000)\",\n",
       "            \"line\": {\n",
       "                \"color\": \"rgba(0, 0, 0, 1.000)\",\n",
       "                \"width\": 1\n",
       "            },\n",
       "            \"size\": 8\n",
       "        },\n",
       "        \"zmax\": 3.0,\n",
       "        \"y\": [\n",
       "            0.2\n",
       "        ],\n",
       "        \"type\": \"scatter\"\n",
       "    },\n",
       "    {\n",
       "        \"xaxis\": \"x\",\n",
       "        \"colorbar\": {\n",
       "            \"title\": \"\"\n",
       "        },\n",
       "        \"yaxis\": \"y\",\n",
       "        \"x\": [\n",
       "            1.6\n",
       "        ],\n",
       "        \"showlegend\": false,\n",
       "        \"mode\": \"markers\",\n",
       "        \"name\": \"y1\",\n",
       "        \"zmin\": 1.0,\n",
       "        \"legendgroup\": \"y1\",\n",
       "        \"marker\": {\n",
       "            \"symbol\": \"circle\",\n",
       "            \"color\": \"rgba(204, 76, 204, 1.000)\",\n",
       "            \"line\": {\n",
       "                \"color\": \"rgba(0, 0, 0, 1.000)\",\n",
       "                \"width\": 1\n",
       "            },\n",
       "            \"size\": 8\n",
       "        },\n",
       "        \"zmax\": 3.0,\n",
       "        \"y\": [\n",
       "            0.2\n",
       "        ],\n",
       "        \"type\": \"scatter\"\n",
       "    },\n",
       "    {\n",
       "        \"xaxis\": \"x\",\n",
       "        \"colorbar\": {\n",
       "            \"title\": \"\"\n",
       "        },\n",
       "        \"yaxis\": \"y\",\n",
       "        \"x\": [\n",
       "            1.6\n",
       "        ],\n",
       "        \"showlegend\": false,\n",
       "        \"mode\": \"markers\",\n",
       "        \"name\": \"y1\",\n",
       "        \"zmin\": 1.0,\n",
       "        \"legendgroup\": \"y1\",\n",
       "        \"marker\": {\n",
       "            \"symbol\": \"circle\",\n",
       "            \"color\": \"rgba(204, 76, 204, 1.000)\",\n",
       "            \"line\": {\n",
       "                \"color\": \"rgba(0, 0, 0, 1.000)\",\n",
       "                \"width\": 1\n",
       "            },\n",
       "            \"size\": 8\n",
       "        },\n",
       "        \"zmax\": 3.0,\n",
       "        \"y\": [\n",
       "            0.2\n",
       "        ],\n",
       "        \"type\": \"scatter\"\n",
       "    },\n",
       "    {\n",
       "        \"xaxis\": \"x\",\n",
       "        \"colorbar\": {\n",
       "            \"title\": \"\"\n",
       "        },\n",
       "        \"yaxis\": \"y\",\n",
       "        \"x\": [\n",
       "            1.5\n",
       "        ],\n",
       "        \"showlegend\": false,\n",
       "        \"mode\": \"markers\",\n",
       "        \"name\": \"y1\",\n",
       "        \"zmin\": 1.0,\n",
       "        \"legendgroup\": \"y1\",\n",
       "        \"marker\": {\n",
       "            \"symbol\": \"circle\",\n",
       "            \"color\": \"rgba(204, 76, 204, 1.000)\",\n",
       "            \"line\": {\n",
       "                \"color\": \"rgba(0, 0, 0, 1.000)\",\n",
       "                \"width\": 1\n",
       "            },\n",
       "            \"size\": 8\n",
       "        },\n",
       "        \"zmax\": 3.0,\n",
       "        \"y\": [\n",
       "            0.4\n",
       "        ],\n",
       "        \"type\": \"scatter\"\n",
       "    },\n",
       "    {\n",
       "        \"xaxis\": \"x\",\n",
       "        \"colorbar\": {\n",
       "            \"title\": \"\"\n",
       "        },\n",
       "        \"yaxis\": \"y\",\n",
       "        \"x\": [\n",
       "            1.5\n",
       "        ],\n",
       "        \"showlegend\": false,\n",
       "        \"mode\": \"markers\",\n",
       "        \"name\": \"y1\",\n",
       "        \"zmin\": 1.0,\n",
       "        \"legendgroup\": \"y1\",\n",
       "        \"marker\": {\n",
       "            \"symbol\": \"circle\",\n",
       "            \"color\": \"rgba(204, 76, 204, 1.000)\",\n",
       "            \"line\": {\n",
       "                \"color\": \"rgba(0, 0, 0, 1.000)\",\n",
       "                \"width\": 1\n",
       "            },\n",
       "            \"size\": 8\n",
       "        },\n",
       "        \"zmax\": 3.0,\n",
       "        \"y\": [\n",
       "            0.1\n",
       "        ],\n",
       "        \"type\": \"scatter\"\n",
       "    },\n",
       "    {\n",
       "        \"xaxis\": \"x\",\n",
       "        \"colorbar\": {\n",
       "            \"title\": \"\"\n",
       "        },\n",
       "        \"yaxis\": \"y\",\n",
       "        \"x\": [\n",
       "            1.4\n",
       "        ],\n",
       "        \"showlegend\": false,\n",
       "        \"mode\": \"markers\",\n",
       "        \"name\": \"y1\",\n",
       "        \"zmin\": 1.0,\n",
       "        \"legendgroup\": \"y1\",\n",
       "        \"marker\": {\n",
       "            \"symbol\": \"circle\",\n",
       "            \"color\": \"rgba(204, 76, 204, 1.000)\",\n",
       "            \"line\": {\n",
       "                \"color\": \"rgba(0, 0, 0, 1.000)\",\n",
       "                \"width\": 1\n",
       "            },\n",
       "            \"size\": 8\n",
       "        },\n",
       "        \"zmax\": 3.0,\n",
       "        \"y\": [\n",
       "            0.2\n",
       "        ],\n",
       "        \"type\": \"scatter\"\n",
       "    },\n",
       "    {\n",
       "        \"xaxis\": \"x\",\n",
       "        \"colorbar\": {\n",
       "            \"title\": \"\"\n",
       "        },\n",
       "        \"yaxis\": \"y\",\n",
       "        \"x\": [\n",
       "            1.5\n",
       "        ],\n",
       "        \"showlegend\": false,\n",
       "        \"mode\": \"markers\",\n",
       "        \"name\": \"y1\",\n",
       "        \"zmin\": 1.0,\n",
       "        \"legendgroup\": \"y1\",\n",
       "        \"marker\": {\n",
       "            \"symbol\": \"circle\",\n",
       "            \"color\": \"rgba(204, 76, 204, 1.000)\",\n",
       "            \"line\": {\n",
       "                \"color\": \"rgba(0, 0, 0, 1.000)\",\n",
       "                \"width\": 1\n",
       "            },\n",
       "            \"size\": 8\n",
       "        },\n",
       "        \"zmax\": 3.0,\n",
       "        \"y\": [\n",
       "            0.2\n",
       "        ],\n",
       "        \"type\": \"scatter\"\n",
       "    },\n",
       "    {\n",
       "        \"xaxis\": \"x\",\n",
       "        \"colorbar\": {\n",
       "            \"title\": \"\"\n",
       "        },\n",
       "        \"yaxis\": \"y\",\n",
       "        \"x\": [\n",
       "            1.2\n",
       "        ],\n",
       "        \"showlegend\": false,\n",
       "        \"mode\": \"markers\",\n",
       "        \"name\": \"y1\",\n",
       "        \"zmin\": 1.0,\n",
       "        \"legendgroup\": \"y1\",\n",
       "        \"marker\": {\n",
       "            \"symbol\": \"circle\",\n",
       "            \"color\": \"rgba(204, 76, 204, 1.000)\",\n",
       "            \"line\": {\n",
       "                \"color\": \"rgba(0, 0, 0, 1.000)\",\n",
       "                \"width\": 1\n",
       "            },\n",
       "            \"size\": 8\n",
       "        },\n",
       "        \"zmax\": 3.0,\n",
       "        \"y\": [\n",
       "            0.2\n",
       "        ],\n",
       "        \"type\": \"scatter\"\n",
       "    },\n",
       "    {\n",
       "        \"xaxis\": \"x\",\n",
       "        \"colorbar\": {\n",
       "            \"title\": \"\"\n",
       "        },\n",
       "        \"yaxis\": \"y\",\n",
       "        \"x\": [\n",
       "            1.3\n",
       "        ],\n",
       "        \"showlegend\": false,\n",
       "        \"mode\": \"markers\",\n",
       "        \"name\": \"y1\",\n",
       "        \"zmin\": 1.0,\n",
       "        \"legendgroup\": \"y1\",\n",
       "        \"marker\": {\n",
       "            \"symbol\": \"circle\",\n",
       "            \"color\": \"rgba(204, 76, 204, 1.000)\",\n",
       "            \"line\": {\n",
       "                \"color\": \"rgba(0, 0, 0, 1.000)\",\n",
       "                \"width\": 1\n",
       "            },\n",
       "            \"size\": 8\n",
       "        },\n",
       "        \"zmax\": 3.0,\n",
       "        \"y\": [\n",
       "            0.2\n",
       "        ],\n",
       "        \"type\": \"scatter\"\n",
       "    },\n",
       "    {\n",
       "        \"xaxis\": \"x\",\n",
       "        \"colorbar\": {\n",
       "            \"title\": \"\"\n",
       "        },\n",
       "        \"yaxis\": \"y\",\n",
       "        \"x\": [\n",
       "            1.4\n",
       "        ],\n",
       "        \"showlegend\": false,\n",
       "        \"mode\": \"markers\",\n",
       "        \"name\": \"y1\",\n",
       "        \"zmin\": 1.0,\n",
       "        \"legendgroup\": \"y1\",\n",
       "        \"marker\": {\n",
       "            \"symbol\": \"circle\",\n",
       "            \"color\": \"rgba(204, 76, 204, 1.000)\",\n",
       "            \"line\": {\n",
       "                \"color\": \"rgba(0, 0, 0, 1.000)\",\n",
       "                \"width\": 1\n",
       "            },\n",
       "            \"size\": 8\n",
       "        },\n",
       "        \"zmax\": 3.0,\n",
       "        \"y\": [\n",
       "            0.1\n",
       "        ],\n",
       "        \"type\": \"scatter\"\n",
       "    },\n",
       "    {\n",
       "        \"xaxis\": \"x\",\n",
       "        \"colorbar\": {\n",
       "            \"title\": \"\"\n",
       "        },\n",
       "        \"yaxis\": \"y\",\n",
       "        \"x\": [\n",
       "            1.3\n",
       "        ],\n",
       "        \"showlegend\": false,\n",
       "        \"mode\": \"markers\",\n",
       "        \"name\": \"y1\",\n",
       "        \"zmin\": 1.0,\n",
       "        \"legendgroup\": \"y1\",\n",
       "        \"marker\": {\n",
       "            \"symbol\": \"circle\",\n",
       "            \"color\": \"rgba(204, 76, 204, 1.000)\",\n",
       "            \"line\": {\n",
       "                \"color\": \"rgba(0, 0, 0, 1.000)\",\n",
       "                \"width\": 1\n",
       "            },\n",
       "            \"size\": 8\n",
       "        },\n",
       "        \"zmax\": 3.0,\n",
       "        \"y\": [\n",
       "            0.2\n",
       "        ],\n",
       "        \"type\": \"scatter\"\n",
       "    },\n",
       "    {\n",
       "        \"xaxis\": \"x\",\n",
       "        \"colorbar\": {\n",
       "            \"title\": \"\"\n",
       "        },\n",
       "        \"yaxis\": \"y\",\n",
       "        \"x\": [\n",
       "            1.5\n",
       "        ],\n",
       "        \"showlegend\": false,\n",
       "        \"mode\": \"markers\",\n",
       "        \"name\": \"y1\",\n",
       "        \"zmin\": 1.0,\n",
       "        \"legendgroup\": \"y1\",\n",
       "        \"marker\": {\n",
       "            \"symbol\": \"circle\",\n",
       "            \"color\": \"rgba(204, 76, 204, 1.000)\",\n",
       "            \"line\": {\n",
       "                \"color\": \"rgba(0, 0, 0, 1.000)\",\n",
       "                \"width\": 1\n",
       "            },\n",
       "            \"size\": 8\n",
       "        },\n",
       "        \"zmax\": 3.0,\n",
       "        \"y\": [\n",
       "            0.2\n",
       "        ],\n",
       "        \"type\": \"scatter\"\n",
       "    },\n",
       "    {\n",
       "        \"xaxis\": \"x\",\n",
       "        \"colorbar\": {\n",
       "            \"title\": \"\"\n",
       "        },\n",
       "        \"yaxis\": \"y\",\n",
       "        \"x\": [\n",
       "            1.3\n",
       "        ],\n",
       "        \"showlegend\": false,\n",
       "        \"mode\": \"markers\",\n",
       "        \"name\": \"y1\",\n",
       "        \"zmin\": 1.0,\n",
       "        \"legendgroup\": \"y1\",\n",
       "        \"marker\": {\n",
       "            \"symbol\": \"circle\",\n",
       "            \"color\": \"rgba(204, 76, 204, 1.000)\",\n",
       "            \"line\": {\n",
       "                \"color\": \"rgba(0, 0, 0, 1.000)\",\n",
       "                \"width\": 1\n",
       "            },\n",
       "            \"size\": 8\n",
       "        },\n",
       "        \"zmax\": 3.0,\n",
       "        \"y\": [\n",
       "            0.3\n",
       "        ],\n",
       "        \"type\": \"scatter\"\n",
       "    },\n",
       "    {\n",
       "        \"xaxis\": \"x\",\n",
       "        \"colorbar\": {\n",
       "            \"title\": \"\"\n",
       "        },\n",
       "        \"yaxis\": \"y\",\n",
       "        \"x\": [\n",
       "            1.3\n",
       "        ],\n",
       "        \"showlegend\": false,\n",
       "        \"mode\": \"markers\",\n",
       "        \"name\": \"y1\",\n",
       "        \"zmin\": 1.0,\n",
       "        \"legendgroup\": \"y1\",\n",
       "        \"marker\": {\n",
       "            \"symbol\": \"circle\",\n",
       "            \"color\": \"rgba(204, 76, 204, 1.000)\",\n",
       "            \"line\": {\n",
       "                \"color\": \"rgba(0, 0, 0, 1.000)\",\n",
       "                \"width\": 1\n",
       "            },\n",
       "            \"size\": 8\n",
       "        },\n",
       "        \"zmax\": 3.0,\n",
       "        \"y\": [\n",
       "            0.3\n",
       "        ],\n",
       "        \"type\": \"scatter\"\n",
       "    },\n",
       "    {\n",
       "        \"xaxis\": \"x\",\n",
       "        \"colorbar\": {\n",
       "            \"title\": \"\"\n",
       "        },\n",
       "        \"yaxis\": \"y\",\n",
       "        \"x\": [\n",
       "            1.3\n",
       "        ],\n",
       "        \"showlegend\": false,\n",
       "        \"mode\": \"markers\",\n",
       "        \"name\": \"y1\",\n",
       "        \"zmin\": 1.0,\n",
       "        \"legendgroup\": \"y1\",\n",
       "        \"marker\": {\n",
       "            \"symbol\": \"circle\",\n",
       "            \"color\": \"rgba(204, 76, 204, 1.000)\",\n",
       "            \"line\": {\n",
       "                \"color\": \"rgba(0, 0, 0, 1.000)\",\n",
       "                \"width\": 1\n",
       "            },\n",
       "            \"size\": 8\n",
       "        },\n",
       "        \"zmax\": 3.0,\n",
       "        \"y\": [\n",
       "            0.2\n",
       "        ],\n",
       "        \"type\": \"scatter\"\n",
       "    },\n",
       "    {\n",
       "        \"xaxis\": \"x\",\n",
       "        \"colorbar\": {\n",
       "            \"title\": \"\"\n",
       "        },\n",
       "        \"yaxis\": \"y\",\n",
       "        \"x\": [\n",
       "            1.6\n",
       "        ],\n",
       "        \"showlegend\": false,\n",
       "        \"mode\": \"markers\",\n",
       "        \"name\": \"y1\",\n",
       "        \"zmin\": 1.0,\n",
       "        \"legendgroup\": \"y1\",\n",
       "        \"marker\": {\n",
       "            \"symbol\": \"circle\",\n",
       "            \"color\": \"rgba(204, 76, 204, 1.000)\",\n",
       "            \"line\": {\n",
       "                \"color\": \"rgba(0, 0, 0, 1.000)\",\n",
       "                \"width\": 1\n",
       "            },\n",
       "            \"size\": 8\n",
       "        },\n",
       "        \"zmax\": 3.0,\n",
       "        \"y\": [\n",
       "            0.6\n",
       "        ],\n",
       "        \"type\": \"scatter\"\n",
       "    },\n",
       "    {\n",
       "        \"xaxis\": \"x\",\n",
       "        \"colorbar\": {\n",
       "            \"title\": \"\"\n",
       "        },\n",
       "        \"yaxis\": \"y\",\n",
       "        \"x\": [\n",
       "            1.9\n",
       "        ],\n",
       "        \"showlegend\": false,\n",
       "        \"mode\": \"markers\",\n",
       "        \"name\": \"y1\",\n",
       "        \"zmin\": 1.0,\n",
       "        \"legendgroup\": \"y1\",\n",
       "        \"marker\": {\n",
       "            \"symbol\": \"circle\",\n",
       "            \"color\": \"rgba(204, 76, 204, 1.000)\",\n",
       "            \"line\": {\n",
       "                \"color\": \"rgba(0, 0, 0, 1.000)\",\n",
       "                \"width\": 1\n",
       "            },\n",
       "            \"size\": 8\n",
       "        },\n",
       "        \"zmax\": 3.0,\n",
       "        \"y\": [\n",
       "            0.4\n",
       "        ],\n",
       "        \"type\": \"scatter\"\n",
       "    },\n",
       "    {\n",
       "        \"xaxis\": \"x\",\n",
       "        \"colorbar\": {\n",
       "            \"title\": \"\"\n",
       "        },\n",
       "        \"yaxis\": \"y\",\n",
       "        \"x\": [\n",
       "            1.4\n",
       "        ],\n",
       "        \"showlegend\": false,\n",
       "        \"mode\": \"markers\",\n",
       "        \"name\": \"y1\",\n",
       "        \"zmin\": 1.0,\n",
       "        \"legendgroup\": \"y1\",\n",
       "        \"marker\": {\n",
       "            \"symbol\": \"circle\",\n",
       "            \"color\": \"rgba(204, 76, 204, 1.000)\",\n",
       "            \"line\": {\n",
       "                \"color\": \"rgba(0, 0, 0, 1.000)\",\n",
       "                \"width\": 1\n",
       "            },\n",
       "            \"size\": 8\n",
       "        },\n",
       "        \"zmax\": 3.0,\n",
       "        \"y\": [\n",
       "            0.3\n",
       "        ],\n",
       "        \"type\": \"scatter\"\n",
       "    },\n",
       "    {\n",
       "        \"xaxis\": \"x\",\n",
       "        \"colorbar\": {\n",
       "            \"title\": \"\"\n",
       "        },\n",
       "        \"yaxis\": \"y\",\n",
       "        \"x\": [\n",
       "            1.6\n",
       "        ],\n",
       "        \"showlegend\": false,\n",
       "        \"mode\": \"markers\",\n",
       "        \"name\": \"y1\",\n",
       "        \"zmin\": 1.0,\n",
       "        \"legendgroup\": \"y1\",\n",
       "        \"marker\": {\n",
       "            \"symbol\": \"circle\",\n",
       "            \"color\": \"rgba(204, 76, 204, 1.000)\",\n",
       "            \"line\": {\n",
       "                \"color\": \"rgba(0, 0, 0, 1.000)\",\n",
       "                \"width\": 1\n",
       "            },\n",
       "            \"size\": 8\n",
       "        },\n",
       "        \"zmax\": 3.0,\n",
       "        \"y\": [\n",
       "            0.2\n",
       "        ],\n",
       "        \"type\": \"scatter\"\n",
       "    },\n",
       "    {\n",
       "        \"xaxis\": \"x\",\n",
       "        \"colorbar\": {\n",
       "            \"title\": \"\"\n",
       "        },\n",
       "        \"yaxis\": \"y\",\n",
       "        \"x\": [\n",
       "            1.4\n",
       "        ],\n",
       "        \"showlegend\": false,\n",
       "        \"mode\": \"markers\",\n",
       "        \"name\": \"y1\",\n",
       "        \"zmin\": 1.0,\n",
       "        \"legendgroup\": \"y1\",\n",
       "        \"marker\": {\n",
       "            \"symbol\": \"circle\",\n",
       "            \"color\": \"rgba(204, 76, 204, 1.000)\",\n",
       "            \"line\": {\n",
       "                \"color\": \"rgba(0, 0, 0, 1.000)\",\n",
       "                \"width\": 1\n",
       "            },\n",
       "            \"size\": 8\n",
       "        },\n",
       "        \"zmax\": 3.0,\n",
       "        \"y\": [\n",
       "            0.2\n",
       "        ],\n",
       "        \"type\": \"scatter\"\n",
       "    },\n",
       "    {\n",
       "        \"xaxis\": \"x\",\n",
       "        \"colorbar\": {\n",
       "            \"title\": \"\"\n",
       "        },\n",
       "        \"yaxis\": \"y\",\n",
       "        \"x\": [\n",
       "            1.5\n",
       "        ],\n",
       "        \"showlegend\": false,\n",
       "        \"mode\": \"markers\",\n",
       "        \"name\": \"y1\",\n",
       "        \"zmin\": 1.0,\n",
       "        \"legendgroup\": \"y1\",\n",
       "        \"marker\": {\n",
       "            \"symbol\": \"circle\",\n",
       "            \"color\": \"rgba(204, 76, 204, 1.000)\",\n",
       "            \"line\": {\n",
       "                \"color\": \"rgba(0, 0, 0, 1.000)\",\n",
       "                \"width\": 1\n",
       "            },\n",
       "            \"size\": 8\n",
       "        },\n",
       "        \"zmax\": 3.0,\n",
       "        \"y\": [\n",
       "            0.2\n",
       "        ],\n",
       "        \"type\": \"scatter\"\n",
       "    },\n",
       "    {\n",
       "        \"xaxis\": \"x\",\n",
       "        \"colorbar\": {\n",
       "            \"title\": \"\"\n",
       "        },\n",
       "        \"yaxis\": \"y\",\n",
       "        \"x\": [\n",
       "            1.4\n",
       "        ],\n",
       "        \"showlegend\": false,\n",
       "        \"mode\": \"markers\",\n",
       "        \"name\": \"y1\",\n",
       "        \"zmin\": 1.0,\n",
       "        \"legendgroup\": \"y1\",\n",
       "        \"marker\": {\n",
       "            \"symbol\": \"circle\",\n",
       "            \"color\": \"rgba(204, 76, 204, 1.000)\",\n",
       "            \"line\": {\n",
       "                \"color\": \"rgba(0, 0, 0, 1.000)\",\n",
       "                \"width\": 1\n",
       "            },\n",
       "            \"size\": 8\n",
       "        },\n",
       "        \"zmax\": 3.0,\n",
       "        \"y\": [\n",
       "            0.2\n",
       "        ],\n",
       "        \"type\": \"scatter\"\n",
       "    },\n",
       "    {\n",
       "        \"xaxis\": \"x\",\n",
       "        \"colorbar\": {\n",
       "            \"title\": \"\"\n",
       "        },\n",
       "        \"yaxis\": \"y\",\n",
       "        \"x\": [\n",
       "            4.7\n",
       "        ],\n",
       "        \"showlegend\": false,\n",
       "        \"mode\": \"markers\",\n",
       "        \"name\": \"y1\",\n",
       "        \"zmin\": 1.0,\n",
       "        \"legendgroup\": \"y1\",\n",
       "        \"marker\": {\n",
       "            \"symbol\": \"circle\",\n",
       "            \"color\": \"rgba(76, 204, 76, 1.000)\",\n",
       "            \"line\": {\n",
       "                \"color\": \"rgba(0, 0, 0, 1.000)\",\n",
       "                \"width\": 1\n",
       "            },\n",
       "            \"size\": 8\n",
       "        },\n",
       "        \"zmax\": 3.0,\n",
       "        \"y\": [\n",
       "            1.4\n",
       "        ],\n",
       "        \"type\": \"scatter\"\n",
       "    },\n",
       "    {\n",
       "        \"xaxis\": \"x\",\n",
       "        \"colorbar\": {\n",
       "            \"title\": \"\"\n",
       "        },\n",
       "        \"yaxis\": \"y\",\n",
       "        \"x\": [\n",
       "            4.5\n",
       "        ],\n",
       "        \"showlegend\": false,\n",
       "        \"mode\": \"markers\",\n",
       "        \"name\": \"y1\",\n",
       "        \"zmin\": 1.0,\n",
       "        \"legendgroup\": \"y1\",\n",
       "        \"marker\": {\n",
       "            \"symbol\": \"circle\",\n",
       "            \"color\": \"rgba(255, 76, 76, 1.000)\",\n",
       "            \"line\": {\n",
       "                \"color\": \"rgba(0, 0, 0, 1.000)\",\n",
       "                \"width\": 1\n",
       "            },\n",
       "            \"size\": 8\n",
       "        },\n",
       "        \"zmax\": 3.0,\n",
       "        \"y\": [\n",
       "            1.5\n",
       "        ],\n",
       "        \"type\": \"scatter\"\n",
       "    },\n",
       "    {\n",
       "        \"xaxis\": \"x\",\n",
       "        \"colorbar\": {\n",
       "            \"title\": \"\"\n",
       "        },\n",
       "        \"yaxis\": \"y\",\n",
       "        \"x\": [\n",
       "            4.9\n",
       "        ],\n",
       "        \"showlegend\": false,\n",
       "        \"mode\": \"markers\",\n",
       "        \"name\": \"y1\",\n",
       "        \"zmin\": 1.0,\n",
       "        \"legendgroup\": \"y1\",\n",
       "        \"marker\": {\n",
       "            \"symbol\": \"circle\",\n",
       "            \"color\": \"rgba(76, 204, 76, 1.000)\",\n",
       "            \"line\": {\n",
       "                \"color\": \"rgba(0, 0, 0, 1.000)\",\n",
       "                \"width\": 1\n",
       "            },\n",
       "            \"size\": 8\n",
       "        },\n",
       "        \"zmax\": 3.0,\n",
       "        \"y\": [\n",
       "            1.5\n",
       "        ],\n",
       "        \"type\": \"scatter\"\n",
       "    },\n",
       "    {\n",
       "        \"xaxis\": \"x\",\n",
       "        \"colorbar\": {\n",
       "            \"title\": \"\"\n",
       "        },\n",
       "        \"yaxis\": \"y\",\n",
       "        \"x\": [\n",
       "            4.0\n",
       "        ],\n",
       "        \"showlegend\": false,\n",
       "        \"mode\": \"markers\",\n",
       "        \"name\": \"y1\",\n",
       "        \"zmin\": 1.0,\n",
       "        \"legendgroup\": \"y1\",\n",
       "        \"marker\": {\n",
       "            \"symbol\": \"circle\",\n",
       "            \"color\": \"rgba(255, 76, 76, 1.000)\",\n",
       "            \"line\": {\n",
       "                \"color\": \"rgba(0, 0, 0, 1.000)\",\n",
       "                \"width\": 1\n",
       "            },\n",
       "            \"size\": 8\n",
       "        },\n",
       "        \"zmax\": 3.0,\n",
       "        \"y\": [\n",
       "            1.3\n",
       "        ],\n",
       "        \"type\": \"scatter\"\n",
       "    },\n",
       "    {\n",
       "        \"xaxis\": \"x\",\n",
       "        \"colorbar\": {\n",
       "            \"title\": \"\"\n",
       "        },\n",
       "        \"yaxis\": \"y\",\n",
       "        \"x\": [\n",
       "            4.6\n",
       "        ],\n",
       "        \"showlegend\": false,\n",
       "        \"mode\": \"markers\",\n",
       "        \"name\": \"y1\",\n",
       "        \"zmin\": 1.0,\n",
       "        \"legendgroup\": \"y1\",\n",
       "        \"marker\": {\n",
       "            \"symbol\": \"circle\",\n",
       "            \"color\": \"rgba(255, 76, 76, 1.000)\",\n",
       "            \"line\": {\n",
       "                \"color\": \"rgba(0, 0, 0, 1.000)\",\n",
       "                \"width\": 1\n",
       "            },\n",
       "            \"size\": 8\n",
       "        },\n",
       "        \"zmax\": 3.0,\n",
       "        \"y\": [\n",
       "            1.5\n",
       "        ],\n",
       "        \"type\": \"scatter\"\n",
       "    },\n",
       "    {\n",
       "        \"xaxis\": \"x\",\n",
       "        \"colorbar\": {\n",
       "            \"title\": \"\"\n",
       "        },\n",
       "        \"yaxis\": \"y\",\n",
       "        \"x\": [\n",
       "            4.5\n",
       "        ],\n",
       "        \"showlegend\": false,\n",
       "        \"mode\": \"markers\",\n",
       "        \"name\": \"y1\",\n",
       "        \"zmin\": 1.0,\n",
       "        \"legendgroup\": \"y1\",\n",
       "        \"marker\": {\n",
       "            \"symbol\": \"circle\",\n",
       "            \"color\": \"rgba(255, 76, 76, 1.000)\",\n",
       "            \"line\": {\n",
       "                \"color\": \"rgba(0, 0, 0, 1.000)\",\n",
       "                \"width\": 1\n",
       "            },\n",
       "            \"size\": 8\n",
       "        },\n",
       "        \"zmax\": 3.0,\n",
       "        \"y\": [\n",
       "            1.3\n",
       "        ],\n",
       "        \"type\": \"scatter\"\n",
       "    },\n",
       "    {\n",
       "        \"xaxis\": \"x\",\n",
       "        \"colorbar\": {\n",
       "            \"title\": \"\"\n",
       "        },\n",
       "        \"yaxis\": \"y\",\n",
       "        \"x\": [\n",
       "            4.7\n",
       "        ],\n",
       "        \"showlegend\": false,\n",
       "        \"mode\": \"markers\",\n",
       "        \"name\": \"y1\",\n",
       "        \"zmin\": 1.0,\n",
       "        \"legendgroup\": \"y1\",\n",
       "        \"marker\": {\n",
       "            \"symbol\": \"circle\",\n",
       "            \"color\": \"rgba(255, 76, 76, 1.000)\",\n",
       "            \"line\": {\n",
       "                \"color\": \"rgba(0, 0, 0, 1.000)\",\n",
       "                \"width\": 1\n",
       "            },\n",
       "            \"size\": 8\n",
       "        },\n",
       "        \"zmax\": 3.0,\n",
       "        \"y\": [\n",
       "            1.6\n",
       "        ],\n",
       "        \"type\": \"scatter\"\n",
       "    },\n",
       "    {\n",
       "        \"xaxis\": \"x\",\n",
       "        \"colorbar\": {\n",
       "            \"title\": \"\"\n",
       "        },\n",
       "        \"yaxis\": \"y\",\n",
       "        \"x\": [\n",
       "            3.3\n",
       "        ],\n",
       "        \"showlegend\": false,\n",
       "        \"mode\": \"markers\",\n",
       "        \"name\": \"y1\",\n",
       "        \"zmin\": 1.0,\n",
       "        \"legendgroup\": \"y1\",\n",
       "        \"marker\": {\n",
       "            \"symbol\": \"circle\",\n",
       "            \"color\": \"rgba(255, 76, 76, 1.000)\",\n",
       "            \"line\": {\n",
       "                \"color\": \"rgba(0, 0, 0, 1.000)\",\n",
       "                \"width\": 1\n",
       "            },\n",
       "            \"size\": 8\n",
       "        },\n",
       "        \"zmax\": 3.0,\n",
       "        \"y\": [\n",
       "            1.0\n",
       "        ],\n",
       "        \"type\": \"scatter\"\n",
       "    },\n",
       "    {\n",
       "        \"xaxis\": \"x\",\n",
       "        \"colorbar\": {\n",
       "            \"title\": \"\"\n",
       "        },\n",
       "        \"yaxis\": \"y\",\n",
       "        \"x\": [\n",
       "            4.6\n",
       "        ],\n",
       "        \"showlegend\": false,\n",
       "        \"mode\": \"markers\",\n",
       "        \"name\": \"y1\",\n",
       "        \"zmin\": 1.0,\n",
       "        \"legendgroup\": \"y1\",\n",
       "        \"marker\": {\n",
       "            \"symbol\": \"circle\",\n",
       "            \"color\": \"rgba(255, 76, 76, 1.000)\",\n",
       "            \"line\": {\n",
       "                \"color\": \"rgba(0, 0, 0, 1.000)\",\n",
       "                \"width\": 1\n",
       "            },\n",
       "            \"size\": 8\n",
       "        },\n",
       "        \"zmax\": 3.0,\n",
       "        \"y\": [\n",
       "            1.3\n",
       "        ],\n",
       "        \"type\": \"scatter\"\n",
       "    },\n",
       "    {\n",
       "        \"xaxis\": \"x\",\n",
       "        \"colorbar\": {\n",
       "            \"title\": \"\"\n",
       "        },\n",
       "        \"yaxis\": \"y\",\n",
       "        \"x\": [\n",
       "            3.9\n",
       "        ],\n",
       "        \"showlegend\": false,\n",
       "        \"mode\": \"markers\",\n",
       "        \"name\": \"y1\",\n",
       "        \"zmin\": 1.0,\n",
       "        \"legendgroup\": \"y1\",\n",
       "        \"marker\": {\n",
       "            \"symbol\": \"circle\",\n",
       "            \"color\": \"rgba(255, 76, 76, 1.000)\",\n",
       "            \"line\": {\n",
       "                \"color\": \"rgba(0, 0, 0, 1.000)\",\n",
       "                \"width\": 1\n",
       "            },\n",
       "            \"size\": 8\n",
       "        },\n",
       "        \"zmax\": 3.0,\n",
       "        \"y\": [\n",
       "            1.4\n",
       "        ],\n",
       "        \"type\": \"scatter\"\n",
       "    },\n",
       "    {\n",
       "        \"xaxis\": \"x\",\n",
       "        \"colorbar\": {\n",
       "            \"title\": \"\"\n",
       "        },\n",
       "        \"yaxis\": \"y\",\n",
       "        \"x\": [\n",
       "            3.5\n",
       "        ],\n",
       "        \"showlegend\": false,\n",
       "        \"mode\": \"markers\",\n",
       "        \"name\": \"y1\",\n",
       "        \"zmin\": 1.0,\n",
       "        \"legendgroup\": \"y1\",\n",
       "        \"marker\": {\n",
       "            \"symbol\": \"circle\",\n",
       "            \"color\": \"rgba(255, 76, 76, 1.000)\",\n",
       "            \"line\": {\n",
       "                \"color\": \"rgba(0, 0, 0, 1.000)\",\n",
       "                \"width\": 1\n",
       "            },\n",
       "            \"size\": 8\n",
       "        },\n",
       "        \"zmax\": 3.0,\n",
       "        \"y\": [\n",
       "            1.0\n",
       "        ],\n",
       "        \"type\": \"scatter\"\n",
       "    },\n",
       "    {\n",
       "        \"xaxis\": \"x\",\n",
       "        \"colorbar\": {\n",
       "            \"title\": \"\"\n",
       "        },\n",
       "        \"yaxis\": \"y\",\n",
       "        \"x\": [\n",
       "            4.2\n",
       "        ],\n",
       "        \"showlegend\": false,\n",
       "        \"mode\": \"markers\",\n",
       "        \"name\": \"y1\",\n",
       "        \"zmin\": 1.0,\n",
       "        \"legendgroup\": \"y1\",\n",
       "        \"marker\": {\n",
       "            \"symbol\": \"circle\",\n",
       "            \"color\": \"rgba(255, 76, 76, 1.000)\",\n",
       "            \"line\": {\n",
       "                \"color\": \"rgba(0, 0, 0, 1.000)\",\n",
       "                \"width\": 1\n",
       "            },\n",
       "            \"size\": 8\n",
       "        },\n",
       "        \"zmax\": 3.0,\n",
       "        \"y\": [\n",
       "            1.5\n",
       "        ],\n",
       "        \"type\": \"scatter\"\n",
       "    },\n",
       "    {\n",
       "        \"xaxis\": \"x\",\n",
       "        \"colorbar\": {\n",
       "            \"title\": \"\"\n",
       "        },\n",
       "        \"yaxis\": \"y\",\n",
       "        \"x\": [\n",
       "            4.0\n",
       "        ],\n",
       "        \"showlegend\": false,\n",
       "        \"mode\": \"markers\",\n",
       "        \"name\": \"y1\",\n",
       "        \"zmin\": 1.0,\n",
       "        \"legendgroup\": \"y1\",\n",
       "        \"marker\": {\n",
       "            \"symbol\": \"circle\",\n",
       "            \"color\": \"rgba(255, 76, 76, 1.000)\",\n",
       "            \"line\": {\n",
       "                \"color\": \"rgba(0, 0, 0, 1.000)\",\n",
       "                \"width\": 1\n",
       "            },\n",
       "            \"size\": 8\n",
       "        },\n",
       "        \"zmax\": 3.0,\n",
       "        \"y\": [\n",
       "            1.0\n",
       "        ],\n",
       "        \"type\": \"scatter\"\n",
       "    },\n",
       "    {\n",
       "        \"xaxis\": \"x\",\n",
       "        \"colorbar\": {\n",
       "            \"title\": \"\"\n",
       "        },\n",
       "        \"yaxis\": \"y\",\n",
       "        \"x\": [\n",
       "            4.7\n",
       "        ],\n",
       "        \"showlegend\": false,\n",
       "        \"mode\": \"markers\",\n",
       "        \"name\": \"y1\",\n",
       "        \"zmin\": 1.0,\n",
       "        \"legendgroup\": \"y1\",\n",
       "        \"marker\": {\n",
       "            \"symbol\": \"circle\",\n",
       "            \"color\": \"rgba(255, 76, 76, 1.000)\",\n",
       "            \"line\": {\n",
       "                \"color\": \"rgba(0, 0, 0, 1.000)\",\n",
       "                \"width\": 1\n",
       "            },\n",
       "            \"size\": 8\n",
       "        },\n",
       "        \"zmax\": 3.0,\n",
       "        \"y\": [\n",
       "            1.4\n",
       "        ],\n",
       "        \"type\": \"scatter\"\n",
       "    },\n",
       "    {\n",
       "        \"xaxis\": \"x\",\n",
       "        \"colorbar\": {\n",
       "            \"title\": \"\"\n",
       "        },\n",
       "        \"yaxis\": \"y\",\n",
       "        \"x\": [\n",
       "            3.6\n",
       "        ],\n",
       "        \"showlegend\": false,\n",
       "        \"mode\": \"markers\",\n",
       "        \"name\": \"y1\",\n",
       "        \"zmin\": 1.0,\n",
       "        \"legendgroup\": \"y1\",\n",
       "        \"marker\": {\n",
       "            \"symbol\": \"circle\",\n",
       "            \"color\": \"rgba(255, 76, 76, 1.000)\",\n",
       "            \"line\": {\n",
       "                \"color\": \"rgba(0, 0, 0, 1.000)\",\n",
       "                \"width\": 1\n",
       "            },\n",
       "            \"size\": 8\n",
       "        },\n",
       "        \"zmax\": 3.0,\n",
       "        \"y\": [\n",
       "            1.3\n",
       "        ],\n",
       "        \"type\": \"scatter\"\n",
       "    },\n",
       "    {\n",
       "        \"xaxis\": \"x\",\n",
       "        \"colorbar\": {\n",
       "            \"title\": \"\"\n",
       "        },\n",
       "        \"yaxis\": \"y\",\n",
       "        \"x\": [\n",
       "            4.4\n",
       "        ],\n",
       "        \"showlegend\": false,\n",
       "        \"mode\": \"markers\",\n",
       "        \"name\": \"y1\",\n",
       "        \"zmin\": 1.0,\n",
       "        \"legendgroup\": \"y1\",\n",
       "        \"marker\": {\n",
       "            \"symbol\": \"circle\",\n",
       "            \"color\": \"rgba(255, 76, 76, 1.000)\",\n",
       "            \"line\": {\n",
       "                \"color\": \"rgba(0, 0, 0, 1.000)\",\n",
       "                \"width\": 1\n",
       "            },\n",
       "            \"size\": 8\n",
       "        },\n",
       "        \"zmax\": 3.0,\n",
       "        \"y\": [\n",
       "            1.4\n",
       "        ],\n",
       "        \"type\": \"scatter\"\n",
       "    },\n",
       "    {\n",
       "        \"xaxis\": \"x\",\n",
       "        \"colorbar\": {\n",
       "            \"title\": \"\"\n",
       "        },\n",
       "        \"yaxis\": \"y\",\n",
       "        \"x\": [\n",
       "            4.5\n",
       "        ],\n",
       "        \"showlegend\": false,\n",
       "        \"mode\": \"markers\",\n",
       "        \"name\": \"y1\",\n",
       "        \"zmin\": 1.0,\n",
       "        \"legendgroup\": \"y1\",\n",
       "        \"marker\": {\n",
       "            \"symbol\": \"circle\",\n",
       "            \"color\": \"rgba(255, 76, 76, 1.000)\",\n",
       "            \"line\": {\n",
       "                \"color\": \"rgba(0, 0, 0, 1.000)\",\n",
       "                \"width\": 1\n",
       "            },\n",
       "            \"size\": 8\n",
       "        },\n",
       "        \"zmax\": 3.0,\n",
       "        \"y\": [\n",
       "            1.5\n",
       "        ],\n",
       "        \"type\": \"scatter\"\n",
       "    },\n",
       "    {\n",
       "        \"xaxis\": \"x\",\n",
       "        \"colorbar\": {\n",
       "            \"title\": \"\"\n",
       "        },\n",
       "        \"yaxis\": \"y\",\n",
       "        \"x\": [\n",
       "            4.1\n",
       "        ],\n",
       "        \"showlegend\": false,\n",
       "        \"mode\": \"markers\",\n",
       "        \"name\": \"y1\",\n",
       "        \"zmin\": 1.0,\n",
       "        \"legendgroup\": \"y1\",\n",
       "        \"marker\": {\n",
       "            \"symbol\": \"circle\",\n",
       "            \"color\": \"rgba(255, 76, 76, 1.000)\",\n",
       "            \"line\": {\n",
       "                \"color\": \"rgba(0, 0, 0, 1.000)\",\n",
       "                \"width\": 1\n",
       "            },\n",
       "            \"size\": 8\n",
       "        },\n",
       "        \"zmax\": 3.0,\n",
       "        \"y\": [\n",
       "            1.0\n",
       "        ],\n",
       "        \"type\": \"scatter\"\n",
       "    },\n",
       "    {\n",
       "        \"xaxis\": \"x\",\n",
       "        \"colorbar\": {\n",
       "            \"title\": \"\"\n",
       "        },\n",
       "        \"yaxis\": \"y\",\n",
       "        \"x\": [\n",
       "            4.5\n",
       "        ],\n",
       "        \"showlegend\": false,\n",
       "        \"mode\": \"markers\",\n",
       "        \"name\": \"y1\",\n",
       "        \"zmin\": 1.0,\n",
       "        \"legendgroup\": \"y1\",\n",
       "        \"marker\": {\n",
       "            \"symbol\": \"circle\",\n",
       "            \"color\": \"rgba(255, 76, 76, 1.000)\",\n",
       "            \"line\": {\n",
       "                \"color\": \"rgba(0, 0, 0, 1.000)\",\n",
       "                \"width\": 1\n",
       "            },\n",
       "            \"size\": 8\n",
       "        },\n",
       "        \"zmax\": 3.0,\n",
       "        \"y\": [\n",
       "            1.5\n",
       "        ],\n",
       "        \"type\": \"scatter\"\n",
       "    },\n",
       "    {\n",
       "        \"xaxis\": \"x\",\n",
       "        \"colorbar\": {\n",
       "            \"title\": \"\"\n",
       "        },\n",
       "        \"yaxis\": \"y\",\n",
       "        \"x\": [\n",
       "            3.9\n",
       "        ],\n",
       "        \"showlegend\": false,\n",
       "        \"mode\": \"markers\",\n",
       "        \"name\": \"y1\",\n",
       "        \"zmin\": 1.0,\n",
       "        \"legendgroup\": \"y1\",\n",
       "        \"marker\": {\n",
       "            \"symbol\": \"circle\",\n",
       "            \"color\": \"rgba(255, 76, 76, 1.000)\",\n",
       "            \"line\": {\n",
       "                \"color\": \"rgba(0, 0, 0, 1.000)\",\n",
       "                \"width\": 1\n",
       "            },\n",
       "            \"size\": 8\n",
       "        },\n",
       "        \"zmax\": 3.0,\n",
       "        \"y\": [\n",
       "            1.1\n",
       "        ],\n",
       "        \"type\": \"scatter\"\n",
       "    },\n",
       "    {\n",
       "        \"xaxis\": \"x\",\n",
       "        \"colorbar\": {\n",
       "            \"title\": \"\"\n",
       "        },\n",
       "        \"yaxis\": \"y\",\n",
       "        \"x\": [\n",
       "            4.8\n",
       "        ],\n",
       "        \"showlegend\": false,\n",
       "        \"mode\": \"markers\",\n",
       "        \"name\": \"y1\",\n",
       "        \"zmin\": 1.0,\n",
       "        \"legendgroup\": \"y1\",\n",
       "        \"marker\": {\n",
       "            \"symbol\": \"circle\",\n",
       "            \"color\": \"rgba(255, 76, 76, 1.000)\",\n",
       "            \"line\": {\n",
       "                \"color\": \"rgba(0, 0, 0, 1.000)\",\n",
       "                \"width\": 1\n",
       "            },\n",
       "            \"size\": 8\n",
       "        },\n",
       "        \"zmax\": 3.0,\n",
       "        \"y\": [\n",
       "            1.8\n",
       "        ],\n",
       "        \"type\": \"scatter\"\n",
       "    },\n",
       "    {\n",
       "        \"xaxis\": \"x\",\n",
       "        \"colorbar\": {\n",
       "            \"title\": \"\"\n",
       "        },\n",
       "        \"yaxis\": \"y\",\n",
       "        \"x\": [\n",
       "            4.0\n",
       "        ],\n",
       "        \"showlegend\": false,\n",
       "        \"mode\": \"markers\",\n",
       "        \"name\": \"y1\",\n",
       "        \"zmin\": 1.0,\n",
       "        \"legendgroup\": \"y1\",\n",
       "        \"marker\": {\n",
       "            \"symbol\": \"circle\",\n",
       "            \"color\": \"rgba(255, 76, 76, 1.000)\",\n",
       "            \"line\": {\n",
       "                \"color\": \"rgba(0, 0, 0, 1.000)\",\n",
       "                \"width\": 1\n",
       "            },\n",
       "            \"size\": 8\n",
       "        },\n",
       "        \"zmax\": 3.0,\n",
       "        \"y\": [\n",
       "            1.3\n",
       "        ],\n",
       "        \"type\": \"scatter\"\n",
       "    },\n",
       "    {\n",
       "        \"xaxis\": \"x\",\n",
       "        \"colorbar\": {\n",
       "            \"title\": \"\"\n",
       "        },\n",
       "        \"yaxis\": \"y\",\n",
       "        \"x\": [\n",
       "            4.9\n",
       "        ],\n",
       "        \"showlegend\": false,\n",
       "        \"mode\": \"markers\",\n",
       "        \"name\": \"y1\",\n",
       "        \"zmin\": 1.0,\n",
       "        \"legendgroup\": \"y1\",\n",
       "        \"marker\": {\n",
       "            \"symbol\": \"circle\",\n",
       "            \"color\": \"rgba(255, 76, 76, 1.000)\",\n",
       "            \"line\": {\n",
       "                \"color\": \"rgba(0, 0, 0, 1.000)\",\n",
       "                \"width\": 1\n",
       "            },\n",
       "            \"size\": 8\n",
       "        },\n",
       "        \"zmax\": 3.0,\n",
       "        \"y\": [\n",
       "            1.5\n",
       "        ],\n",
       "        \"type\": \"scatter\"\n",
       "    },\n",
       "    {\n",
       "        \"xaxis\": \"x\",\n",
       "        \"colorbar\": {\n",
       "            \"title\": \"\"\n",
       "        },\n",
       "        \"yaxis\": \"y\",\n",
       "        \"x\": [\n",
       "            4.7\n",
       "        ],\n",
       "        \"showlegend\": false,\n",
       "        \"mode\": \"markers\",\n",
       "        \"name\": \"y1\",\n",
       "        \"zmin\": 1.0,\n",
       "        \"legendgroup\": \"y1\",\n",
       "        \"marker\": {\n",
       "            \"symbol\": \"circle\",\n",
       "            \"color\": \"rgba(255, 76, 76, 1.000)\",\n",
       "            \"line\": {\n",
       "                \"color\": \"rgba(0, 0, 0, 1.000)\",\n",
       "                \"width\": 1\n",
       "            },\n",
       "            \"size\": 8\n",
       "        },\n",
       "        \"zmax\": 3.0,\n",
       "        \"y\": [\n",
       "            1.2\n",
       "        ],\n",
       "        \"type\": \"scatter\"\n",
       "    },\n",
       "    {\n",
       "        \"xaxis\": \"x\",\n",
       "        \"colorbar\": {\n",
       "            \"title\": \"\"\n",
       "        },\n",
       "        \"yaxis\": \"y\",\n",
       "        \"x\": [\n",
       "            4.3\n",
       "        ],\n",
       "        \"showlegend\": false,\n",
       "        \"mode\": \"markers\",\n",
       "        \"name\": \"y1\",\n",
       "        \"zmin\": 1.0,\n",
       "        \"legendgroup\": \"y1\",\n",
       "        \"marker\": {\n",
       "            \"symbol\": \"circle\",\n",
       "            \"color\": \"rgba(255, 76, 76, 1.000)\",\n",
       "            \"line\": {\n",
       "                \"color\": \"rgba(0, 0, 0, 1.000)\",\n",
       "                \"width\": 1\n",
       "            },\n",
       "            \"size\": 8\n",
       "        },\n",
       "        \"zmax\": 3.0,\n",
       "        \"y\": [\n",
       "            1.3\n",
       "        ],\n",
       "        \"type\": \"scatter\"\n",
       "    },\n",
       "    {\n",
       "        \"xaxis\": \"x\",\n",
       "        \"colorbar\": {\n",
       "            \"title\": \"\"\n",
       "        },\n",
       "        \"yaxis\": \"y\",\n",
       "        \"x\": [\n",
       "            4.4\n",
       "        ],\n",
       "        \"showlegend\": false,\n",
       "        \"mode\": \"markers\",\n",
       "        \"name\": \"y1\",\n",
       "        \"zmin\": 1.0,\n",
       "        \"legendgroup\": \"y1\",\n",
       "        \"marker\": {\n",
       "            \"symbol\": \"circle\",\n",
       "            \"color\": \"rgba(255, 76, 76, 1.000)\",\n",
       "            \"line\": {\n",
       "                \"color\": \"rgba(0, 0, 0, 1.000)\",\n",
       "                \"width\": 1\n",
       "            },\n",
       "            \"size\": 8\n",
       "        },\n",
       "        \"zmax\": 3.0,\n",
       "        \"y\": [\n",
       "            1.4\n",
       "        ],\n",
       "        \"type\": \"scatter\"\n",
       "    },\n",
       "    {\n",
       "        \"xaxis\": \"x\",\n",
       "        \"colorbar\": {\n",
       "            \"title\": \"\"\n",
       "        },\n",
       "        \"yaxis\": \"y\",\n",
       "        \"x\": [\n",
       "            4.8\n",
       "        ],\n",
       "        \"showlegend\": false,\n",
       "        \"mode\": \"markers\",\n",
       "        \"name\": \"y1\",\n",
       "        \"zmin\": 1.0,\n",
       "        \"legendgroup\": \"y1\",\n",
       "        \"marker\": {\n",
       "            \"symbol\": \"circle\",\n",
       "            \"color\": \"rgba(255, 76, 76, 1.000)\",\n",
       "            \"line\": {\n",
       "                \"color\": \"rgba(0, 0, 0, 1.000)\",\n",
       "                \"width\": 1\n",
       "            },\n",
       "            \"size\": 8\n",
       "        },\n",
       "        \"zmax\": 3.0,\n",
       "        \"y\": [\n",
       "            1.4\n",
       "        ],\n",
       "        \"type\": \"scatter\"\n",
       "    },\n",
       "    {\n",
       "        \"xaxis\": \"x\",\n",
       "        \"colorbar\": {\n",
       "            \"title\": \"\"\n",
       "        },\n",
       "        \"yaxis\": \"y\",\n",
       "        \"x\": [\n",
       "            5.0\n",
       "        ],\n",
       "        \"showlegend\": false,\n",
       "        \"mode\": \"markers\",\n",
       "        \"name\": \"y1\",\n",
       "        \"zmin\": 1.0,\n",
       "        \"legendgroup\": \"y1\",\n",
       "        \"marker\": {\n",
       "            \"symbol\": \"circle\",\n",
       "            \"color\": \"rgba(76, 204, 76, 1.000)\",\n",
       "            \"line\": {\n",
       "                \"color\": \"rgba(0, 0, 0, 1.000)\",\n",
       "                \"width\": 1\n",
       "            },\n",
       "            \"size\": 8\n",
       "        },\n",
       "        \"zmax\": 3.0,\n",
       "        \"y\": [\n",
       "            1.7\n",
       "        ],\n",
       "        \"type\": \"scatter\"\n",
       "    },\n",
       "    {\n",
       "        \"xaxis\": \"x\",\n",
       "        \"colorbar\": {\n",
       "            \"title\": \"\"\n",
       "        },\n",
       "        \"yaxis\": \"y\",\n",
       "        \"x\": [\n",
       "            4.5\n",
       "        ],\n",
       "        \"showlegend\": false,\n",
       "        \"mode\": \"markers\",\n",
       "        \"name\": \"y1\",\n",
       "        \"zmin\": 1.0,\n",
       "        \"legendgroup\": \"y1\",\n",
       "        \"marker\": {\n",
       "            \"symbol\": \"circle\",\n",
       "            \"color\": \"rgba(255, 76, 76, 1.000)\",\n",
       "            \"line\": {\n",
       "                \"color\": \"rgba(0, 0, 0, 1.000)\",\n",
       "                \"width\": 1\n",
       "            },\n",
       "            \"size\": 8\n",
       "        },\n",
       "        \"zmax\": 3.0,\n",
       "        \"y\": [\n",
       "            1.5\n",
       "        ],\n",
       "        \"type\": \"scatter\"\n",
       "    },\n",
       "    {\n",
       "        \"xaxis\": \"x\",\n",
       "        \"colorbar\": {\n",
       "            \"title\": \"\"\n",
       "        },\n",
       "        \"yaxis\": \"y\",\n",
       "        \"x\": [\n",
       "            3.5\n",
       "        ],\n",
       "        \"showlegend\": false,\n",
       "        \"mode\": \"markers\",\n",
       "        \"name\": \"y1\",\n",
       "        \"zmin\": 1.0,\n",
       "        \"legendgroup\": \"y1\",\n",
       "        \"marker\": {\n",
       "            \"symbol\": \"circle\",\n",
       "            \"color\": \"rgba(255, 76, 76, 1.000)\",\n",
       "            \"line\": {\n",
       "                \"color\": \"rgba(0, 0, 0, 1.000)\",\n",
       "                \"width\": 1\n",
       "            },\n",
       "            \"size\": 8\n",
       "        },\n",
       "        \"zmax\": 3.0,\n",
       "        \"y\": [\n",
       "            1.0\n",
       "        ],\n",
       "        \"type\": \"scatter\"\n",
       "    },\n",
       "    {\n",
       "        \"xaxis\": \"x\",\n",
       "        \"colorbar\": {\n",
       "            \"title\": \"\"\n",
       "        },\n",
       "        \"yaxis\": \"y\",\n",
       "        \"x\": [\n",
       "            3.8\n",
       "        ],\n",
       "        \"showlegend\": false,\n",
       "        \"mode\": \"markers\",\n",
       "        \"name\": \"y1\",\n",
       "        \"zmin\": 1.0,\n",
       "        \"legendgroup\": \"y1\",\n",
       "        \"marker\": {\n",
       "            \"symbol\": \"circle\",\n",
       "            \"color\": \"rgba(255, 76, 76, 1.000)\",\n",
       "            \"line\": {\n",
       "                \"color\": \"rgba(0, 0, 0, 1.000)\",\n",
       "                \"width\": 1\n",
       "            },\n",
       "            \"size\": 8\n",
       "        },\n",
       "        \"zmax\": 3.0,\n",
       "        \"y\": [\n",
       "            1.1\n",
       "        ],\n",
       "        \"type\": \"scatter\"\n",
       "    },\n",
       "    {\n",
       "        \"xaxis\": \"x\",\n",
       "        \"colorbar\": {\n",
       "            \"title\": \"\"\n",
       "        },\n",
       "        \"yaxis\": \"y\",\n",
       "        \"x\": [\n",
       "            3.7\n",
       "        ],\n",
       "        \"showlegend\": false,\n",
       "        \"mode\": \"markers\",\n",
       "        \"name\": \"y1\",\n",
       "        \"zmin\": 1.0,\n",
       "        \"legendgroup\": \"y1\",\n",
       "        \"marker\": {\n",
       "            \"symbol\": \"circle\",\n",
       "            \"color\": \"rgba(255, 76, 76, 1.000)\",\n",
       "            \"line\": {\n",
       "                \"color\": \"rgba(0, 0, 0, 1.000)\",\n",
       "                \"width\": 1\n",
       "            },\n",
       "            \"size\": 8\n",
       "        },\n",
       "        \"zmax\": 3.0,\n",
       "        \"y\": [\n",
       "            1.0\n",
       "        ],\n",
       "        \"type\": \"scatter\"\n",
       "    },\n",
       "    {\n",
       "        \"xaxis\": \"x\",\n",
       "        \"colorbar\": {\n",
       "            \"title\": \"\"\n",
       "        },\n",
       "        \"yaxis\": \"y\",\n",
       "        \"x\": [\n",
       "            3.9\n",
       "        ],\n",
       "        \"showlegend\": false,\n",
       "        \"mode\": \"markers\",\n",
       "        \"name\": \"y1\",\n",
       "        \"zmin\": 1.0,\n",
       "        \"legendgroup\": \"y1\",\n",
       "        \"marker\": {\n",
       "            \"symbol\": \"circle\",\n",
       "            \"color\": \"rgba(255, 76, 76, 1.000)\",\n",
       "            \"line\": {\n",
       "                \"color\": \"rgba(0, 0, 0, 1.000)\",\n",
       "                \"width\": 1\n",
       "            },\n",
       "            \"size\": 8\n",
       "        },\n",
       "        \"zmax\": 3.0,\n",
       "        \"y\": [\n",
       "            1.2\n",
       "        ],\n",
       "        \"type\": \"scatter\"\n",
       "    },\n",
       "    {\n",
       "        \"xaxis\": \"x\",\n",
       "        \"colorbar\": {\n",
       "            \"title\": \"\"\n",
       "        },\n",
       "        \"yaxis\": \"y\",\n",
       "        \"x\": [\n",
       "            5.1\n",
       "        ],\n",
       "        \"showlegend\": false,\n",
       "        \"mode\": \"markers\",\n",
       "        \"name\": \"y1\",\n",
       "        \"zmin\": 1.0,\n",
       "        \"legendgroup\": \"y1\",\n",
       "        \"marker\": {\n",
       "            \"symbol\": \"circle\",\n",
       "            \"color\": \"rgba(255, 76, 76, 1.000)\",\n",
       "            \"line\": {\n",
       "                \"color\": \"rgba(0, 0, 0, 1.000)\",\n",
       "                \"width\": 1\n",
       "            },\n",
       "            \"size\": 8\n",
       "        },\n",
       "        \"zmax\": 3.0,\n",
       "        \"y\": [\n",
       "            1.6\n",
       "        ],\n",
       "        \"type\": \"scatter\"\n",
       "    },\n",
       "    {\n",
       "        \"xaxis\": \"x\",\n",
       "        \"colorbar\": {\n",
       "            \"title\": \"\"\n",
       "        },\n",
       "        \"yaxis\": \"y\",\n",
       "        \"x\": [\n",
       "            4.5\n",
       "        ],\n",
       "        \"showlegend\": false,\n",
       "        \"mode\": \"markers\",\n",
       "        \"name\": \"y1\",\n",
       "        \"zmin\": 1.0,\n",
       "        \"legendgroup\": \"y1\",\n",
       "        \"marker\": {\n",
       "            \"symbol\": \"circle\",\n",
       "            \"color\": \"rgba(255, 76, 76, 1.000)\",\n",
       "            \"line\": {\n",
       "                \"color\": \"rgba(0, 0, 0, 1.000)\",\n",
       "                \"width\": 1\n",
       "            },\n",
       "            \"size\": 8\n",
       "        },\n",
       "        \"zmax\": 3.0,\n",
       "        \"y\": [\n",
       "            1.5\n",
       "        ],\n",
       "        \"type\": \"scatter\"\n",
       "    },\n",
       "    {\n",
       "        \"xaxis\": \"x\",\n",
       "        \"colorbar\": {\n",
       "            \"title\": \"\"\n",
       "        },\n",
       "        \"yaxis\": \"y\",\n",
       "        \"x\": [\n",
       "            4.5\n",
       "        ],\n",
       "        \"showlegend\": false,\n",
       "        \"mode\": \"markers\",\n",
       "        \"name\": \"y1\",\n",
       "        \"zmin\": 1.0,\n",
       "        \"legendgroup\": \"y1\",\n",
       "        \"marker\": {\n",
       "            \"symbol\": \"circle\",\n",
       "            \"color\": \"rgba(255, 76, 76, 1.000)\",\n",
       "            \"line\": {\n",
       "                \"color\": \"rgba(0, 0, 0, 1.000)\",\n",
       "                \"width\": 1\n",
       "            },\n",
       "            \"size\": 8\n",
       "        },\n",
       "        \"zmax\": 3.0,\n",
       "        \"y\": [\n",
       "            1.6\n",
       "        ],\n",
       "        \"type\": \"scatter\"\n",
       "    },\n",
       "    {\n",
       "        \"xaxis\": \"x\",\n",
       "        \"colorbar\": {\n",
       "            \"title\": \"\"\n",
       "        },\n",
       "        \"yaxis\": \"y\",\n",
       "        \"x\": [\n",
       "            4.7\n",
       "        ],\n",
       "        \"showlegend\": false,\n",
       "        \"mode\": \"markers\",\n",
       "        \"name\": \"y1\",\n",
       "        \"zmin\": 1.0,\n",
       "        \"legendgroup\": \"y1\",\n",
       "        \"marker\": {\n",
       "            \"symbol\": \"circle\",\n",
       "            \"color\": \"rgba(255, 76, 76, 1.000)\",\n",
       "            \"line\": {\n",
       "                \"color\": \"rgba(0, 0, 0, 1.000)\",\n",
       "                \"width\": 1\n",
       "            },\n",
       "            \"size\": 8\n",
       "        },\n",
       "        \"zmax\": 3.0,\n",
       "        \"y\": [\n",
       "            1.5\n",
       "        ],\n",
       "        \"type\": \"scatter\"\n",
       "    },\n",
       "    {\n",
       "        \"xaxis\": \"x\",\n",
       "        \"colorbar\": {\n",
       "            \"title\": \"\"\n",
       "        },\n",
       "        \"yaxis\": \"y\",\n",
       "        \"x\": [\n",
       "            4.4\n",
       "        ],\n",
       "        \"showlegend\": false,\n",
       "        \"mode\": \"markers\",\n",
       "        \"name\": \"y1\",\n",
       "        \"zmin\": 1.0,\n",
       "        \"legendgroup\": \"y1\",\n",
       "        \"marker\": {\n",
       "            \"symbol\": \"circle\",\n",
       "            \"color\": \"rgba(255, 76, 76, 1.000)\",\n",
       "            \"line\": {\n",
       "                \"color\": \"rgba(0, 0, 0, 1.000)\",\n",
       "                \"width\": 1\n",
       "            },\n",
       "            \"size\": 8\n",
       "        },\n",
       "        \"zmax\": 3.0,\n",
       "        \"y\": [\n",
       "            1.3\n",
       "        ],\n",
       "        \"type\": \"scatter\"\n",
       "    },\n",
       "    {\n",
       "        \"xaxis\": \"x\",\n",
       "        \"colorbar\": {\n",
       "            \"title\": \"\"\n",
       "        },\n",
       "        \"yaxis\": \"y\",\n",
       "        \"x\": [\n",
       "            4.1\n",
       "        ],\n",
       "        \"showlegend\": false,\n",
       "        \"mode\": \"markers\",\n",
       "        \"name\": \"y1\",\n",
       "        \"zmin\": 1.0,\n",
       "        \"legendgroup\": \"y1\",\n",
       "        \"marker\": {\n",
       "            \"symbol\": \"circle\",\n",
       "            \"color\": \"rgba(255, 76, 76, 1.000)\",\n",
       "            \"line\": {\n",
       "                \"color\": \"rgba(0, 0, 0, 1.000)\",\n",
       "                \"width\": 1\n",
       "            },\n",
       "            \"size\": 8\n",
       "        },\n",
       "        \"zmax\": 3.0,\n",
       "        \"y\": [\n",
       "            1.3\n",
       "        ],\n",
       "        \"type\": \"scatter\"\n",
       "    },\n",
       "    {\n",
       "        \"xaxis\": \"x\",\n",
       "        \"colorbar\": {\n",
       "            \"title\": \"\"\n",
       "        },\n",
       "        \"yaxis\": \"y\",\n",
       "        \"x\": [\n",
       "            4.0\n",
       "        ],\n",
       "        \"showlegend\": false,\n",
       "        \"mode\": \"markers\",\n",
       "        \"name\": \"y1\",\n",
       "        \"zmin\": 1.0,\n",
       "        \"legendgroup\": \"y1\",\n",
       "        \"marker\": {\n",
       "            \"symbol\": \"circle\",\n",
       "            \"color\": \"rgba(255, 76, 76, 1.000)\",\n",
       "            \"line\": {\n",
       "                \"color\": \"rgba(0, 0, 0, 1.000)\",\n",
       "                \"width\": 1\n",
       "            },\n",
       "            \"size\": 8\n",
       "        },\n",
       "        \"zmax\": 3.0,\n",
       "        \"y\": [\n",
       "            1.3\n",
       "        ],\n",
       "        \"type\": \"scatter\"\n",
       "    },\n",
       "    {\n",
       "        \"xaxis\": \"x\",\n",
       "        \"colorbar\": {\n",
       "            \"title\": \"\"\n",
       "        },\n",
       "        \"yaxis\": \"y\",\n",
       "        \"x\": [\n",
       "            4.4\n",
       "        ],\n",
       "        \"showlegend\": false,\n",
       "        \"mode\": \"markers\",\n",
       "        \"name\": \"y1\",\n",
       "        \"zmin\": 1.0,\n",
       "        \"legendgroup\": \"y1\",\n",
       "        \"marker\": {\n",
       "            \"symbol\": \"circle\",\n",
       "            \"color\": \"rgba(255, 76, 76, 1.000)\",\n",
       "            \"line\": {\n",
       "                \"color\": \"rgba(0, 0, 0, 1.000)\",\n",
       "                \"width\": 1\n",
       "            },\n",
       "            \"size\": 8\n",
       "        },\n",
       "        \"zmax\": 3.0,\n",
       "        \"y\": [\n",
       "            1.2\n",
       "        ],\n",
       "        \"type\": \"scatter\"\n",
       "    },\n",
       "    {\n",
       "        \"xaxis\": \"x\",\n",
       "        \"colorbar\": {\n",
       "            \"title\": \"\"\n",
       "        },\n",
       "        \"yaxis\": \"y\",\n",
       "        \"x\": [\n",
       "            4.6\n",
       "        ],\n",
       "        \"showlegend\": false,\n",
       "        \"mode\": \"markers\",\n",
       "        \"name\": \"y1\",\n",
       "        \"zmin\": 1.0,\n",
       "        \"legendgroup\": \"y1\",\n",
       "        \"marker\": {\n",
       "            \"symbol\": \"circle\",\n",
       "            \"color\": \"rgba(255, 76, 76, 1.000)\",\n",
       "            \"line\": {\n",
       "                \"color\": \"rgba(0, 0, 0, 1.000)\",\n",
       "                \"width\": 1\n",
       "            },\n",
       "            \"size\": 8\n",
       "        },\n",
       "        \"zmax\": 3.0,\n",
       "        \"y\": [\n",
       "            1.4\n",
       "        ],\n",
       "        \"type\": \"scatter\"\n",
       "    },\n",
       "    {\n",
       "        \"xaxis\": \"x\",\n",
       "        \"colorbar\": {\n",
       "            \"title\": \"\"\n",
       "        },\n",
       "        \"yaxis\": \"y\",\n",
       "        \"x\": [\n",
       "            4.0\n",
       "        ],\n",
       "        \"showlegend\": false,\n",
       "        \"mode\": \"markers\",\n",
       "        \"name\": \"y1\",\n",
       "        \"zmin\": 1.0,\n",
       "        \"legendgroup\": \"y1\",\n",
       "        \"marker\": {\n",
       "            \"symbol\": \"circle\",\n",
       "            \"color\": \"rgba(255, 76, 76, 1.000)\",\n",
       "            \"line\": {\n",
       "                \"color\": \"rgba(0, 0, 0, 1.000)\",\n",
       "                \"width\": 1\n",
       "            },\n",
       "            \"size\": 8\n",
       "        },\n",
       "        \"zmax\": 3.0,\n",
       "        \"y\": [\n",
       "            1.2\n",
       "        ],\n",
       "        \"type\": \"scatter\"\n",
       "    },\n",
       "    {\n",
       "        \"xaxis\": \"x\",\n",
       "        \"colorbar\": {\n",
       "            \"title\": \"\"\n",
       "        },\n",
       "        \"yaxis\": \"y\",\n",
       "        \"x\": [\n",
       "            3.3\n",
       "        ],\n",
       "        \"showlegend\": false,\n",
       "        \"mode\": \"markers\",\n",
       "        \"name\": \"y1\",\n",
       "        \"zmin\": 1.0,\n",
       "        \"legendgroup\": \"y1\",\n",
       "        \"marker\": {\n",
       "            \"symbol\": \"circle\",\n",
       "            \"color\": \"rgba(255, 76, 76, 1.000)\",\n",
       "            \"line\": {\n",
       "                \"color\": \"rgba(0, 0, 0, 1.000)\",\n",
       "                \"width\": 1\n",
       "            },\n",
       "            \"size\": 8\n",
       "        },\n",
       "        \"zmax\": 3.0,\n",
       "        \"y\": [\n",
       "            1.0\n",
       "        ],\n",
       "        \"type\": \"scatter\"\n",
       "    },\n",
       "    {\n",
       "        \"xaxis\": \"x\",\n",
       "        \"colorbar\": {\n",
       "            \"title\": \"\"\n",
       "        },\n",
       "        \"yaxis\": \"y\",\n",
       "        \"x\": [\n",
       "            4.2\n",
       "        ],\n",
       "        \"showlegend\": false,\n",
       "        \"mode\": \"markers\",\n",
       "        \"name\": \"y1\",\n",
       "        \"zmin\": 1.0,\n",
       "        \"legendgroup\": \"y1\",\n",
       "        \"marker\": {\n",
       "            \"symbol\": \"circle\",\n",
       "            \"color\": \"rgba(255, 76, 76, 1.000)\",\n",
       "            \"line\": {\n",
       "                \"color\": \"rgba(0, 0, 0, 1.000)\",\n",
       "                \"width\": 1\n",
       "            },\n",
       "            \"size\": 8\n",
       "        },\n",
       "        \"zmax\": 3.0,\n",
       "        \"y\": [\n",
       "            1.3\n",
       "        ],\n",
       "        \"type\": \"scatter\"\n",
       "    },\n",
       "    {\n",
       "        \"xaxis\": \"x\",\n",
       "        \"colorbar\": {\n",
       "            \"title\": \"\"\n",
       "        },\n",
       "        \"yaxis\": \"y\",\n",
       "        \"x\": [\n",
       "            4.2\n",
       "        ],\n",
       "        \"showlegend\": false,\n",
       "        \"mode\": \"markers\",\n",
       "        \"name\": \"y1\",\n",
       "        \"zmin\": 1.0,\n",
       "        \"legendgroup\": \"y1\",\n",
       "        \"marker\": {\n",
       "            \"symbol\": \"circle\",\n",
       "            \"color\": \"rgba(255, 76, 76, 1.000)\",\n",
       "            \"line\": {\n",
       "                \"color\": \"rgba(0, 0, 0, 1.000)\",\n",
       "                \"width\": 1\n",
       "            },\n",
       "            \"size\": 8\n",
       "        },\n",
       "        \"zmax\": 3.0,\n",
       "        \"y\": [\n",
       "            1.2\n",
       "        ],\n",
       "        \"type\": \"scatter\"\n",
       "    },\n",
       "    {\n",
       "        \"xaxis\": \"x\",\n",
       "        \"colorbar\": {\n",
       "            \"title\": \"\"\n",
       "        },\n",
       "        \"yaxis\": \"y\",\n",
       "        \"x\": [\n",
       "            4.2\n",
       "        ],\n",
       "        \"showlegend\": false,\n",
       "        \"mode\": \"markers\",\n",
       "        \"name\": \"y1\",\n",
       "        \"zmin\": 1.0,\n",
       "        \"legendgroup\": \"y1\",\n",
       "        \"marker\": {\n",
       "            \"symbol\": \"circle\",\n",
       "            \"color\": \"rgba(255, 76, 76, 1.000)\",\n",
       "            \"line\": {\n",
       "                \"color\": \"rgba(0, 0, 0, 1.000)\",\n",
       "                \"width\": 1\n",
       "            },\n",
       "            \"size\": 8\n",
       "        },\n",
       "        \"zmax\": 3.0,\n",
       "        \"y\": [\n",
       "            1.3\n",
       "        ],\n",
       "        \"type\": \"scatter\"\n",
       "    },\n",
       "    {\n",
       "        \"xaxis\": \"x\",\n",
       "        \"colorbar\": {\n",
       "            \"title\": \"\"\n",
       "        },\n",
       "        \"yaxis\": \"y\",\n",
       "        \"x\": [\n",
       "            4.3\n",
       "        ],\n",
       "        \"showlegend\": false,\n",
       "        \"mode\": \"markers\",\n",
       "        \"name\": \"y1\",\n",
       "        \"zmin\": 1.0,\n",
       "        \"legendgroup\": \"y1\",\n",
       "        \"marker\": {\n",
       "            \"symbol\": \"circle\",\n",
       "            \"color\": \"rgba(255, 76, 76, 1.000)\",\n",
       "            \"line\": {\n",
       "                \"color\": \"rgba(0, 0, 0, 1.000)\",\n",
       "                \"width\": 1\n",
       "            },\n",
       "            \"size\": 8\n",
       "        },\n",
       "        \"zmax\": 3.0,\n",
       "        \"y\": [\n",
       "            1.3\n",
       "        ],\n",
       "        \"type\": \"scatter\"\n",
       "    },\n",
       "    {\n",
       "        \"xaxis\": \"x\",\n",
       "        \"colorbar\": {\n",
       "            \"title\": \"\"\n",
       "        },\n",
       "        \"yaxis\": \"y\",\n",
       "        \"x\": [\n",
       "            3.0\n",
       "        ],\n",
       "        \"showlegend\": false,\n",
       "        \"mode\": \"markers\",\n",
       "        \"name\": \"y1\",\n",
       "        \"zmin\": 1.0,\n",
       "        \"legendgroup\": \"y1\",\n",
       "        \"marker\": {\n",
       "            \"symbol\": \"circle\",\n",
       "            \"color\": \"rgba(255, 76, 76, 1.000)\",\n",
       "            \"line\": {\n",
       "                \"color\": \"rgba(0, 0, 0, 1.000)\",\n",
       "                \"width\": 1\n",
       "            },\n",
       "            \"size\": 8\n",
       "        },\n",
       "        \"zmax\": 3.0,\n",
       "        \"y\": [\n",
       "            1.1\n",
       "        ],\n",
       "        \"type\": \"scatter\"\n",
       "    },\n",
       "    {\n",
       "        \"xaxis\": \"x\",\n",
       "        \"colorbar\": {\n",
       "            \"title\": \"\"\n",
       "        },\n",
       "        \"yaxis\": \"y\",\n",
       "        \"x\": [\n",
       "            4.1\n",
       "        ],\n",
       "        \"showlegend\": false,\n",
       "        \"mode\": \"markers\",\n",
       "        \"name\": \"y1\",\n",
       "        \"zmin\": 1.0,\n",
       "        \"legendgroup\": \"y1\",\n",
       "        \"marker\": {\n",
       "            \"symbol\": \"circle\",\n",
       "            \"color\": \"rgba(255, 76, 76, 1.000)\",\n",
       "            \"line\": {\n",
       "                \"color\": \"rgba(0, 0, 0, 1.000)\",\n",
       "                \"width\": 1\n",
       "            },\n",
       "            \"size\": 8\n",
       "        },\n",
       "        \"zmax\": 3.0,\n",
       "        \"y\": [\n",
       "            1.3\n",
       "        ],\n",
       "        \"type\": \"scatter\"\n",
       "    },\n",
       "    {\n",
       "        \"xaxis\": \"x\",\n",
       "        \"colorbar\": {\n",
       "            \"title\": \"\"\n",
       "        },\n",
       "        \"yaxis\": \"y\",\n",
       "        \"x\": [\n",
       "            6.0\n",
       "        ],\n",
       "        \"showlegend\": false,\n",
       "        \"mode\": \"markers\",\n",
       "        \"name\": \"y1\",\n",
       "        \"zmin\": 1.0,\n",
       "        \"legendgroup\": \"y1\",\n",
       "        \"marker\": {\n",
       "            \"symbol\": \"circle\",\n",
       "            \"color\": \"rgba(76, 204, 76, 1.000)\",\n",
       "            \"line\": {\n",
       "                \"color\": \"rgba(0, 0, 0, 1.000)\",\n",
       "                \"width\": 1\n",
       "            },\n",
       "            \"size\": 8\n",
       "        },\n",
       "        \"zmax\": 3.0,\n",
       "        \"y\": [\n",
       "            2.5\n",
       "        ],\n",
       "        \"type\": \"scatter\"\n",
       "    },\n",
       "    {\n",
       "        \"xaxis\": \"x\",\n",
       "        \"colorbar\": {\n",
       "            \"title\": \"\"\n",
       "        },\n",
       "        \"yaxis\": \"y\",\n",
       "        \"x\": [\n",
       "            5.1\n",
       "        ],\n",
       "        \"showlegend\": false,\n",
       "        \"mode\": \"markers\",\n",
       "        \"name\": \"y1\",\n",
       "        \"zmin\": 1.0,\n",
       "        \"legendgroup\": \"y1\",\n",
       "        \"marker\": {\n",
       "            \"symbol\": \"circle\",\n",
       "            \"color\": \"rgba(255, 76, 76, 1.000)\",\n",
       "            \"line\": {\n",
       "                \"color\": \"rgba(0, 0, 0, 1.000)\",\n",
       "                \"width\": 1\n",
       "            },\n",
       "            \"size\": 8\n",
       "        },\n",
       "        \"zmax\": 3.0,\n",
       "        \"y\": [\n",
       "            1.9\n",
       "        ],\n",
       "        \"type\": \"scatter\"\n",
       "    },\n",
       "    {\n",
       "        \"xaxis\": \"x\",\n",
       "        \"colorbar\": {\n",
       "            \"title\": \"\"\n",
       "        },\n",
       "        \"yaxis\": \"y\",\n",
       "        \"x\": [\n",
       "            5.9\n",
       "        ],\n",
       "        \"showlegend\": false,\n",
       "        \"mode\": \"markers\",\n",
       "        \"name\": \"y1\",\n",
       "        \"zmin\": 1.0,\n",
       "        \"legendgroup\": \"y1\",\n",
       "        \"marker\": {\n",
       "            \"symbol\": \"circle\",\n",
       "            \"color\": \"rgba(76, 204, 76, 1.000)\",\n",
       "            \"line\": {\n",
       "                \"color\": \"rgba(0, 0, 0, 1.000)\",\n",
       "                \"width\": 1\n",
       "            },\n",
       "            \"size\": 8\n",
       "        },\n",
       "        \"zmax\": 3.0,\n",
       "        \"y\": [\n",
       "            2.1\n",
       "        ],\n",
       "        \"type\": \"scatter\"\n",
       "    },\n",
       "    {\n",
       "        \"xaxis\": \"x\",\n",
       "        \"colorbar\": {\n",
       "            \"title\": \"\"\n",
       "        },\n",
       "        \"yaxis\": \"y\",\n",
       "        \"x\": [\n",
       "            5.6\n",
       "        ],\n",
       "        \"showlegend\": false,\n",
       "        \"mode\": \"markers\",\n",
       "        \"name\": \"y1\",\n",
       "        \"zmin\": 1.0,\n",
       "        \"legendgroup\": \"y1\",\n",
       "        \"marker\": {\n",
       "            \"symbol\": \"circle\",\n",
       "            \"color\": \"rgba(76, 204, 76, 1.000)\",\n",
       "            \"line\": {\n",
       "                \"color\": \"rgba(0, 0, 0, 1.000)\",\n",
       "                \"width\": 1\n",
       "            },\n",
       "            \"size\": 8\n",
       "        },\n",
       "        \"zmax\": 3.0,\n",
       "        \"y\": [\n",
       "            1.8\n",
       "        ],\n",
       "        \"type\": \"scatter\"\n",
       "    },\n",
       "    {\n",
       "        \"xaxis\": \"x\",\n",
       "        \"colorbar\": {\n",
       "            \"title\": \"\"\n",
       "        },\n",
       "        \"yaxis\": \"y\",\n",
       "        \"x\": [\n",
       "            5.8\n",
       "        ],\n",
       "        \"showlegend\": false,\n",
       "        \"mode\": \"markers\",\n",
       "        \"name\": \"y1\",\n",
       "        \"zmin\": 1.0,\n",
       "        \"legendgroup\": \"y1\",\n",
       "        \"marker\": {\n",
       "            \"symbol\": \"circle\",\n",
       "            \"color\": \"rgba(76, 204, 76, 1.000)\",\n",
       "            \"line\": {\n",
       "                \"color\": \"rgba(0, 0, 0, 1.000)\",\n",
       "                \"width\": 1\n",
       "            },\n",
       "            \"size\": 8\n",
       "        },\n",
       "        \"zmax\": 3.0,\n",
       "        \"y\": [\n",
       "            2.2\n",
       "        ],\n",
       "        \"type\": \"scatter\"\n",
       "    },\n",
       "    {\n",
       "        \"xaxis\": \"x\",\n",
       "        \"colorbar\": {\n",
       "            \"title\": \"\"\n",
       "        },\n",
       "        \"yaxis\": \"y\",\n",
       "        \"x\": [\n",
       "            6.6\n",
       "        ],\n",
       "        \"showlegend\": false,\n",
       "        \"mode\": \"markers\",\n",
       "        \"name\": \"y1\",\n",
       "        \"zmin\": 1.0,\n",
       "        \"legendgroup\": \"y1\",\n",
       "        \"marker\": {\n",
       "            \"symbol\": \"circle\",\n",
       "            \"color\": \"rgba(76, 204, 76, 1.000)\",\n",
       "            \"line\": {\n",
       "                \"color\": \"rgba(0, 0, 0, 1.000)\",\n",
       "                \"width\": 1\n",
       "            },\n",
       "            \"size\": 8\n",
       "        },\n",
       "        \"zmax\": 3.0,\n",
       "        \"y\": [\n",
       "            2.1\n",
       "        ],\n",
       "        \"type\": \"scatter\"\n",
       "    },\n",
       "    {\n",
       "        \"xaxis\": \"x\",\n",
       "        \"colorbar\": {\n",
       "            \"title\": \"\"\n",
       "        },\n",
       "        \"yaxis\": \"y\",\n",
       "        \"x\": [\n",
       "            4.5\n",
       "        ],\n",
       "        \"showlegend\": false,\n",
       "        \"mode\": \"markers\",\n",
       "        \"name\": \"y1\",\n",
       "        \"zmin\": 1.0,\n",
       "        \"legendgroup\": \"y1\",\n",
       "        \"marker\": {\n",
       "            \"symbol\": \"circle\",\n",
       "            \"color\": \"rgba(255, 76, 76, 1.000)\",\n",
       "            \"line\": {\n",
       "                \"color\": \"rgba(0, 0, 0, 1.000)\",\n",
       "                \"width\": 1\n",
       "            },\n",
       "            \"size\": 8\n",
       "        },\n",
       "        \"zmax\": 3.0,\n",
       "        \"y\": [\n",
       "            1.7\n",
       "        ],\n",
       "        \"type\": \"scatter\"\n",
       "    },\n",
       "    {\n",
       "        \"xaxis\": \"x\",\n",
       "        \"colorbar\": {\n",
       "            \"title\": \"\"\n",
       "        },\n",
       "        \"yaxis\": \"y\",\n",
       "        \"x\": [\n",
       "            6.3\n",
       "        ],\n",
       "        \"showlegend\": false,\n",
       "        \"mode\": \"markers\",\n",
       "        \"name\": \"y1\",\n",
       "        \"zmin\": 1.0,\n",
       "        \"legendgroup\": \"y1\",\n",
       "        \"marker\": {\n",
       "            \"symbol\": \"circle\",\n",
       "            \"color\": \"rgba(76, 204, 76, 1.000)\",\n",
       "            \"line\": {\n",
       "                \"color\": \"rgba(0, 0, 0, 1.000)\",\n",
       "                \"width\": 1\n",
       "            },\n",
       "            \"size\": 8\n",
       "        },\n",
       "        \"zmax\": 3.0,\n",
       "        \"y\": [\n",
       "            1.8\n",
       "        ],\n",
       "        \"type\": \"scatter\"\n",
       "    },\n",
       "    {\n",
       "        \"xaxis\": \"x\",\n",
       "        \"colorbar\": {\n",
       "            \"title\": \"\"\n",
       "        },\n",
       "        \"yaxis\": \"y\",\n",
       "        \"x\": [\n",
       "            5.8\n",
       "        ],\n",
       "        \"showlegend\": false,\n",
       "        \"mode\": \"markers\",\n",
       "        \"name\": \"y1\",\n",
       "        \"zmin\": 1.0,\n",
       "        \"legendgroup\": \"y1\",\n",
       "        \"marker\": {\n",
       "            \"symbol\": \"circle\",\n",
       "            \"color\": \"rgba(76, 204, 76, 1.000)\",\n",
       "            \"line\": {\n",
       "                \"color\": \"rgba(0, 0, 0, 1.000)\",\n",
       "                \"width\": 1\n",
       "            },\n",
       "            \"size\": 8\n",
       "        },\n",
       "        \"zmax\": 3.0,\n",
       "        \"y\": [\n",
       "            1.8\n",
       "        ],\n",
       "        \"type\": \"scatter\"\n",
       "    },\n",
       "    {\n",
       "        \"xaxis\": \"x\",\n",
       "        \"colorbar\": {\n",
       "            \"title\": \"\"\n",
       "        },\n",
       "        \"yaxis\": \"y\",\n",
       "        \"x\": [\n",
       "            6.1\n",
       "        ],\n",
       "        \"showlegend\": false,\n",
       "        \"mode\": \"markers\",\n",
       "        \"name\": \"y1\",\n",
       "        \"zmin\": 1.0,\n",
       "        \"legendgroup\": \"y1\",\n",
       "        \"marker\": {\n",
       "            \"symbol\": \"circle\",\n",
       "            \"color\": \"rgba(76, 204, 76, 1.000)\",\n",
       "            \"line\": {\n",
       "                \"color\": \"rgba(0, 0, 0, 1.000)\",\n",
       "                \"width\": 1\n",
       "            },\n",
       "            \"size\": 8\n",
       "        },\n",
       "        \"zmax\": 3.0,\n",
       "        \"y\": [\n",
       "            2.5\n",
       "        ],\n",
       "        \"type\": \"scatter\"\n",
       "    },\n",
       "    {\n",
       "        \"xaxis\": \"x\",\n",
       "        \"colorbar\": {\n",
       "            \"title\": \"\"\n",
       "        },\n",
       "        \"yaxis\": \"y\",\n",
       "        \"x\": [\n",
       "            5.1\n",
       "        ],\n",
       "        \"showlegend\": false,\n",
       "        \"mode\": \"markers\",\n",
       "        \"name\": \"y1\",\n",
       "        \"zmin\": 1.0,\n",
       "        \"legendgroup\": \"y1\",\n",
       "        \"marker\": {\n",
       "            \"symbol\": \"circle\",\n",
       "            \"color\": \"rgba(76, 204, 76, 1.000)\",\n",
       "            \"line\": {\n",
       "                \"color\": \"rgba(0, 0, 0, 1.000)\",\n",
       "                \"width\": 1\n",
       "            },\n",
       "            \"size\": 8\n",
       "        },\n",
       "        \"zmax\": 3.0,\n",
       "        \"y\": [\n",
       "            2.0\n",
       "        ],\n",
       "        \"type\": \"scatter\"\n",
       "    },\n",
       "    {\n",
       "        \"xaxis\": \"x\",\n",
       "        \"colorbar\": {\n",
       "            \"title\": \"\"\n",
       "        },\n",
       "        \"yaxis\": \"y\",\n",
       "        \"x\": [\n",
       "            5.3\n",
       "        ],\n",
       "        \"showlegend\": false,\n",
       "        \"mode\": \"markers\",\n",
       "        \"name\": \"y1\",\n",
       "        \"zmin\": 1.0,\n",
       "        \"legendgroup\": \"y1\",\n",
       "        \"marker\": {\n",
       "            \"symbol\": \"circle\",\n",
       "            \"color\": \"rgba(76, 204, 76, 1.000)\",\n",
       "            \"line\": {\n",
       "                \"color\": \"rgba(0, 0, 0, 1.000)\",\n",
       "                \"width\": 1\n",
       "            },\n",
       "            \"size\": 8\n",
       "        },\n",
       "        \"zmax\": 3.0,\n",
       "        \"y\": [\n",
       "            1.9\n",
       "        ],\n",
       "        \"type\": \"scatter\"\n",
       "    },\n",
       "    {\n",
       "        \"xaxis\": \"x\",\n",
       "        \"colorbar\": {\n",
       "            \"title\": \"\"\n",
       "        },\n",
       "        \"yaxis\": \"y\",\n",
       "        \"x\": [\n",
       "            5.5\n",
       "        ],\n",
       "        \"showlegend\": false,\n",
       "        \"mode\": \"markers\",\n",
       "        \"name\": \"y1\",\n",
       "        \"zmin\": 1.0,\n",
       "        \"legendgroup\": \"y1\",\n",
       "        \"marker\": {\n",
       "            \"symbol\": \"circle\",\n",
       "            \"color\": \"rgba(76, 204, 76, 1.000)\",\n",
       "            \"line\": {\n",
       "                \"color\": \"rgba(0, 0, 0, 1.000)\",\n",
       "                \"width\": 1\n",
       "            },\n",
       "            \"size\": 8\n",
       "        },\n",
       "        \"zmax\": 3.0,\n",
       "        \"y\": [\n",
       "            2.1\n",
       "        ],\n",
       "        \"type\": \"scatter\"\n",
       "    },\n",
       "    {\n",
       "        \"xaxis\": \"x\",\n",
       "        \"colorbar\": {\n",
       "            \"title\": \"\"\n",
       "        },\n",
       "        \"yaxis\": \"y\",\n",
       "        \"x\": [\n",
       "            5.0\n",
       "        ],\n",
       "        \"showlegend\": false,\n",
       "        \"mode\": \"markers\",\n",
       "        \"name\": \"y1\",\n",
       "        \"zmin\": 1.0,\n",
       "        \"legendgroup\": \"y1\",\n",
       "        \"marker\": {\n",
       "            \"symbol\": \"circle\",\n",
       "            \"color\": \"rgba(255, 76, 76, 1.000)\",\n",
       "            \"line\": {\n",
       "                \"color\": \"rgba(0, 0, 0, 1.000)\",\n",
       "                \"width\": 1\n",
       "            },\n",
       "            \"size\": 8\n",
       "        },\n",
       "        \"zmax\": 3.0,\n",
       "        \"y\": [\n",
       "            2.0\n",
       "        ],\n",
       "        \"type\": \"scatter\"\n",
       "    },\n",
       "    {\n",
       "        \"xaxis\": \"x\",\n",
       "        \"colorbar\": {\n",
       "            \"title\": \"\"\n",
       "        },\n",
       "        \"yaxis\": \"y\",\n",
       "        \"x\": [\n",
       "            5.1\n",
       "        ],\n",
       "        \"showlegend\": false,\n",
       "        \"mode\": \"markers\",\n",
       "        \"name\": \"y1\",\n",
       "        \"zmin\": 1.0,\n",
       "        \"legendgroup\": \"y1\",\n",
       "        \"marker\": {\n",
       "            \"symbol\": \"circle\",\n",
       "            \"color\": \"rgba(255, 76, 76, 1.000)\",\n",
       "            \"line\": {\n",
       "                \"color\": \"rgba(0, 0, 0, 1.000)\",\n",
       "                \"width\": 1\n",
       "            },\n",
       "            \"size\": 8\n",
       "        },\n",
       "        \"zmax\": 3.0,\n",
       "        \"y\": [\n",
       "            2.4\n",
       "        ],\n",
       "        \"type\": \"scatter\"\n",
       "    },\n",
       "    {\n",
       "        \"xaxis\": \"x\",\n",
       "        \"colorbar\": {\n",
       "            \"title\": \"\"\n",
       "        },\n",
       "        \"yaxis\": \"y\",\n",
       "        \"x\": [\n",
       "            5.3\n",
       "        ],\n",
       "        \"showlegend\": false,\n",
       "        \"mode\": \"markers\",\n",
       "        \"name\": \"y1\",\n",
       "        \"zmin\": 1.0,\n",
       "        \"legendgroup\": \"y1\",\n",
       "        \"marker\": {\n",
       "            \"symbol\": \"circle\",\n",
       "            \"color\": \"rgba(76, 204, 76, 1.000)\",\n",
       "            \"line\": {\n",
       "                \"color\": \"rgba(0, 0, 0, 1.000)\",\n",
       "                \"width\": 1\n",
       "            },\n",
       "            \"size\": 8\n",
       "        },\n",
       "        \"zmax\": 3.0,\n",
       "        \"y\": [\n",
       "            2.3\n",
       "        ],\n",
       "        \"type\": \"scatter\"\n",
       "    },\n",
       "    {\n",
       "        \"xaxis\": \"x\",\n",
       "        \"colorbar\": {\n",
       "            \"title\": \"\"\n",
       "        },\n",
       "        \"yaxis\": \"y\",\n",
       "        \"x\": [\n",
       "            5.5\n",
       "        ],\n",
       "        \"showlegend\": false,\n",
       "        \"mode\": \"markers\",\n",
       "        \"name\": \"y1\",\n",
       "        \"zmin\": 1.0,\n",
       "        \"legendgroup\": \"y1\",\n",
       "        \"marker\": {\n",
       "            \"symbol\": \"circle\",\n",
       "            \"color\": \"rgba(76, 204, 76, 1.000)\",\n",
       "            \"line\": {\n",
       "                \"color\": \"rgba(0, 0, 0, 1.000)\",\n",
       "                \"width\": 1\n",
       "            },\n",
       "            \"size\": 8\n",
       "        },\n",
       "        \"zmax\": 3.0,\n",
       "        \"y\": [\n",
       "            1.8\n",
       "        ],\n",
       "        \"type\": \"scatter\"\n",
       "    },\n",
       "    {\n",
       "        \"xaxis\": \"x\",\n",
       "        \"colorbar\": {\n",
       "            \"title\": \"\"\n",
       "        },\n",
       "        \"yaxis\": \"y\",\n",
       "        \"x\": [\n",
       "            6.7\n",
       "        ],\n",
       "        \"showlegend\": false,\n",
       "        \"mode\": \"markers\",\n",
       "        \"name\": \"y1\",\n",
       "        \"zmin\": 1.0,\n",
       "        \"legendgroup\": \"y1\",\n",
       "        \"marker\": {\n",
       "            \"symbol\": \"circle\",\n",
       "            \"color\": \"rgba(76, 204, 76, 1.000)\",\n",
       "            \"line\": {\n",
       "                \"color\": \"rgba(0, 0, 0, 1.000)\",\n",
       "                \"width\": 1\n",
       "            },\n",
       "            \"size\": 8\n",
       "        },\n",
       "        \"zmax\": 3.0,\n",
       "        \"y\": [\n",
       "            2.2\n",
       "        ],\n",
       "        \"type\": \"scatter\"\n",
       "    },\n",
       "    {\n",
       "        \"xaxis\": \"x\",\n",
       "        \"colorbar\": {\n",
       "            \"title\": \"\"\n",
       "        },\n",
       "        \"yaxis\": \"y\",\n",
       "        \"x\": [\n",
       "            6.9\n",
       "        ],\n",
       "        \"showlegend\": false,\n",
       "        \"mode\": \"markers\",\n",
       "        \"name\": \"y1\",\n",
       "        \"zmin\": 1.0,\n",
       "        \"legendgroup\": \"y1\",\n",
       "        \"marker\": {\n",
       "            \"symbol\": \"circle\",\n",
       "            \"color\": \"rgba(76, 204, 76, 1.000)\",\n",
       "            \"line\": {\n",
       "                \"color\": \"rgba(0, 0, 0, 1.000)\",\n",
       "                \"width\": 1\n",
       "            },\n",
       "            \"size\": 8\n",
       "        },\n",
       "        \"zmax\": 3.0,\n",
       "        \"y\": [\n",
       "            2.3\n",
       "        ],\n",
       "        \"type\": \"scatter\"\n",
       "    },\n",
       "    {\n",
       "        \"xaxis\": \"x\",\n",
       "        \"colorbar\": {\n",
       "            \"title\": \"\"\n",
       "        },\n",
       "        \"yaxis\": \"y\",\n",
       "        \"x\": [\n",
       "            5.0\n",
       "        ],\n",
       "        \"showlegend\": false,\n",
       "        \"mode\": \"markers\",\n",
       "        \"name\": \"y1\",\n",
       "        \"zmin\": 1.0,\n",
       "        \"legendgroup\": \"y1\",\n",
       "        \"marker\": {\n",
       "            \"symbol\": \"circle\",\n",
       "            \"color\": \"rgba(255, 76, 76, 1.000)\",\n",
       "            \"line\": {\n",
       "                \"color\": \"rgba(0, 0, 0, 1.000)\",\n",
       "                \"width\": 1\n",
       "            },\n",
       "            \"size\": 8\n",
       "        },\n",
       "        \"zmax\": 3.0,\n",
       "        \"y\": [\n",
       "            1.5\n",
       "        ],\n",
       "        \"type\": \"scatter\"\n",
       "    },\n",
       "    {\n",
       "        \"xaxis\": \"x\",\n",
       "        \"colorbar\": {\n",
       "            \"title\": \"\"\n",
       "        },\n",
       "        \"yaxis\": \"y\",\n",
       "        \"x\": [\n",
       "            5.7\n",
       "        ],\n",
       "        \"showlegend\": false,\n",
       "        \"mode\": \"markers\",\n",
       "        \"name\": \"y1\",\n",
       "        \"zmin\": 1.0,\n",
       "        \"legendgroup\": \"y1\",\n",
       "        \"marker\": {\n",
       "            \"symbol\": \"circle\",\n",
       "            \"color\": \"rgba(76, 204, 76, 1.000)\",\n",
       "            \"line\": {\n",
       "                \"color\": \"rgba(0, 0, 0, 1.000)\",\n",
       "                \"width\": 1\n",
       "            },\n",
       "            \"size\": 8\n",
       "        },\n",
       "        \"zmax\": 3.0,\n",
       "        \"y\": [\n",
       "            2.3\n",
       "        ],\n",
       "        \"type\": \"scatter\"\n",
       "    },\n",
       "    {\n",
       "        \"xaxis\": \"x\",\n",
       "        \"colorbar\": {\n",
       "            \"title\": \"\"\n",
       "        },\n",
       "        \"yaxis\": \"y\",\n",
       "        \"x\": [\n",
       "            4.9\n",
       "        ],\n",
       "        \"showlegend\": false,\n",
       "        \"mode\": \"markers\",\n",
       "        \"name\": \"y1\",\n",
       "        \"zmin\": 1.0,\n",
       "        \"legendgroup\": \"y1\",\n",
       "        \"marker\": {\n",
       "            \"symbol\": \"circle\",\n",
       "            \"color\": \"rgba(255, 76, 76, 1.000)\",\n",
       "            \"line\": {\n",
       "                \"color\": \"rgba(0, 0, 0, 1.000)\",\n",
       "                \"width\": 1\n",
       "            },\n",
       "            \"size\": 8\n",
       "        },\n",
       "        \"zmax\": 3.0,\n",
       "        \"y\": [\n",
       "            2.0\n",
       "        ],\n",
       "        \"type\": \"scatter\"\n",
       "    },\n",
       "    {\n",
       "        \"xaxis\": \"x\",\n",
       "        \"colorbar\": {\n",
       "            \"title\": \"\"\n",
       "        },\n",
       "        \"yaxis\": \"y\",\n",
       "        \"x\": [\n",
       "            6.7\n",
       "        ],\n",
       "        \"showlegend\": false,\n",
       "        \"mode\": \"markers\",\n",
       "        \"name\": \"y1\",\n",
       "        \"zmin\": 1.0,\n",
       "        \"legendgroup\": \"y1\",\n",
       "        \"marker\": {\n",
       "            \"symbol\": \"circle\",\n",
       "            \"color\": \"rgba(76, 204, 76, 1.000)\",\n",
       "            \"line\": {\n",
       "                \"color\": \"rgba(0, 0, 0, 1.000)\",\n",
       "                \"width\": 1\n",
       "            },\n",
       "            \"size\": 8\n",
       "        },\n",
       "        \"zmax\": 3.0,\n",
       "        \"y\": [\n",
       "            2.0\n",
       "        ],\n",
       "        \"type\": \"scatter\"\n",
       "    },\n",
       "    {\n",
       "        \"xaxis\": \"x\",\n",
       "        \"colorbar\": {\n",
       "            \"title\": \"\"\n",
       "        },\n",
       "        \"yaxis\": \"y\",\n",
       "        \"x\": [\n",
       "            4.9\n",
       "        ],\n",
       "        \"showlegend\": false,\n",
       "        \"mode\": \"markers\",\n",
       "        \"name\": \"y1\",\n",
       "        \"zmin\": 1.0,\n",
       "        \"legendgroup\": \"y1\",\n",
       "        \"marker\": {\n",
       "            \"symbol\": \"circle\",\n",
       "            \"color\": \"rgba(255, 76, 76, 1.000)\",\n",
       "            \"line\": {\n",
       "                \"color\": \"rgba(0, 0, 0, 1.000)\",\n",
       "                \"width\": 1\n",
       "            },\n",
       "            \"size\": 8\n",
       "        },\n",
       "        \"zmax\": 3.0,\n",
       "        \"y\": [\n",
       "            1.8\n",
       "        ],\n",
       "        \"type\": \"scatter\"\n",
       "    },\n",
       "    {\n",
       "        \"xaxis\": \"x\",\n",
       "        \"colorbar\": {\n",
       "            \"title\": \"\"\n",
       "        },\n",
       "        \"yaxis\": \"y\",\n",
       "        \"x\": [\n",
       "            5.7\n",
       "        ],\n",
       "        \"showlegend\": false,\n",
       "        \"mode\": \"markers\",\n",
       "        \"name\": \"y1\",\n",
       "        \"zmin\": 1.0,\n",
       "        \"legendgroup\": \"y1\",\n",
       "        \"marker\": {\n",
       "            \"symbol\": \"circle\",\n",
       "            \"color\": \"rgba(76, 204, 76, 1.000)\",\n",
       "            \"line\": {\n",
       "                \"color\": \"rgba(0, 0, 0, 1.000)\",\n",
       "                \"width\": 1\n",
       "            },\n",
       "            \"size\": 8\n",
       "        },\n",
       "        \"zmax\": 3.0,\n",
       "        \"y\": [\n",
       "            2.1\n",
       "        ],\n",
       "        \"type\": \"scatter\"\n",
       "    },\n",
       "    {\n",
       "        \"xaxis\": \"x\",\n",
       "        \"colorbar\": {\n",
       "            \"title\": \"\"\n",
       "        },\n",
       "        \"yaxis\": \"y\",\n",
       "        \"x\": [\n",
       "            6.0\n",
       "        ],\n",
       "        \"showlegend\": false,\n",
       "        \"mode\": \"markers\",\n",
       "        \"name\": \"y1\",\n",
       "        \"zmin\": 1.0,\n",
       "        \"legendgroup\": \"y1\",\n",
       "        \"marker\": {\n",
       "            \"symbol\": \"circle\",\n",
       "            \"color\": \"rgba(76, 204, 76, 1.000)\",\n",
       "            \"line\": {\n",
       "                \"color\": \"rgba(0, 0, 0, 1.000)\",\n",
       "                \"width\": 1\n",
       "            },\n",
       "            \"size\": 8\n",
       "        },\n",
       "        \"zmax\": 3.0,\n",
       "        \"y\": [\n",
       "            1.8\n",
       "        ],\n",
       "        \"type\": \"scatter\"\n",
       "    },\n",
       "    {\n",
       "        \"xaxis\": \"x\",\n",
       "        \"colorbar\": {\n",
       "            \"title\": \"\"\n",
       "        },\n",
       "        \"yaxis\": \"y\",\n",
       "        \"x\": [\n",
       "            4.8\n",
       "        ],\n",
       "        \"showlegend\": false,\n",
       "        \"mode\": \"markers\",\n",
       "        \"name\": \"y1\",\n",
       "        \"zmin\": 1.0,\n",
       "        \"legendgroup\": \"y1\",\n",
       "        \"marker\": {\n",
       "            \"symbol\": \"circle\",\n",
       "            \"color\": \"rgba(255, 76, 76, 1.000)\",\n",
       "            \"line\": {\n",
       "                \"color\": \"rgba(0, 0, 0, 1.000)\",\n",
       "                \"width\": 1\n",
       "            },\n",
       "            \"size\": 8\n",
       "        },\n",
       "        \"zmax\": 3.0,\n",
       "        \"y\": [\n",
       "            1.8\n",
       "        ],\n",
       "        \"type\": \"scatter\"\n",
       "    },\n",
       "    {\n",
       "        \"xaxis\": \"x\",\n",
       "        \"colorbar\": {\n",
       "            \"title\": \"\"\n",
       "        },\n",
       "        \"yaxis\": \"y\",\n",
       "        \"x\": [\n",
       "            4.9\n",
       "        ],\n",
       "        \"showlegend\": false,\n",
       "        \"mode\": \"markers\",\n",
       "        \"name\": \"y1\",\n",
       "        \"zmin\": 1.0,\n",
       "        \"legendgroup\": \"y1\",\n",
       "        \"marker\": {\n",
       "            \"symbol\": \"circle\",\n",
       "            \"color\": \"rgba(255, 76, 76, 1.000)\",\n",
       "            \"line\": {\n",
       "                \"color\": \"rgba(0, 0, 0, 1.000)\",\n",
       "                \"width\": 1\n",
       "            },\n",
       "            \"size\": 8\n",
       "        },\n",
       "        \"zmax\": 3.0,\n",
       "        \"y\": [\n",
       "            1.8\n",
       "        ],\n",
       "        \"type\": \"scatter\"\n",
       "    },\n",
       "    {\n",
       "        \"xaxis\": \"x\",\n",
       "        \"colorbar\": {\n",
       "            \"title\": \"\"\n",
       "        },\n",
       "        \"yaxis\": \"y\",\n",
       "        \"x\": [\n",
       "            5.6\n",
       "        ],\n",
       "        \"showlegend\": false,\n",
       "        \"mode\": \"markers\",\n",
       "        \"name\": \"y1\",\n",
       "        \"zmin\": 1.0,\n",
       "        \"legendgroup\": \"y1\",\n",
       "        \"marker\": {\n",
       "            \"symbol\": \"circle\",\n",
       "            \"color\": \"rgba(76, 204, 76, 1.000)\",\n",
       "            \"line\": {\n",
       "                \"color\": \"rgba(0, 0, 0, 1.000)\",\n",
       "                \"width\": 1\n",
       "            },\n",
       "            \"size\": 8\n",
       "        },\n",
       "        \"zmax\": 3.0,\n",
       "        \"y\": [\n",
       "            2.1\n",
       "        ],\n",
       "        \"type\": \"scatter\"\n",
       "    },\n",
       "    {\n",
       "        \"xaxis\": \"x\",\n",
       "        \"colorbar\": {\n",
       "            \"title\": \"\"\n",
       "        },\n",
       "        \"yaxis\": \"y\",\n",
       "        \"x\": [\n",
       "            5.8\n",
       "        ],\n",
       "        \"showlegend\": false,\n",
       "        \"mode\": \"markers\",\n",
       "        \"name\": \"y1\",\n",
       "        \"zmin\": 1.0,\n",
       "        \"legendgroup\": \"y1\",\n",
       "        \"marker\": {\n",
       "            \"symbol\": \"circle\",\n",
       "            \"color\": \"rgba(76, 204, 76, 1.000)\",\n",
       "            \"line\": {\n",
       "                \"color\": \"rgba(0, 0, 0, 1.000)\",\n",
       "                \"width\": 1\n",
       "            },\n",
       "            \"size\": 8\n",
       "        },\n",
       "        \"zmax\": 3.0,\n",
       "        \"y\": [\n",
       "            1.6\n",
       "        ],\n",
       "        \"type\": \"scatter\"\n",
       "    },\n",
       "    {\n",
       "        \"xaxis\": \"x\",\n",
       "        \"colorbar\": {\n",
       "            \"title\": \"\"\n",
       "        },\n",
       "        \"yaxis\": \"y\",\n",
       "        \"x\": [\n",
       "            6.1\n",
       "        ],\n",
       "        \"showlegend\": false,\n",
       "        \"mode\": \"markers\",\n",
       "        \"name\": \"y1\",\n",
       "        \"zmin\": 1.0,\n",
       "        \"legendgroup\": \"y1\",\n",
       "        \"marker\": {\n",
       "            \"symbol\": \"circle\",\n",
       "            \"color\": \"rgba(76, 204, 76, 1.000)\",\n",
       "            \"line\": {\n",
       "                \"color\": \"rgba(0, 0, 0, 1.000)\",\n",
       "                \"width\": 1\n",
       "            },\n",
       "            \"size\": 8\n",
       "        },\n",
       "        \"zmax\": 3.0,\n",
       "        \"y\": [\n",
       "            1.9\n",
       "        ],\n",
       "        \"type\": \"scatter\"\n",
       "    },\n",
       "    {\n",
       "        \"xaxis\": \"x\",\n",
       "        \"colorbar\": {\n",
       "            \"title\": \"\"\n",
       "        },\n",
       "        \"yaxis\": \"y\",\n",
       "        \"x\": [\n",
       "            6.4\n",
       "        ],\n",
       "        \"showlegend\": false,\n",
       "        \"mode\": \"markers\",\n",
       "        \"name\": \"y1\",\n",
       "        \"zmin\": 1.0,\n",
       "        \"legendgroup\": \"y1\",\n",
       "        \"marker\": {\n",
       "            \"symbol\": \"circle\",\n",
       "            \"color\": \"rgba(76, 204, 76, 1.000)\",\n",
       "            \"line\": {\n",
       "                \"color\": \"rgba(0, 0, 0, 1.000)\",\n",
       "                \"width\": 1\n",
       "            },\n",
       "            \"size\": 8\n",
       "        },\n",
       "        \"zmax\": 3.0,\n",
       "        \"y\": [\n",
       "            2.0\n",
       "        ],\n",
       "        \"type\": \"scatter\"\n",
       "    },\n",
       "    {\n",
       "        \"xaxis\": \"x\",\n",
       "        \"colorbar\": {\n",
       "            \"title\": \"\"\n",
       "        },\n",
       "        \"yaxis\": \"y\",\n",
       "        \"x\": [\n",
       "            5.6\n",
       "        ],\n",
       "        \"showlegend\": false,\n",
       "        \"mode\": \"markers\",\n",
       "        \"name\": \"y1\",\n",
       "        \"zmin\": 1.0,\n",
       "        \"legendgroup\": \"y1\",\n",
       "        \"marker\": {\n",
       "            \"symbol\": \"circle\",\n",
       "            \"color\": \"rgba(76, 204, 76, 1.000)\",\n",
       "            \"line\": {\n",
       "                \"color\": \"rgba(0, 0, 0, 1.000)\",\n",
       "                \"width\": 1\n",
       "            },\n",
       "            \"size\": 8\n",
       "        },\n",
       "        \"zmax\": 3.0,\n",
       "        \"y\": [\n",
       "            2.2\n",
       "        ],\n",
       "        \"type\": \"scatter\"\n",
       "    },\n",
       "    {\n",
       "        \"xaxis\": \"x\",\n",
       "        \"colorbar\": {\n",
       "            \"title\": \"\"\n",
       "        },\n",
       "        \"yaxis\": \"y\",\n",
       "        \"x\": [\n",
       "            5.1\n",
       "        ],\n",
       "        \"showlegend\": false,\n",
       "        \"mode\": \"markers\",\n",
       "        \"name\": \"y1\",\n",
       "        \"zmin\": 1.0,\n",
       "        \"legendgroup\": \"y1\",\n",
       "        \"marker\": {\n",
       "            \"symbol\": \"circle\",\n",
       "            \"color\": \"rgba(255, 76, 76, 1.000)\",\n",
       "            \"line\": {\n",
       "                \"color\": \"rgba(0, 0, 0, 1.000)\",\n",
       "                \"width\": 1\n",
       "            },\n",
       "            \"size\": 8\n",
       "        },\n",
       "        \"zmax\": 3.0,\n",
       "        \"y\": [\n",
       "            1.5\n",
       "        ],\n",
       "        \"type\": \"scatter\"\n",
       "    },\n",
       "    {\n",
       "        \"xaxis\": \"x\",\n",
       "        \"colorbar\": {\n",
       "            \"title\": \"\"\n",
       "        },\n",
       "        \"yaxis\": \"y\",\n",
       "        \"x\": [\n",
       "            5.6\n",
       "        ],\n",
       "        \"showlegend\": false,\n",
       "        \"mode\": \"markers\",\n",
       "        \"name\": \"y1\",\n",
       "        \"zmin\": 1.0,\n",
       "        \"legendgroup\": \"y1\",\n",
       "        \"marker\": {\n",
       "            \"symbol\": \"circle\",\n",
       "            \"color\": \"rgba(76, 204, 76, 1.000)\",\n",
       "            \"line\": {\n",
       "                \"color\": \"rgba(0, 0, 0, 1.000)\",\n",
       "                \"width\": 1\n",
       "            },\n",
       "            \"size\": 8\n",
       "        },\n",
       "        \"zmax\": 3.0,\n",
       "        \"y\": [\n",
       "            1.4\n",
       "        ],\n",
       "        \"type\": \"scatter\"\n",
       "    },\n",
       "    {\n",
       "        \"xaxis\": \"x\",\n",
       "        \"colorbar\": {\n",
       "            \"title\": \"\"\n",
       "        },\n",
       "        \"yaxis\": \"y\",\n",
       "        \"x\": [\n",
       "            6.1\n",
       "        ],\n",
       "        \"showlegend\": false,\n",
       "        \"mode\": \"markers\",\n",
       "        \"name\": \"y1\",\n",
       "        \"zmin\": 1.0,\n",
       "        \"legendgroup\": \"y1\",\n",
       "        \"marker\": {\n",
       "            \"symbol\": \"circle\",\n",
       "            \"color\": \"rgba(76, 204, 76, 1.000)\",\n",
       "            \"line\": {\n",
       "                \"color\": \"rgba(0, 0, 0, 1.000)\",\n",
       "                \"width\": 1\n",
       "            },\n",
       "            \"size\": 8\n",
       "        },\n",
       "        \"zmax\": 3.0,\n",
       "        \"y\": [\n",
       "            2.3\n",
       "        ],\n",
       "        \"type\": \"scatter\"\n",
       "    },\n",
       "    {\n",
       "        \"xaxis\": \"x\",\n",
       "        \"colorbar\": {\n",
       "            \"title\": \"\"\n",
       "        },\n",
       "        \"yaxis\": \"y\",\n",
       "        \"x\": [\n",
       "            5.6\n",
       "        ],\n",
       "        \"showlegend\": false,\n",
       "        \"mode\": \"markers\",\n",
       "        \"name\": \"y1\",\n",
       "        \"zmin\": 1.0,\n",
       "        \"legendgroup\": \"y1\",\n",
       "        \"marker\": {\n",
       "            \"symbol\": \"circle\",\n",
       "            \"color\": \"rgba(76, 204, 76, 1.000)\",\n",
       "            \"line\": {\n",
       "                \"color\": \"rgba(0, 0, 0, 1.000)\",\n",
       "                \"width\": 1\n",
       "            },\n",
       "            \"size\": 8\n",
       "        },\n",
       "        \"zmax\": 3.0,\n",
       "        \"y\": [\n",
       "            2.4\n",
       "        ],\n",
       "        \"type\": \"scatter\"\n",
       "    },\n",
       "    {\n",
       "        \"xaxis\": \"x\",\n",
       "        \"colorbar\": {\n",
       "            \"title\": \"\"\n",
       "        },\n",
       "        \"yaxis\": \"y\",\n",
       "        \"x\": [\n",
       "            5.5\n",
       "        ],\n",
       "        \"showlegend\": false,\n",
       "        \"mode\": \"markers\",\n",
       "        \"name\": \"y1\",\n",
       "        \"zmin\": 1.0,\n",
       "        \"legendgroup\": \"y1\",\n",
       "        \"marker\": {\n",
       "            \"symbol\": \"circle\",\n",
       "            \"color\": \"rgba(76, 204, 76, 1.000)\",\n",
       "            \"line\": {\n",
       "                \"color\": \"rgba(0, 0, 0, 1.000)\",\n",
       "                \"width\": 1\n",
       "            },\n",
       "            \"size\": 8\n",
       "        },\n",
       "        \"zmax\": 3.0,\n",
       "        \"y\": [\n",
       "            1.8\n",
       "        ],\n",
       "        \"type\": \"scatter\"\n",
       "    },\n",
       "    {\n",
       "        \"xaxis\": \"x\",\n",
       "        \"colorbar\": {\n",
       "            \"title\": \"\"\n",
       "        },\n",
       "        \"yaxis\": \"y\",\n",
       "        \"x\": [\n",
       "            4.8\n",
       "        ],\n",
       "        \"showlegend\": false,\n",
       "        \"mode\": \"markers\",\n",
       "        \"name\": \"y1\",\n",
       "        \"zmin\": 1.0,\n",
       "        \"legendgroup\": \"y1\",\n",
       "        \"marker\": {\n",
       "            \"symbol\": \"circle\",\n",
       "            \"color\": \"rgba(255, 76, 76, 1.000)\",\n",
       "            \"line\": {\n",
       "                \"color\": \"rgba(0, 0, 0, 1.000)\",\n",
       "                \"width\": 1\n",
       "            },\n",
       "            \"size\": 8\n",
       "        },\n",
       "        \"zmax\": 3.0,\n",
       "        \"y\": [\n",
       "            1.8\n",
       "        ],\n",
       "        \"type\": \"scatter\"\n",
       "    },\n",
       "    {\n",
       "        \"xaxis\": \"x\",\n",
       "        \"colorbar\": {\n",
       "            \"title\": \"\"\n",
       "        },\n",
       "        \"yaxis\": \"y\",\n",
       "        \"x\": [\n",
       "            5.4\n",
       "        ],\n",
       "        \"showlegend\": false,\n",
       "        \"mode\": \"markers\",\n",
       "        \"name\": \"y1\",\n",
       "        \"zmin\": 1.0,\n",
       "        \"legendgroup\": \"y1\",\n",
       "        \"marker\": {\n",
       "            \"symbol\": \"circle\",\n",
       "            \"color\": \"rgba(76, 204, 76, 1.000)\",\n",
       "            \"line\": {\n",
       "                \"color\": \"rgba(0, 0, 0, 1.000)\",\n",
       "                \"width\": 1\n",
       "            },\n",
       "            \"size\": 8\n",
       "        },\n",
       "        \"zmax\": 3.0,\n",
       "        \"y\": [\n",
       "            2.1\n",
       "        ],\n",
       "        \"type\": \"scatter\"\n",
       "    },\n",
       "    {\n",
       "        \"xaxis\": \"x\",\n",
       "        \"colorbar\": {\n",
       "            \"title\": \"\"\n",
       "        },\n",
       "        \"yaxis\": \"y\",\n",
       "        \"x\": [\n",
       "            5.6\n",
       "        ],\n",
       "        \"showlegend\": false,\n",
       "        \"mode\": \"markers\",\n",
       "        \"name\": \"y1\",\n",
       "        \"zmin\": 1.0,\n",
       "        \"legendgroup\": \"y1\",\n",
       "        \"marker\": {\n",
       "            \"symbol\": \"circle\",\n",
       "            \"color\": \"rgba(76, 204, 76, 1.000)\",\n",
       "            \"line\": {\n",
       "                \"color\": \"rgba(0, 0, 0, 1.000)\",\n",
       "                \"width\": 1\n",
       "            },\n",
       "            \"size\": 8\n",
       "        },\n",
       "        \"zmax\": 3.0,\n",
       "        \"y\": [\n",
       "            2.4\n",
       "        ],\n",
       "        \"type\": \"scatter\"\n",
       "    },\n",
       "    {\n",
       "        \"xaxis\": \"x\",\n",
       "        \"colorbar\": {\n",
       "            \"title\": \"\"\n",
       "        },\n",
       "        \"yaxis\": \"y\",\n",
       "        \"x\": [\n",
       "            5.1\n",
       "        ],\n",
       "        \"showlegend\": false,\n",
       "        \"mode\": \"markers\",\n",
       "        \"name\": \"y1\",\n",
       "        \"zmin\": 1.0,\n",
       "        \"legendgroup\": \"y1\",\n",
       "        \"marker\": {\n",
       "            \"symbol\": \"circle\",\n",
       "            \"color\": \"rgba(76, 204, 76, 1.000)\",\n",
       "            \"line\": {\n",
       "                \"color\": \"rgba(0, 0, 0, 1.000)\",\n",
       "                \"width\": 1\n",
       "            },\n",
       "            \"size\": 8\n",
       "        },\n",
       "        \"zmax\": 3.0,\n",
       "        \"y\": [\n",
       "            2.3\n",
       "        ],\n",
       "        \"type\": \"scatter\"\n",
       "    },\n",
       "    {\n",
       "        \"xaxis\": \"x\",\n",
       "        \"colorbar\": {\n",
       "            \"title\": \"\"\n",
       "        },\n",
       "        \"yaxis\": \"y\",\n",
       "        \"x\": [\n",
       "            5.1\n",
       "        ],\n",
       "        \"showlegend\": false,\n",
       "        \"mode\": \"markers\",\n",
       "        \"name\": \"y1\",\n",
       "        \"zmin\": 1.0,\n",
       "        \"legendgroup\": \"y1\",\n",
       "        \"marker\": {\n",
       "            \"symbol\": \"circle\",\n",
       "            \"color\": \"rgba(255, 76, 76, 1.000)\",\n",
       "            \"line\": {\n",
       "                \"color\": \"rgba(0, 0, 0, 1.000)\",\n",
       "                \"width\": 1\n",
       "            },\n",
       "            \"size\": 8\n",
       "        },\n",
       "        \"zmax\": 3.0,\n",
       "        \"y\": [\n",
       "            1.9\n",
       "        ],\n",
       "        \"type\": \"scatter\"\n",
       "    },\n",
       "    {\n",
       "        \"xaxis\": \"x\",\n",
       "        \"colorbar\": {\n",
       "            \"title\": \"\"\n",
       "        },\n",
       "        \"yaxis\": \"y\",\n",
       "        \"x\": [\n",
       "            5.9\n",
       "        ],\n",
       "        \"showlegend\": false,\n",
       "        \"mode\": \"markers\",\n",
       "        \"name\": \"y1\",\n",
       "        \"zmin\": 1.0,\n",
       "        \"legendgroup\": \"y1\",\n",
       "        \"marker\": {\n",
       "            \"symbol\": \"circle\",\n",
       "            \"color\": \"rgba(76, 204, 76, 1.000)\",\n",
       "            \"line\": {\n",
       "                \"color\": \"rgba(0, 0, 0, 1.000)\",\n",
       "                \"width\": 1\n",
       "            },\n",
       "            \"size\": 8\n",
       "        },\n",
       "        \"zmax\": 3.0,\n",
       "        \"y\": [\n",
       "            2.3\n",
       "        ],\n",
       "        \"type\": \"scatter\"\n",
       "    },\n",
       "    {\n",
       "        \"xaxis\": \"x\",\n",
       "        \"colorbar\": {\n",
       "            \"title\": \"\"\n",
       "        },\n",
       "        \"yaxis\": \"y\",\n",
       "        \"x\": [\n",
       "            5.7\n",
       "        ],\n",
       "        \"showlegend\": false,\n",
       "        \"mode\": \"markers\",\n",
       "        \"name\": \"y1\",\n",
       "        \"zmin\": 1.0,\n",
       "        \"legendgroup\": \"y1\",\n",
       "        \"marker\": {\n",
       "            \"symbol\": \"circle\",\n",
       "            \"color\": \"rgba(76, 204, 76, 1.000)\",\n",
       "            \"line\": {\n",
       "                \"color\": \"rgba(0, 0, 0, 1.000)\",\n",
       "                \"width\": 1\n",
       "            },\n",
       "            \"size\": 8\n",
       "        },\n",
       "        \"zmax\": 3.0,\n",
       "        \"y\": [\n",
       "            2.5\n",
       "        ],\n",
       "        \"type\": \"scatter\"\n",
       "    },\n",
       "    {\n",
       "        \"xaxis\": \"x\",\n",
       "        \"colorbar\": {\n",
       "            \"title\": \"\"\n",
       "        },\n",
       "        \"yaxis\": \"y\",\n",
       "        \"x\": [\n",
       "            5.2\n",
       "        ],\n",
       "        \"showlegend\": false,\n",
       "        \"mode\": \"markers\",\n",
       "        \"name\": \"y1\",\n",
       "        \"zmin\": 1.0,\n",
       "        \"legendgroup\": \"y1\",\n",
       "        \"marker\": {\n",
       "            \"symbol\": \"circle\",\n",
       "            \"color\": \"rgba(76, 204, 76, 1.000)\",\n",
       "            \"line\": {\n",
       "                \"color\": \"rgba(0, 0, 0, 1.000)\",\n",
       "                \"width\": 1\n",
       "            },\n",
       "            \"size\": 8\n",
       "        },\n",
       "        \"zmax\": 3.0,\n",
       "        \"y\": [\n",
       "            2.3\n",
       "        ],\n",
       "        \"type\": \"scatter\"\n",
       "    },\n",
       "    {\n",
       "        \"xaxis\": \"x\",\n",
       "        \"colorbar\": {\n",
       "            \"title\": \"\"\n",
       "        },\n",
       "        \"yaxis\": \"y\",\n",
       "        \"x\": [\n",
       "            5.0\n",
       "        ],\n",
       "        \"showlegend\": false,\n",
       "        \"mode\": \"markers\",\n",
       "        \"name\": \"y1\",\n",
       "        \"zmin\": 1.0,\n",
       "        \"legendgroup\": \"y1\",\n",
       "        \"marker\": {\n",
       "            \"symbol\": \"circle\",\n",
       "            \"color\": \"rgba(255, 76, 76, 1.000)\",\n",
       "            \"line\": {\n",
       "                \"color\": \"rgba(0, 0, 0, 1.000)\",\n",
       "                \"width\": 1\n",
       "            },\n",
       "            \"size\": 8\n",
       "        },\n",
       "        \"zmax\": 3.0,\n",
       "        \"y\": [\n",
       "            1.9\n",
       "        ],\n",
       "        \"type\": \"scatter\"\n",
       "    },\n",
       "    {\n",
       "        \"xaxis\": \"x\",\n",
       "        \"colorbar\": {\n",
       "            \"title\": \"\"\n",
       "        },\n",
       "        \"yaxis\": \"y\",\n",
       "        \"x\": [\n",
       "            5.2\n",
       "        ],\n",
       "        \"showlegend\": false,\n",
       "        \"mode\": \"markers\",\n",
       "        \"name\": \"y1\",\n",
       "        \"zmin\": 1.0,\n",
       "        \"legendgroup\": \"y1\",\n",
       "        \"marker\": {\n",
       "            \"symbol\": \"circle\",\n",
       "            \"color\": \"rgba(76, 204, 76, 1.000)\",\n",
       "            \"line\": {\n",
       "                \"color\": \"rgba(0, 0, 0, 1.000)\",\n",
       "                \"width\": 1\n",
       "            },\n",
       "            \"size\": 8\n",
       "        },\n",
       "        \"zmax\": 3.0,\n",
       "        \"y\": [\n",
       "            2.0\n",
       "        ],\n",
       "        \"type\": \"scatter\"\n",
       "    },\n",
       "    {\n",
       "        \"xaxis\": \"x\",\n",
       "        \"colorbar\": {\n",
       "            \"title\": \"\"\n",
       "        },\n",
       "        \"yaxis\": \"y\",\n",
       "        \"x\": [\n",
       "            5.4\n",
       "        ],\n",
       "        \"showlegend\": false,\n",
       "        \"mode\": \"markers\",\n",
       "        \"name\": \"y1\",\n",
       "        \"zmin\": 1.0,\n",
       "        \"legendgroup\": \"y1\",\n",
       "        \"marker\": {\n",
       "            \"symbol\": \"circle\",\n",
       "            \"color\": \"rgba(76, 204, 76, 1.000)\",\n",
       "            \"line\": {\n",
       "                \"color\": \"rgba(0, 0, 0, 1.000)\",\n",
       "                \"width\": 1\n",
       "            },\n",
       "            \"size\": 8\n",
       "        },\n",
       "        \"zmax\": 3.0,\n",
       "        \"y\": [\n",
       "            2.3\n",
       "        ],\n",
       "        \"type\": \"scatter\"\n",
       "    },\n",
       "    {\n",
       "        \"xaxis\": \"x\",\n",
       "        \"colorbar\": {\n",
       "            \"title\": \"\"\n",
       "        },\n",
       "        \"yaxis\": \"y\",\n",
       "        \"x\": [\n",
       "            5.1\n",
       "        ],\n",
       "        \"showlegend\": false,\n",
       "        \"mode\": \"markers\",\n",
       "        \"name\": \"y1\",\n",
       "        \"zmin\": 1.0,\n",
       "        \"legendgroup\": \"y1\",\n",
       "        \"marker\": {\n",
       "            \"symbol\": \"circle\",\n",
       "            \"color\": \"rgba(255, 76, 76, 1.000)\",\n",
       "            \"line\": {\n",
       "                \"color\": \"rgba(0, 0, 0, 1.000)\",\n",
       "                \"width\": 1\n",
       "            },\n",
       "            \"size\": 8\n",
       "        },\n",
       "        \"zmax\": 3.0,\n",
       "        \"y\": [\n",
       "            1.8\n",
       "        ],\n",
       "        \"type\": \"scatter\"\n",
       "    },\n",
       "    {\n",
       "        \"xaxis\": \"x\",\n",
       "        \"colorbar\": {\n",
       "            \"title\": \"\"\n",
       "        },\n",
       "        \"yaxis\": \"y\",\n",
       "        \"x\": [\n",
       "            1.4\n",
       "        ],\n",
       "        \"showlegend\": false,\n",
       "        \"mode\": \"markers\",\n",
       "        \"name\": \"y1\",\n",
       "        \"zmin\": 1.0,\n",
       "        \"marker\": {\n",
       "            \"color\": [\n",
       "                0.5\n",
       "            ],\n",
       "            \"cmin\": 1.0,\n",
       "            \"opacity\": 1.0e-10,\n",
       "            \"size\": 1.0e-10,\n",
       "            \"colorscale\": [\n",
       "                [\n",
       "                    0.0,\n",
       "                    \"rgba(204, 76, 204, 1.000)\"\n",
       "                ],\n",
       "                [\n",
       "                    0.25,\n",
       "                    \"rgba(76, 76, 255, 1.000)\"\n",
       "                ],\n",
       "                [\n",
       "                    0.5,\n",
       "                    \"rgba(76, 204, 76, 1.000)\"\n",
       "                ],\n",
       "                [\n",
       "                    0.75,\n",
       "                    \"rgba(255, 242, 76, 1.000)\"\n",
       "                ],\n",
       "                [\n",
       "                    1.0,\n",
       "                    \"rgba(255, 76, 76, 1.000)\"\n",
       "                ]\n",
       "            ],\n",
       "            \"cmax\": 3.0,\n",
       "            \"showscale\": false\n",
       "        },\n",
       "        \"zmax\": 3.0,\n",
       "        \"y\": [\n",
       "            0.2\n",
       "        ],\n",
       "        \"type\": \"scatter\",\n",
       "        \"hoverinfo\": \"none\"\n",
       "    }\n",
       "]\n",
       ", {\n",
       "    \"showlegend\": false,\n",
       "    \"xaxis\": {\n",
       "        \"showticklabels\": true,\n",
       "        \"gridwidth\": 0.5,\n",
       "        \"tickvals\": [\n",
       "            1.0,\n",
       "            2.0,\n",
       "            3.0,\n",
       "            4.0,\n",
       "            5.0,\n",
       "            6.0,\n",
       "            7.0\n",
       "        ],\n",
       "        \"range\": [\n",
       "            0.823,\n",
       "            7.077\n",
       "        ],\n",
       "        \"domain\": [\n",
       "            0.05100612423447069,\n",
       "            0.9934383202099737\n",
       "        ],\n",
       "        \"mirror\": false,\n",
       "        \"tickangle\": 0,\n",
       "        \"showline\": true,\n",
       "        \"ticktext\": [\n",
       "            \"1\",\n",
       "            \"2\",\n",
       "            \"3\",\n",
       "            \"4\",\n",
       "            \"5\",\n",
       "            \"6\",\n",
       "            \"7\"\n",
       "        ],\n",
       "        \"zeroline\": false,\n",
       "        \"tickfont\": {\n",
       "            \"color\": \"rgba(0, 0, 0, 1.000)\",\n",
       "            \"family\": \"sans-serif\",\n",
       "            \"size\": 11\n",
       "        },\n",
       "        \"zerolinecolor\": \"rgba(0, 0, 0, 1.000)\",\n",
       "        \"anchor\": \"y\",\n",
       "        \"visible\": true,\n",
       "        \"ticks\": \"inside\",\n",
       "        \"tickmode\": \"array\",\n",
       "        \"linecolor\": \"rgba(0, 0, 0, 1.000)\",\n",
       "        \"showgrid\": true,\n",
       "        \"title\": \"\",\n",
       "        \"gridcolor\": \"rgba(0, 0, 0, 0.100)\",\n",
       "        \"titlefont\": {\n",
       "            \"color\": \"rgba(0, 0, 0, 1.000)\",\n",
       "            \"family\": \"sans-serif\",\n",
       "            \"size\": 15\n",
       "        },\n",
       "        \"tickcolor\": \"rgb(0, 0, 0)\",\n",
       "        \"type\": \"-\"\n",
       "    },\n",
       "    \"paper_bgcolor\": \"rgba(255, 255, 255, 1.000)\",\n",
       "    \"annotations\": [],\n",
       "    \"height\": 400,\n",
       "    \"margin\": {\n",
       "        \"l\": 0,\n",
       "        \"b\": 20,\n",
       "        \"r\": 0,\n",
       "        \"t\": 20\n",
       "    },\n",
       "    \"plot_bgcolor\": \"rgba(255, 255, 255, 1.000)\",\n",
       "    \"yaxis\": {\n",
       "        \"showticklabels\": true,\n",
       "        \"gridwidth\": 0.5,\n",
       "        \"tickvals\": [\n",
       "            0.5,\n",
       "            1.0,\n",
       "            1.5,\n",
       "            2.0,\n",
       "            2.5\n",
       "        ],\n",
       "        \"range\": [\n",
       "            0.02800000000000001,\n",
       "            2.572\n",
       "        ],\n",
       "        \"domain\": [\n",
       "            0.03762029746281716,\n",
       "            0.9901574803149606\n",
       "        ],\n",
       "        \"mirror\": false,\n",
       "        \"tickangle\": 0,\n",
       "        \"showline\": true,\n",
       "        \"ticktext\": [\n",
       "            \"0.5\",\n",
       "            \"1.0\",\n",
       "            \"1.5\",\n",
       "            \"2.0\",\n",
       "            \"2.5\"\n",
       "        ],\n",
       "        \"zeroline\": false,\n",
       "        \"tickfont\": {\n",
       "            \"color\": \"rgba(0, 0, 0, 1.000)\",\n",
       "            \"family\": \"sans-serif\",\n",
       "            \"size\": 11\n",
       "        },\n",
       "        \"zerolinecolor\": \"rgba(0, 0, 0, 1.000)\",\n",
       "        \"anchor\": \"x\",\n",
       "        \"visible\": true,\n",
       "        \"ticks\": \"inside\",\n",
       "        \"tickmode\": \"array\",\n",
       "        \"linecolor\": \"rgba(0, 0, 0, 1.000)\",\n",
       "        \"showgrid\": true,\n",
       "        \"title\": \"\",\n",
       "        \"gridcolor\": \"rgba(0, 0, 0, 0.100)\",\n",
       "        \"titlefont\": {\n",
       "            \"color\": \"rgba(0, 0, 0, 1.000)\",\n",
       "            \"family\": \"sans-serif\",\n",
       "            \"size\": 15\n",
       "        },\n",
       "        \"tickcolor\": \"rgb(0, 0, 0)\",\n",
       "        \"type\": \"-\"\n",
       "    },\n",
       "    \"width\": 600\n",
       "}\n",
       ");\n",
       "\n",
       "    });\n",
       "    </script>\n"
      ]
     },
     "metadata": {},
     "execution_count": 24
    }
   ],
   "metadata": {}
  },
  {
   "cell_type": "markdown",
   "source": [
    "### We ran single $k$-means clustering but we don't know if 3 is the best cluster for this data\n",
    "- for validation of $k$-means clustering results there are several metrics\n",
    "- one of them is silhouette width\n",
    "- others are elbow, cross tabulation, rand index, variation of information, V-measure, mutual information\n",
    "- among them silhouette is the best metric; however, these metrics are dataset dependent\n",
    "### Silhouette width measures the quality of each clustering by quantifying distance of each cluster from its neighboring clusters\n",
    "- The Silhouette width for $i$ data point is a cosine norm:\n",
    "    $$\n",
    "    s_i = \\frac{b_i - a_i}{\\mathrm{max}\\left(a_i, b_i\\right)} \n",
    "    $$ \n",
    "where\n",
    "- $a_i$ is the average distance from $i$ to the other points in the same cluster $z_i$\n",
    "- $b_i$ is the average distance from the i to the points in the $k$-th cluster\n",
    "### to compute Silhouette width, we need distance matrix of features/data"
   ],
   "metadata": {}
  },
  {
   "cell_type": "code",
   "execution_count": 25,
   "source": [
    "#dist_function(x)  = Distances.pairwise(Distances.Euclidean(), x, dims = 2) # defines distance function\n",
    "#dist = dist_function(features)\n",
    "dists = Distances.pairwise(Distances.SqEuclidean(), features)"
   ],
   "outputs": [
    {
     "output_type": "execute_result",
     "data": {
      "text/plain": [
       "150×150 Matrix{Float64}:\n",
       "  0.0    0.29   0.26   0.42   0.02  …  21.66  18.29  19.89  21.63  17.14\n",
       "  0.29   0.0    0.09   0.11   0.37     22.09  18.06  20.24  22.26  17.25\n",
       "  0.26   0.09   0.0    0.06   0.26     23.66  19.63  21.73  23.51  18.48\n",
       "  0.42   0.11   0.06   0.0    0.42     22.52  18.39  20.55  22.27  17.22\n",
       "  0.02   0.37   0.26   0.42   0.0      22.1   18.75  20.29  21.89  17.42\n",
       "  0.38   1.19   1.18   1.36   0.38  …  18.36  15.91  16.83  18.19  14.58\n",
       "  0.27   0.26   0.07   0.11   0.21     23.01  19.22  21.1   22.56  17.79\n",
       "  0.03   0.18   0.17   0.25   0.05     21.15  17.64  19.34  21.06  16.49\n",
       "  0.85   0.26   0.19   0.09   0.85     24.15  19.62  22.1   23.9   18.51\n",
       "  0.22   0.03   0.1    0.1    0.28     21.78  17.81  19.87  21.83  16.86\n",
       "  0.14   0.75   0.78   1.0    0.18  …  20.28  17.39  18.63  20.35  16.26\n",
       "  0.14   0.21   0.14   0.14   0.12     21.14  17.51  19.25  20.81  16.18\n",
       "  0.35   0.02   0.07   0.07   0.41     22.89  18.7   20.94  22.96  17.79\n",
       "  ⋮                                 ⋱   ⋮                          \n",
       " 15.18  15.33  16.54  15.42  15.48      0.9    0.39   0.45   0.81   0.1\n",
       " 23.01  23.62  25.27  24.11  23.47      0.13   0.92   0.22   0.62   1.19\n",
       " 25.2   25.73  27.34  26.06  25.62  …   0.18   1.13   0.37   0.39   1.26\n",
       " 21.5   22.11  23.7   22.66  21.96      0.06   0.89   0.27   0.67   1.26\n",
       " 17.71  17.48  18.79  17.45  18.03      1.07   0.3    0.6    0.9    0.11\n",
       " 27.64  28.31  29.98  28.62  28.06      0.54   1.71   0.71   0.65   1.74\n",
       " 26.38  27.11  28.66  27.38  26.76      0.38   1.65   0.63   0.39   1.58\n",
       " 21.66  22.09  23.66  22.52  22.1   …   0.0    0.61   0.13   0.45   0.9\n",
       " 18.29  18.06  19.63  18.39  18.75      0.61   0.0    0.34   1.14   0.43\n",
       " 19.89  20.24  21.73  20.55  20.29      0.13   0.34   0.0    0.38   0.41\n",
       " 21.63  22.26  23.51  22.27  21.89      0.45   1.14   0.38   0.0    0.59\n",
       " 17.14  17.25  18.48  17.22  17.42      0.9    0.43   0.41   0.59   0.0"
      ]
     },
     "metadata": {},
     "execution_count": 25
    }
   ],
   "metadata": {}
  },
  {
   "cell_type": "markdown",
   "source": [
    "### find silhouette width"
   ],
   "metadata": {}
  },
  {
   "cell_type": "code",
   "execution_count": 26,
   "source": [
    "sil_width = Statistics.mean(Clustering.silhouettes(result, dists))"
   ],
   "outputs": [
    {
     "output_type": "execute_result",
     "data": {
      "text/plain": [
       "0.7344130579787831"
      ]
     },
     "metadata": {},
     "execution_count": 26
    }
   ],
   "metadata": {}
  },
  {
   "cell_type": "markdown",
   "source": [
    "### We did for one cluster. Now, perform analyses for multiple $k$ values"
   ],
   "metadata": {}
  },
  {
   "cell_type": "code",
   "execution_count": 27,
   "source": [
    "cl_num    = [2, 3, 4, 5, 6, 7]\n",
    "sil_width = []\n",
    "for cluster in cl_num\n",
    "    results          = Clustering.kmeans(features, cluster)\n",
    "    silhouette_width = Statistics.mean(Clustering.silhouettes(results, dists))\n",
    "    push!(sil_width, silhouette_width)\n",
    "    display(silhouette_width)\n",
    "end"
   ],
   "outputs": [
    {
     "output_type": "display_data",
     "data": {
      "text/plain": [
       "0.8503512229251473"
      ]
     },
     "metadata": {}
    },
    {
     "output_type": "display_data",
     "data": {
      "text/plain": [
       "0.7356596054332231"
      ]
     },
     "metadata": {}
    },
    {
     "output_type": "display_data",
     "data": {
      "text/plain": [
       "0.6720444682497462"
      ]
     },
     "metadata": {}
    },
    {
     "output_type": "display_data",
     "data": {
      "text/plain": [
       "0.6695344607787891"
      ]
     },
     "metadata": {}
    },
    {
     "output_type": "display_data",
     "data": {
      "text/plain": [
       "0.5546159509093365"
      ]
     },
     "metadata": {}
    },
    {
     "output_type": "display_data",
     "data": {
      "text/plain": [
       "0.4737664195937768"
      ]
     },
     "metadata": {}
    }
   ],
   "metadata": {}
  },
  {
   "cell_type": "code",
   "execution_count": 28,
   "source": [
    "Plots.plot(cl_num, sil_width, xlabel=\"No. of cluster\", ylabel=\"Silhouette width\", linewidth=2)"
   ],
   "outputs": [
    {
     "output_type": "execute_result",
     "data": {
      "application/vnd.plotly.v1+json": {
       "layout": {
        "showlegend": true,
        "xaxis": {
         "showticklabels": true,
         "gridwidth": 0.5,
         "tickvals": [
          2,
          3,
          4,
          5,
          6,
          7
         ],
         "range": [
          1.85,
          7.15
         ],
         "domain": [
          0.07646908719743364,
          0.9934383202099737
         ],
         "mirror": false,
         "tickangle": 0,
         "showline": true,
         "ticktext": [
          "2",
          "3",
          "4",
          "5",
          "6",
          "7"
         ],
         "zeroline": false,
         "tickfont": {
          "color": "rgba(0, 0, 0, 1.000)",
          "family": "sans-serif",
          "size": 11
         },
         "zerolinecolor": "rgba(0, 0, 0, 1.000)",
         "anchor": "y",
         "visible": true,
         "ticks": "inside",
         "tickmode": "array",
         "linecolor": "rgba(0, 0, 0, 1.000)",
         "showgrid": true,
         "title": "No. of cluster",
         "gridcolor": "rgba(0, 0, 0, 0.100)",
         "titlefont": {
          "color": "rgba(0, 0, 0, 1.000)",
          "family": "sans-serif",
          "size": 15
         },
         "tickcolor": "rgb(0, 0, 0)",
         "type": "-"
        },
        "paper_bgcolor": "rgba(255, 255, 255, 1.000)",
        "annotations": [],
        "height": 400,
        "margin": {
         "l": 0,
         "b": 20,
         "r": 0,
         "t": 20
        },
        "plot_bgcolor": "rgba(255, 255, 255, 1.000)",
        "yaxis": {
         "showticklabels": true,
         "gridwidth": 0.5,
         "tickvals": [
          0.5,
          0.6000000000000001,
          0.7000000000000001,
          0.8
         ],
         "range": [
          0.4624688754938357,
          0.8616487670250884
         ],
         "domain": [
          0.07581474190726165,
          0.9901574803149606
         ],
         "mirror": false,
         "tickangle": 0,
         "showline": true,
         "ticktext": [
          "0.5",
          "0.6",
          "0.7",
          "0.8"
         ],
         "zeroline": false,
         "tickfont": {
          "color": "rgba(0, 0, 0, 1.000)",
          "family": "sans-serif",
          "size": 11
         },
         "zerolinecolor": "rgba(0, 0, 0, 1.000)",
         "anchor": "x",
         "visible": true,
         "ticks": "inside",
         "tickmode": "array",
         "linecolor": "rgba(0, 0, 0, 1.000)",
         "showgrid": true,
         "title": "Silhouette width",
         "gridcolor": "rgba(0, 0, 0, 0.100)",
         "titlefont": {
          "color": "rgba(0, 0, 0, 1.000)",
          "family": "sans-serif",
          "size": 15
         },
         "tickcolor": "rgb(0, 0, 0)",
         "type": "-"
        },
        "legend": {
         "yanchor": "auto",
         "xanchor": "auto",
         "bordercolor": "rgba(0, 0, 0, 1.000)",
         "bgcolor": "rgba(255, 255, 255, 1.000)",
         "borderwidth": 1,
         "tracegroupgap": 0,
         "y": 1,
         "font": {
          "color": "rgba(0, 0, 0, 1.000)",
          "family": "sans-serif",
          "size": 11
         },
         "title": {
          "font": {
           "color": "rgba(0, 0, 0, 1.000)",
           "family": "sans-serif",
           "size": 15
          },
          "text": ""
         },
         "traceorder": "normal",
         "x": 1
        },
        "width": 600
       },
       "data": [
        {
         "xaxis": "x",
         "colorbar": {
          "title": ""
         },
         "yaxis": "y",
         "x": [
          2,
          3,
          4,
          5,
          6,
          7
         ],
         "showlegend": true,
         "mode": "lines",
         "name": "y1",
         "zmin": null,
         "legendgroup": "y1",
         "zmax": null,
         "line": {
          "color": "rgba(0, 154, 250, 1.000)",
          "shape": "linear",
          "dash": "solid",
          "width": 2
         },
         "y": [
          0.8503512229251473,
          0.7356596054332231,
          0.6720444682497462,
          0.6695344607787891,
          0.5546159509093365,
          0.4737664195937768
         ],
         "type": "scatter"
        }
       ]
      },
      "text/html": [
       "    <div id=\"5447dea8-0473-4b37-a431-3f977420deca\" style=\"width:600px;height:400px;\"></div>\n",
       "    <script>\n",
       "        requirejs.config({\n",
       "        paths: {\n",
       "            Plotly: 'https://cdn.plot.ly/plotly-1.57.1.min'\n",
       "        }\n",
       "    });\n",
       "    require(['Plotly'], function (Plotly) {\n",
       "\n",
       "        var PLOT = document.getElementById('5447dea8-0473-4b37-a431-3f977420deca');\n",
       "    Plotly.plot(PLOT, [\n",
       "    {\n",
       "        \"xaxis\": \"x\",\n",
       "        \"colorbar\": {\n",
       "            \"title\": \"\"\n",
       "        },\n",
       "        \"yaxis\": \"y\",\n",
       "        \"x\": [\n",
       "            2.0,\n",
       "            3.0,\n",
       "            4.0,\n",
       "            5.0,\n",
       "            6.0,\n",
       "            7.0\n",
       "        ],\n",
       "        \"showlegend\": true,\n",
       "        \"mode\": \"lines\",\n",
       "        \"name\": \"y1\",\n",
       "        \"zmin\": null,\n",
       "        \"legendgroup\": \"y1\",\n",
       "        \"zmax\": null,\n",
       "        \"line\": {\n",
       "            \"color\": \"rgba(0, 154, 250, 1.000)\",\n",
       "            \"shape\": \"linear\",\n",
       "            \"dash\": \"solid\",\n",
       "            \"width\": 2\n",
       "        },\n",
       "        \"y\": [\n",
       "            0.8503512229251473,\n",
       "            0.7356596054332231,\n",
       "            0.6720444682497462,\n",
       "            0.6695344607787891,\n",
       "            0.5546159509093365,\n",
       "            0.4737664195937768\n",
       "        ],\n",
       "        \"type\": \"scatter\"\n",
       "    }\n",
       "]\n",
       ", {\n",
       "    \"showlegend\": true,\n",
       "    \"xaxis\": {\n",
       "        \"showticklabels\": true,\n",
       "        \"gridwidth\": 0.5,\n",
       "        \"tickvals\": [\n",
       "            2.0,\n",
       "            3.0,\n",
       "            4.0,\n",
       "            5.0,\n",
       "            6.0,\n",
       "            7.0\n",
       "        ],\n",
       "        \"range\": [\n",
       "            1.85,\n",
       "            7.15\n",
       "        ],\n",
       "        \"domain\": [\n",
       "            0.07646908719743364,\n",
       "            0.9934383202099737\n",
       "        ],\n",
       "        \"mirror\": false,\n",
       "        \"tickangle\": 0,\n",
       "        \"showline\": true,\n",
       "        \"ticktext\": [\n",
       "            \"2\",\n",
       "            \"3\",\n",
       "            \"4\",\n",
       "            \"5\",\n",
       "            \"6\",\n",
       "            \"7\"\n",
       "        ],\n",
       "        \"zeroline\": false,\n",
       "        \"tickfont\": {\n",
       "            \"color\": \"rgba(0, 0, 0, 1.000)\",\n",
       "            \"family\": \"sans-serif\",\n",
       "            \"size\": 11\n",
       "        },\n",
       "        \"zerolinecolor\": \"rgba(0, 0, 0, 1.000)\",\n",
       "        \"anchor\": \"y\",\n",
       "        \"visible\": true,\n",
       "        \"ticks\": \"inside\",\n",
       "        \"tickmode\": \"array\",\n",
       "        \"linecolor\": \"rgba(0, 0, 0, 1.000)\",\n",
       "        \"showgrid\": true,\n",
       "        \"title\": \"No. of cluster\",\n",
       "        \"gridcolor\": \"rgba(0, 0, 0, 0.100)\",\n",
       "        \"titlefont\": {\n",
       "            \"color\": \"rgba(0, 0, 0, 1.000)\",\n",
       "            \"family\": \"sans-serif\",\n",
       "            \"size\": 15\n",
       "        },\n",
       "        \"tickcolor\": \"rgb(0, 0, 0)\",\n",
       "        \"type\": \"-\"\n",
       "    },\n",
       "    \"paper_bgcolor\": \"rgba(255, 255, 255, 1.000)\",\n",
       "    \"annotations\": [],\n",
       "    \"height\": 400,\n",
       "    \"margin\": {\n",
       "        \"l\": 0,\n",
       "        \"b\": 20,\n",
       "        \"r\": 0,\n",
       "        \"t\": 20\n",
       "    },\n",
       "    \"plot_bgcolor\": \"rgba(255, 255, 255, 1.000)\",\n",
       "    \"yaxis\": {\n",
       "        \"showticklabels\": true,\n",
       "        \"gridwidth\": 0.5,\n",
       "        \"tickvals\": [\n",
       "            0.5,\n",
       "            0.6000000000000001,\n",
       "            0.7000000000000001,\n",
       "            0.8\n",
       "        ],\n",
       "        \"range\": [\n",
       "            0.4624688754938357,\n",
       "            0.8616487670250884\n",
       "        ],\n",
       "        \"domain\": [\n",
       "            0.07581474190726165,\n",
       "            0.9901574803149606\n",
       "        ],\n",
       "        \"mirror\": false,\n",
       "        \"tickangle\": 0,\n",
       "        \"showline\": true,\n",
       "        \"ticktext\": [\n",
       "            \"0.5\",\n",
       "            \"0.6\",\n",
       "            \"0.7\",\n",
       "            \"0.8\"\n",
       "        ],\n",
       "        \"zeroline\": false,\n",
       "        \"tickfont\": {\n",
       "            \"color\": \"rgba(0, 0, 0, 1.000)\",\n",
       "            \"family\": \"sans-serif\",\n",
       "            \"size\": 11\n",
       "        },\n",
       "        \"zerolinecolor\": \"rgba(0, 0, 0, 1.000)\",\n",
       "        \"anchor\": \"x\",\n",
       "        \"visible\": true,\n",
       "        \"ticks\": \"inside\",\n",
       "        \"tickmode\": \"array\",\n",
       "        \"linecolor\": \"rgba(0, 0, 0, 1.000)\",\n",
       "        \"showgrid\": true,\n",
       "        \"title\": \"Silhouette width\",\n",
       "        \"gridcolor\": \"rgba(0, 0, 0, 0.100)\",\n",
       "        \"titlefont\": {\n",
       "            \"color\": \"rgba(0, 0, 0, 1.000)\",\n",
       "            \"family\": \"sans-serif\",\n",
       "            \"size\": 15\n",
       "        },\n",
       "        \"tickcolor\": \"rgb(0, 0, 0)\",\n",
       "        \"type\": \"-\"\n",
       "    },\n",
       "    \"legend\": {\n",
       "        \"yanchor\": \"auto\",\n",
       "        \"xanchor\": \"auto\",\n",
       "        \"bordercolor\": \"rgba(0, 0, 0, 1.000)\",\n",
       "        \"bgcolor\": \"rgba(255, 255, 255, 1.000)\",\n",
       "        \"borderwidth\": 1,\n",
       "        \"tracegroupgap\": 0,\n",
       "        \"y\": 1.0,\n",
       "        \"font\": {\n",
       "            \"color\": \"rgba(0, 0, 0, 1.000)\",\n",
       "            \"family\": \"sans-serif\",\n",
       "            \"size\": 11\n",
       "        },\n",
       "        \"title\": {\n",
       "            \"font\": {\n",
       "                \"color\": \"rgba(0, 0, 0, 1.000)\",\n",
       "                \"family\": \"sans-serif\",\n",
       "                \"size\": 15\n",
       "            },\n",
       "            \"text\": \"\"\n",
       "        },\n",
       "        \"traceorder\": \"normal\",\n",
       "        \"x\": 1.0\n",
       "    },\n",
       "    \"width\": 600\n",
       "}\n",
       ");\n",
       "\n",
       "    });\n",
       "    </script>\n"
      ]
     },
     "metadata": {},
     "execution_count": 28
    }
   ],
   "metadata": {}
  },
  {
   "cell_type": "markdown",
   "source": [
    "### Here, $k = 2$ has highest Silhouette value. However, three is the closest to two. From my experience, $k=2$ provides highest silhouette width than larger $k$ values. Potential cause is two cluster can easilty demarcate the boundaries in a dataset. However, it does not mean that they represent the data accurately. So, it is better to look for $k$ value greater than `two`. Here, $k=3$ does it and also the actual data also has `three` distinct classification."
   ],
   "metadata": {}
  },
  {
   "cell_type": "markdown",
   "source": [
    "## DBSCAN (density-based spatial clustering of applications with noise)\n",
    "\n",
    "DBSCAN extracts clusters that are subsets of the given set of points and satisfy the following properties:\n",
    "- All points within the cluster are mutually density-connected, meaning that for any two distinct points $p$ and $q$ in a cluster, there exists a point $o$ sucht that both $p$ and $q$ are density reachable from $o$.\n",
    "- If a point is density-connected to any point of a cluster, it is also part of that cluster.\n",
    "- clusters with less than 20 points will be discarded:"
   ],
   "metadata": {}
  },
  {
   "cell_type": "code",
   "execution_count": 29,
   "source": [
    "points = randn(3, 1000)\n",
    "#clusters = Clustering.dbscan(features, 0.05, min_neighbors = 3, min_cluster_size = 20)\n",
    "clusters = Clustering.dbscan(points, 0.05, min_neighbors = 4)"
   ],
   "outputs": [
    {
     "output_type": "execute_result",
     "data": {
      "text/plain": [
       "1000-element Vector{Clustering.DbscanCluster}:\n",
       " Clustering.DbscanCluster(1, Int64[], [1])\n",
       " Clustering.DbscanCluster(1, Int64[], [2])\n",
       " Clustering.DbscanCluster(1, Int64[], [3])\n",
       " Clustering.DbscanCluster(1, Int64[], [4])\n",
       " Clustering.DbscanCluster(1, Int64[], [5])\n",
       " Clustering.DbscanCluster(1, Int64[], [6])\n",
       " Clustering.DbscanCluster(1, Int64[], [7])\n",
       " Clustering.DbscanCluster(1, Int64[], [8])\n",
       " Clustering.DbscanCluster(1, Int64[], [9])\n",
       " Clustering.DbscanCluster(1, Int64[], [10])\n",
       " Clustering.DbscanCluster(1, Int64[], [11])\n",
       " Clustering.DbscanCluster(1, Int64[], [12])\n",
       " Clustering.DbscanCluster(1, Int64[], [13])\n",
       " ⋮\n",
       " Clustering.DbscanCluster(1, Int64[], [989])\n",
       " Clustering.DbscanCluster(1, Int64[], [990])\n",
       " Clustering.DbscanCluster(1, Int64[], [991])\n",
       " Clustering.DbscanCluster(1, Int64[], [992])\n",
       " Clustering.DbscanCluster(1, Int64[], [993])\n",
       " Clustering.DbscanCluster(1, Int64[], [994])\n",
       " Clustering.DbscanCluster(1, Int64[], [995])\n",
       " Clustering.DbscanCluster(1, Int64[], [996])\n",
       " Clustering.DbscanCluster(1, Int64[], [997])\n",
       " Clustering.DbscanCluster(1, Int64[], [998])\n",
       " Clustering.DbscanCluster(1, Int64[], [999])\n",
       " Clustering.DbscanCluster(1, Int64[], [1000])"
      ]
     },
     "metadata": {},
     "execution_count": 29
    }
   ],
   "metadata": {}
  },
  {
   "cell_type": "code",
   "execution_count": null,
   "source": [],
   "outputs": [],
   "metadata": {}
  }
 ],
 "metadata": {
  "kernelspec": {
   "display_name": "Julia 1.6.2",
   "language": "julia",
   "name": "julia-1.6"
  },
  "language_info": {
   "file_extension": ".jl",
   "mimetype": "application/julia",
   "name": "julia",
   "version": "1.6.2"
  }
 },
 "nbformat": 4,
 "nbformat_minor": 5
}