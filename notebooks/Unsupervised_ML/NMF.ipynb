{
 "cells": [
  {
   "cell_type": "markdown",
   "id": "dd1bc00c",
   "metadata": {},
   "source": [
    "Notebook on NMF: Non-negative Matrix Factorization\n",
    "---\n",
    "\n",
    "**NMF** splits up a non-negative data matrix ($\\mathbf{X}$) into two smaller rank matrices $\\mathbf{W}$ and $\\mathbf{H}$\n",
    "It minimizes the following function:\n",
    "\n",
    "$$\n",
    "\\Vert \\mathbf{X} - \\mathbf{W} \\times \\mathbf{H} \\Vert_2\n",
    "$$\n",
    "\n",
    "**NMF** starts with either random or specified initialization of $\\mathbf{W}$ and $\\mathbf{H}$.\n",
    "\n",
    "Finally, **NMF** estimates $\\mathbf{W}$ and $\\mathbf{H}$ that approvimate $\\mathbf{X}$."
   ]
  },
  {
   "cell_type": "markdown",
   "id": "2ac2e57a",
   "metadata": {},
   "source": [
    "### NMF package in Julia has several factorization algorithms such as:\n",
    "- greedy coordinate descent (default)\n",
    "- multiplicative update (using mean square error [MSE] or divergence as objective)\n",
    "- projected alternate least square\n",
    "- alternate least square using projected gradient descent\n",
    "- fast hierarchical alternating least square\n",
    "- successive projection algorithm"
   ]
  },
  {
   "cell_type": "markdown",
   "id": "b6890dfe",
   "metadata": {},
   "source": [
    "### Julia has also several initialization scheme including the capability of using custom initialization"
   ]
  },
  {
   "cell_type": "code",
<<<<<<< HEAD
   "execution_count": null,
   "id": "77ec1f97",
   "metadata": {},
=======
   "execution_count": 2,
   "source": [
    "import NMF, Plots, Statistics, RDatasets"
   ],
>>>>>>> 6030df3bb4265399fccf8dee6ea20b19e60ea1db
   "outputs": [],
   "source": [
    "import NMF, Plots, Statistics, RDatasets\n",
    "import Random\n",
    "Random.seed!(2021)"
   ]
  },
  {
   "cell_type": "code",
<<<<<<< HEAD
   "execution_count": null,
   "id": "e7b664a3",
   "metadata": {},
   "outputs": [],
=======
   "execution_count": 3,
>>>>>>> 6030df3bb4265399fccf8dee6ea20b19e60ea1db
   "source": [
    "iris = RDatasets.dataset(\"datasets\", \"iris\");\n",
    "X = Matrix(iris[:, 1:4]);"
   ]
  },
  {
   "cell_type": "markdown",
   "id": "83b519c7",
   "metadata": {},
   "source": [
    "### NMF using high-level function call (NMF.nnmf):"
   ]
  },
  {
   "cell_type": "code",
<<<<<<< HEAD
   "execution_count": null,
   "id": "bfb94c94",
   "metadata": {},
   "outputs": [],
=======
   "execution_count": 4,
>>>>>>> 6030df3bb4265399fccf8dee6ea20b19e60ea1db
   "source": [
    "k = 3\n",
    "nmfresults = NMF.nnmf(X, k; alg=:multmse, maxiter=30, tol=1.0e-4)\n",
    "W = nmfresults.W\n",
    "H = nmfresults.H\n",
    "println(\"NMF iterations:\", nmfresults.niters)\n",
    "println(\"NMF convergence: \", nmfresults.converged)\n",
    "println(\"NMF objective function: \", nmfresults.objvalue)"
<<<<<<< HEAD
   ]
=======
   ],
   "outputs": [
    {
     "output_type": "stream",
     "name": "stdout",
     "text": [
      "NMF iterations:30\n",
      "NMF convergence: false\n",
      "NMF objective function: 11.665070148710647\n"
     ]
    }
   ],
   "metadata": {}
>>>>>>> 6030df3bb4265399fccf8dee6ea20b19e60ea1db
  },
  {
   "cell_type": "markdown",
   "id": "8854ad0f",
   "metadata": {},
   "source": [
    "### NMF using multiplicative update (MSE) with random initial guesses:"
   ]
  },
  {
   "cell_type": "code",
<<<<<<< HEAD
   "execution_count": null,
   "id": "f4820710",
   "metadata": {},
   "outputs": [],
=======
   "execution_count": 5,
>>>>>>> 6030df3bb4265399fccf8dee6ea20b19e60ea1db
   "source": [
    "\n",
    "W, H = NMF.randinit(X, k)\n",
    "nmfresults = NMF.solve!(NMF.MultUpdate{Float64}(obj=:mse, maxiter=1000), X, W, H)\n",
    "println(\"NMF iterations:\", nmfresults.niters)\n",
    "println(\"NMF convergence: \", nmfresults.converged)\n",
    "println(\"NMF objective function: \", nmfresults.objvalue)"
<<<<<<< HEAD
   ]
=======
   ],
   "outputs": [
    {
     "output_type": "stream",
     "name": "stdout",
     "text": [
      "NMF iterations:1000\n",
      "NMF convergence: false\n",
      "NMF objective function: 1.8813395547160954\n"
     ]
    }
   ],
   "metadata": {}
>>>>>>> 6030df3bb4265399fccf8dee6ea20b19e60ea1db
  },
  {
   "cell_type": "markdown",
   "id": "2332d90d",
   "metadata": {},
   "source": [
    "### NMF using multiplicative update (divergence) with random initial guesses:"
   ]
  },
  {
   "cell_type": "code",
<<<<<<< HEAD
   "execution_count": null,
   "id": "cf25c175",
   "metadata": {},
   "outputs": [],
=======
   "execution_count": 6,
>>>>>>> 6030df3bb4265399fccf8dee6ea20b19e60ea1db
   "source": [
    "W, H = NMF.randinit(X, k)\n",
    "nmfresults = NMF.solve!(NMF.MultUpdate{Float64}(obj=:div, maxiter=1000), X, W, H)\n",
    "println(\"NMF iterations:\", nmfresults.niters)\n",
    "println(\"NMF convergence: \", nmfresults.converged)\n",
    "println(\"NMF objective function: \", nmfresults.objvalue)"
<<<<<<< HEAD
   ]
=======
   ],
   "outputs": [
    {
     "output_type": "stream",
     "name": "stdout",
     "text": [
      "NMF iterations:1000\n",
      "NMF convergence: false\n",
      "NMF objective function: 0.6689160650621442\n"
     ]
    }
   ],
   "metadata": {}
>>>>>>> 6030df3bb4265399fccf8dee6ea20b19e60ea1db
  },
  {
   "cell_type": "markdown",
   "id": "e1cbfdd6",
   "metadata": {},
   "source": [
    "### NMF using greedy coordinate descent witn SVD informed initial guesses:"
   ]
  },
  {
   "cell_type": "code",
<<<<<<< HEAD
   "execution_count": null,
   "id": "0ecb2c00",
   "metadata": {},
   "outputs": [],
=======
   "execution_count": 7,
>>>>>>> 6030df3bb4265399fccf8dee6ea20b19e60ea1db
   "source": [
    "W, H = NMF.nndsvd(X, k, variant=:ar)\n",
    "nmfresults = NMF.solve!(NMF.GreedyCD{Float64}(maxiter=1000), X, W, H)\n",
    "println(\"NMF iterations:\", nmfresults.niters)\n",
    "println(\"NMF convergence: \", nmfresults.converged)\n",
    "println(\"NMF objective function: \", nmfresults.objvalue)"
<<<<<<< HEAD
   ]
=======
   ],
   "outputs": [
    {
     "output_type": "stream",
     "name": "stdout",
     "text": [
      "NMF iterations:909\n",
      "NMF convergence: true\n",
      "NMF objective function: 1.776285153901337\n"
     ]
    }
   ],
   "metadata": {}
>>>>>>> 6030df3bb4265399fccf8dee6ea20b19e60ea1db
  },
  {
   "cell_type": "markdown",
   "id": "39681aa7",
   "metadata": {},
   "source": [
    "### NMF using successive projection algorithm"
   ]
  },
  {
   "cell_type": "code",
<<<<<<< HEAD
   "execution_count": null,
   "id": "9a7c5a1a",
   "metadata": {},
   "outputs": [],
=======
   "execution_count": 8,
>>>>>>> 6030df3bb4265399fccf8dee6ea20b19e60ea1db
   "source": [
    "W, H = NMF.spa(X, k)\n",
    "nmfresults = NMF.solve!(NMF.SPA{Float64}(obj=:mse), X, W, H)\n",
    "println(\"NMF iterations:\", nmfresults.niters)\n",
    "println(\"NMF convergence: \", nmfresults.converged)\n",
    "println(\"NMF objective function: \", nmfresults.objvalue)"
<<<<<<< HEAD
   ]
=======
   ],
   "outputs": [
    {
     "output_type": "stream",
     "name": "stdout",
     "text": [
      "NMF iterations:0\n",
      "NMF convergence: true\n",
      "NMF objective function: 12.733601899146047\n"
     ]
    }
   ],
   "metadata": {}
>>>>>>> 6030df3bb4265399fccf8dee6ea20b19e60ea1db
  }
 ],
 "metadata": {
  "kernelspec": {
   "display_name": "Julia 1.6.2",
   "language": "julia",
   "name": "julia-1.6"
  },
  "language_info": {
   "file_extension": ".jl",
   "mimetype": "application/julia",
   "name": "julia",
   "version": "1.6.2"
  }
 },
 "nbformat": 4,
 "nbformat_minor": 5
}
